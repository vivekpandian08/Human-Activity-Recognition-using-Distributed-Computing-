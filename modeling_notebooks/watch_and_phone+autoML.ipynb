{
 "cells": [
  {
   "cell_type": "code",
   "execution_count": 22,
   "metadata": {},
   "outputs": [
    {
     "data": {
      "application/vnd.jupyter.widget-view+json": {
       "model_id": "ef85e0e6436d4adb9bdfe7e128ad229f",
       "version_major": 2,
       "version_minor": 0
      },
      "text/plain": [
       "VBox()"
      ]
     },
     "metadata": {},
     "output_type": "display_data"
    },
    {
     "data": {
      "application/vnd.jupyter.widget-view+json": {
       "model_id": "",
       "version_major": 2,
       "version_minor": 0
      },
      "text/plain": [
       "FloatProgress(value=0.0, bar_style='info', description='Progress:', layout=Layout(height='25px', width='50%'),…"
      ]
     },
     "metadata": {},
     "output_type": "display_data"
    },
    {
     "name": "stdout",
     "output_type": "stream",
     "text": [
      "Collecting h2o-pysparkling-2.4\n",
      "  Downloading https://files.pythonhosted.org/packages/a0/4c/0b5c5f2e76d84a7b54875a14cf79523714c49f077d33af21ea9418b54abf/h2o_pysparkling_2.4-3.28.0.1-1.tar.gz (101.2MB)\n",
      "Collecting requests\n",
      "  Downloading https://files.pythonhosted.org/packages/51/bd/23c926cd341ea6b7dd0b2a00aba99ae0f828be89d72b2190f27c11d4b7fb/requests-2.22.0-py2.py3-none-any.whl (57kB)\n",
      "Collecting tabulate\n",
      "  Downloading https://files.pythonhosted.org/packages/c4/41/523f6a05e6dc3329a5660f6a81254c6cd87e5cfb5b7482bae3391d86ec3a/tabulate-0.8.6.tar.gz (45kB)\n",
      "Collecting future\n",
      "  Downloading https://files.pythonhosted.org/packages/45/0b/38b06fd9b92dc2b68d58b75f900e97884c45bedd2ff83203d933cf5851c9/future-0.18.2.tar.gz (829kB)\n",
      "Collecting colorama>=0.3.8\n",
      "  Downloading https://files.pythonhosted.org/packages/c9/dc/45cdef1b4d119eb96316b3117e6d5708a08029992b2fee2c143c7a0a5cc5/colorama-0.4.3-py2.py3-none-any.whl\n",
      "Requirement already satisfied: numpy>=1.9.2 in /usr/local/lib64/python3.6/site-packages (from h2o-pysparkling-2.4) (1.14.5)\n",
      "Collecting pyspark<=2.4.4,>=2.4.0\n",
      "  Downloading https://files.pythonhosted.org/packages/87/21/f05c186f4ddb01d15d0ddc36ef4b7e3cedbeb6412274a41f26b55a650ee5/pyspark-2.4.4.tar.gz (215.7MB)\n",
      "Collecting idna<2.9,>=2.5\n",
      "  Downloading https://files.pythonhosted.org/packages/14/2c/cd551d81dbe15200be1cf41cd03869a46fe7226e7450af7a6545bfc474c9/idna-2.8-py2.py3-none-any.whl (58kB)\n",
      "Collecting certifi>=2017.4.17\n",
      "  Downloading https://files.pythonhosted.org/packages/b9/63/df50cac98ea0d5b006c55a399c3bf1db9da7b5a24de7890bc9cfd5dd9e99/certifi-2019.11.28-py2.py3-none-any.whl (156kB)\n",
      "Collecting urllib3!=1.25.0,!=1.25.1,<1.26,>=1.21.1\n",
      "  Downloading https://files.pythonhosted.org/packages/b4/40/a9837291310ee1ccc242ceb6ebfd9eb21539649f193a7c8c86ba15b98539/urllib3-1.25.7-py2.py3-none-any.whl (125kB)\n",
      "Collecting chardet<3.1.0,>=3.0.2\n",
      "  Downloading https://files.pythonhosted.org/packages/bc/a9/01ffebfb562e4274b6487b4bb1ddec7ca55ec7510b22e4c51f14098443b8/chardet-3.0.4-py2.py3-none-any.whl (133kB)\n",
      "Collecting py4j==0.10.7\n",
      "  Downloading https://files.pythonhosted.org/packages/e3/53/c737818eb9a7dc32a7cd4f1396e787bd94200c3997c72c1dbe028587bd76/py4j-0.10.7-py2.py3-none-any.whl (197kB)\n",
      "Building wheels for collected packages: h2o-pysparkling-2.4, tabulate, future, pyspark\n",
      "  Building wheel for h2o-pysparkling-2.4 (setup.py): started\n",
      "  Building wheel for h2o-pysparkling-2.4 (setup.py): finished with status 'done'\n",
      "  Created wheel for h2o-pysparkling-2.4: filename=h2o_pysparkling_2.4-3.28.0.1.post1-py2.py3-none-any.whl size=101307807 sha256=3fe423433b403105dcb5b2f425031a6cb0a317de22e3e02fc6df4c278a7c3a6f\n",
      "  Stored in directory: /var/lib/livy/.cache/pip/wheels/0d/2f/d2/7e0c36c53b57ca597430858ab3d72e1a612a10780016ff6765\n",
      "  Building wheel for tabulate (setup.py): started\n",
      "  Building wheel for tabulate (setup.py): finished with status 'done'\n",
      "  Created wheel for tabulate: filename=tabulate-0.8.6-cp36-none-any.whl size=23271 sha256=a2ee13f4f385e847f502fd443dee3ec38466b51f5ab106a63e8aa0cc2bd50723\n",
      "  Stored in directory: /var/lib/livy/.cache/pip/wheels/9c/9b/f4/eb243fdb89676ec00588e8c54bb54360724c06e7fafe95278e\n",
      "  Building wheel for future (setup.py): started\n",
      "  Building wheel for future (setup.py): finished with status 'done'\n",
      "  Created wheel for future: filename=future-0.18.2-cp36-none-any.whl size=491057 sha256=ad70acd653d941af8b1e8d41bdca22dfa4e999c13777d793f3249303080354b7\n",
      "  Stored in directory: /var/lib/livy/.cache/pip/wheels/8b/99/a0/81daf51dcd359a9377b110a8a886b3895921802d2fc1b2397e\n",
      "  Building wheel for pyspark (setup.py): started\n",
      "  Building wheel for pyspark (setup.py): finished with status 'done'\n",
      "  Created wheel for pyspark: filename=pyspark-2.4.4-py2.py3-none-any.whl size=216130387 sha256=a6c31c0351397253c521704f762fef1091cf28f20ce9cb707633002bce3542ac\n",
      "  Stored in directory: /var/lib/livy/.cache/pip/wheels/ab/09/4d/0d184230058e654eb1b04467dbc1292f00eaa186544604b471\n",
      "Successfully built h2o-pysparkling-2.4 tabulate future pyspark\n",
      "Installing collected packages: idna, certifi, urllib3, chardet, requests, tabulate, future, colorama, py4j, pyspark, h2o-pysparkling-2.4\n",
      "Successfully installed certifi-2019.11.28 chardet-3.0.4 colorama-0.4.3 future-0.18.2 h2o-pysparkling-2.4-3.28.0.1.post1 idna-2.8 py4j-0.10.7 pyspark-2.4.4 requests-2.22.0 tabulate-0.8.6 urllib3-1.25.7\n",
      "\n",
      "Collecting h2o\n",
      "  Downloading https://files.pythonhosted.org/packages/6b/d1/aaa74df4716b2454d6034261807ef3855d014862c801f0e9b803b568006d/h2o-3.28.0.1.tar.gz (123.4MB)\n",
      "Requirement already satisfied: requests in /mnt/tmp/1579216479708-0/lib/python3.6/site-packages (from h2o) (2.22.0)\n",
      "Requirement already satisfied: tabulate in /mnt/tmp/1579216479708-0/lib/python3.6/site-packages (from h2o) (0.8.6)\n",
      "Requirement already satisfied: future in /mnt/tmp/1579216479708-0/lib/python3.6/site-packages (from h2o) (0.18.2)\n",
      "Requirement already satisfied: colorama>=0.3.8 in /mnt/tmp/1579216479708-0/lib/python3.6/site-packages (from h2o) (0.4.3)\n",
      "Requirement already satisfied: idna<2.9,>=2.5 in /mnt/tmp/1579216479708-0/lib/python3.6/site-packages (from requests->h2o) (2.8)\n",
      "Requirement already satisfied: certifi>=2017.4.17 in /mnt/tmp/1579216479708-0/lib/python3.6/site-packages (from requests->h2o) (2019.11.28)\n",
      "Requirement already satisfied: urllib3!=1.25.0,!=1.25.1,<1.26,>=1.21.1 in /mnt/tmp/1579216479708-0/lib/python3.6/site-packages (from requests->h2o) (1.25.7)\n",
      "Requirement already satisfied: chardet<3.1.0,>=3.0.2 in /mnt/tmp/1579216479708-0/lib/python3.6/site-packages (from requests->h2o) (3.0.4)\n",
      "Building wheels for collected packages: h2o\n",
      "  Building wheel for h2o (setup.py): started\n",
      "  Building wheel for h2o (setup.py): finished with status 'done'\n",
      "  Created wheel for h2o: filename=h2o-3.28.0.1-py2.py3-none-any.whl size=123410554 sha256=7d8e0c62bfb983ebfd955df864809adcb6fd16074fcea9980d302c55f1975b8f\n",
      "  Stored in directory: /var/lib/livy/.cache/pip/wheels/ff/82/f4/3fe9c895b93c53b25ae44dc44aa54dad571c711f48bc485fe9\n",
      "Successfully built h2o\n",
      "Installing collected packages: h2o\n",
      "Successfully installed h2o-3.28.0.1\n",
      "\n",
      "Package                    Version       \n",
      "-------------------------- --------------\n",
      "beautifulsoup4             4.8.1         \n",
      "boto                       2.49.0        \n",
      "certifi                    2019.11.28    \n",
      "chardet                    3.0.4         \n",
      "colorama                   0.4.3         \n",
      "future                     0.18.2        \n",
      "h2o                        3.28.0.1      \n",
      "h2o-pysparkling-2.4        3.28.0.1.post1\n",
      "idna                       2.8           \n",
      "jmespath                   0.9.4         \n",
      "lxml                       4.4.1         \n",
      "mysqlclient                1.4.4         \n",
      "nltk                       3.4.5         \n",
      "nose                       1.3.4         \n",
      "numpy                      1.14.5        \n",
      "pip                        19.3.1        \n",
      "py-dateutil                2.2           \n",
      "py4j                       0.10.7        \n",
      "pyspark                    2.4.4         \n",
      "python36-sagemaker-pyspark 1.2.6         \n",
      "pytz                       2019.3        \n",
      "PyYAML                     3.11          \n",
      "requests                   2.22.0        \n",
      "setuptools                 45.0.0        \n",
      "six                        1.12.0        \n",
      "soupsieve                  1.9.4         \n",
      "tabulate                   0.8.6         \n",
      "urllib3                    1.25.7        \n",
      "wheel                      0.33.6        \n",
      "windmill                   1.6           \n",
      "\n",
      "ERROR: python36-sagemaker-pyspark 1.2.6 has requirement pyspark==2.3.2, but you'll have pyspark 2.4.4 which is incompatible."
     ]
    }
   ],
   "source": [
    "sc.install_pypi_package(\"h2o-pysparkling-2.4\")\n",
    "sc.install_pypi_package(\"h2o\")\n",
    "sc.list_packages()"
   ]
  },
  {
   "cell_type": "code",
   "execution_count": 27,
   "metadata": {},
   "outputs": [
    {
     "data": {
      "application/vnd.jupyter.widget-view+json": {
       "model_id": "66e8bd0b1098440b943df687e988198f",
       "version_major": 2,
       "version_minor": 0
      },
      "text/plain": [
       "VBox()"
      ]
     },
     "metadata": {},
     "output_type": "display_data"
    },
    {
     "data": {
      "application/vnd.jupyter.widget-view+json": {
       "model_id": "",
       "version_major": 2,
       "version_minor": 0
      },
      "text/plain": [
       "FloatProgress(value=0.0, bar_style='info', description='Progress:', layout=Layout(height='25px', width='50%'),…"
      ]
     },
     "metadata": {},
     "output_type": "display_data"
    },
    {
     "name": "stdout",
     "output_type": "stream",
     "text": [
      "Connecting to H2O server at http://ip-172-31-27-47.ec2.internal:54321 ... successful.\n",
      "--------------------------  ------------------------------------------------------------------\n",
      "H2O cluster uptime:         08 secs\n",
      "H2O cluster timezone:       Etc/UCT\n",
      "H2O data parsing timezone:  UTC\n",
      "H2O cluster version:        3.28.0.1\n",
      "H2O cluster version age:    1 month\n",
      "H2O cluster name:           sparkling-water-livy_application_1579215811009_0001\n",
      "H2O cluster total nodes:    4\n",
      "H2O cluster free memory:    36.92 Gb\n",
      "H2O cluster total cores:    16\n",
      "H2O cluster allowed cores:  16\n",
      "H2O cluster status:         accepting new members, healthy\n",
      "H2O connection url:         http://ip-172-31-27-47.ec2.internal:54321\n",
      "H2O connection proxy:\n",
      "H2O internal security:      False\n",
      "H2O API Extensions:         XGBoost, Algos, Amazon S3, AutoML, Core V3, TargetEncoder, Core V4\n",
      "Python version:             3.6.8 final\n",
      "--------------------------  ------------------------------------------------------------------\n",
      "\n",
      "Sparkling Water Context:\n",
      " * Sparkling Water Version: 3.28.0.1-1-2.4\n",
      " * H2O name: sparkling-water-livy_application_1579215811009_0001\n",
      " * cluster size: 4\n",
      " * list of used nodes:\n",
      "  (executorId, host, port)\n",
      "  ------------------------\n",
      "  (7,172.31.16.249,54321)\n",
      "  (6,172.31.22.179,54321)\n",
      "  (8,172.31.30.186,54321)\n",
      "  (5,172.31.19.126,54321)\n",
      "  ------------------------\n",
      "\n",
      "  Open H2O Flow in browser: http://ip-172-31-27-47.ec2.internal:54321 (CMD + click in Mac OSX)\n",
      "\n",
      "    \n",
      " * Yarn App ID of Spark application: application_1579215811009_0001"
     ]
    }
   ],
   "source": [
    "import pyspark\n",
    "ss = pyspark.sql.SparkSession.builder.master('yarn')\\\n",
    ".config(\"spark.dynamicAllocation.enabled\", True)\\\n",
    ".getOrCreate()\n",
    "from pysparkling import *\n",
    "import h2o\n",
    "hc = H2OContext.getOrCreate(ss)"
   ]
  },
  {
   "cell_type": "code",
   "execution_count": 28,
   "metadata": {},
   "outputs": [
    {
     "data": {
      "application/vnd.jupyter.widget-view+json": {
       "model_id": "3abd5a80adf24ce99bfac7086b33f84a",
       "version_major": 2,
       "version_minor": 0
      },
      "text/plain": [
       "VBox()"
      ]
     },
     "metadata": {},
     "output_type": "display_data"
    },
    {
     "data": {
      "application/vnd.jupyter.widget-view+json": {
       "model_id": "",
       "version_major": 2,
       "version_minor": 0
      },
      "text/plain": [
       "FloatProgress(value=0.0, bar_style='info', description='Progress:', layout=Layout(height='25px', width='50%'),…"
      ]
     },
     "metadata": {},
     "output_type": "display_data"
    }
   ],
   "source": [
    "df = ss.read.parquet(\"/final_processed_data\")\n",
    "#adult_train_h2o = hc.as_h2o_frame(adult_train_df, \"adult_train\")\n",
    "#adult_train_h2o[\"label\"] = adult_train_h2o[\"label\"].asfactor()"
   ]
  },
  {
   "cell_type": "code",
   "execution_count": 90,
   "metadata": {},
   "outputs": [
    {
     "data": {
      "application/vnd.jupyter.widget-view+json": {
       "model_id": "11ca961739f44ba3bac907c7de0e789a",
       "version_major": 2,
       "version_minor": 0
      },
      "text/plain": [
       "VBox()"
      ]
     },
     "metadata": {},
     "output_type": "display_data"
    },
    {
     "data": {
      "application/vnd.jupyter.widget-view+json": {
       "model_id": "",
       "version_major": 2,
       "version_minor": 0
      },
      "text/plain": [
       "FloatProgress(value=0.0, bar_style='info', description='Progress:', layout=Layout(height='25px', width='50%'),…"
      ]
     },
     "metadata": {},
     "output_type": "display_data"
    }
   ],
   "source": [
    "df1 = ss.read.parquet(\"s3a://group-4-distributed-data-systems/final_stats\")"
   ]
  },
  {
   "cell_type": "code",
   "execution_count": 91,
   "metadata": {},
   "outputs": [
    {
     "data": {
      "application/vnd.jupyter.widget-view+json": {
       "model_id": "7b13af124bfb4144b2bd931af1a5226f",
       "version_major": 2,
       "version_minor": 0
      },
      "text/plain": [
       "VBox()"
      ]
     },
     "metadata": {},
     "output_type": "display_data"
    },
    {
     "data": {
      "application/vnd.jupyter.widget-view+json": {
       "model_id": "",
       "version_major": 2,
       "version_minor": 0
      },
      "text/plain": [
       "FloatProgress(value=0.0, bar_style='info', description='Progress:', layout=Layout(height='25px', width='50%'),…"
      ]
     },
     "metadata": {},
     "output_type": "display_data"
    },
    {
     "name": "stdout",
     "output_type": "stream",
     "text": [
      "+---------+--------+--------------------+--------------------+--------------------+-------------------+------------------+-------------------+-------------------+------------------+------------------+------------------+------------------+-------------------+-------------------+------------------+------------------+-----------------+------------------+------------------+------------------+------------------+--------------------+--------------------+--------------------+--------------------+--------------------+--------------------+-------------------+------------------+-----------------+------------------+--------------------+-------------------+-------------------+------------------+-------------------+-------------------+-------------------+------------------+------------------+------------------+--------------------+-------------------+--------------------+--------------------+--------------------+--------------------+--------------------+--------------------+--------------------+-------------------+-------------------+--------------------+--------------------+--------------------+--------------------+--------------------+--------------------+--------------------+--------------------+--------------------+--------------------+--------------------+--------------------+--------------------+--------------------+-------------------+-------------------+--------------------+--------------------+-------------------+--------------------+--------------------+--------------------+--------------------+-------------------+--------------------+--------------------+--------------------+--------------------+--------------------+--------------------+--------------------+--------------------+--------------------+--------------------+--------------------+--------------------+--------------------+-----------------+-----------------+-----------------+------------------+------------------+------------------+-----------------+-----------------+-----------------+------------------+------------------+------------------+----------------+----------------+----------------+-----------------+-----------------+-----------------+----------------+----------------+----------------+-----------------+-----------------+-----------------+\n",
      "|person_id|activity|         wgyro_x_avg|         wgyro_y_avg|         wgyro_z_avg|       euclid_wgyro|     wgyro_x_stdev|      wgyro_y_stdev|      wgyro_z_stdev|     wgyro_x_range|     wgyro_y_range|     wgyro_z_range|      waccel_x_avg|       waccel_y_avg|       waccel_z_avg|     euclid_waccel|    waccel_x_stdev|   waccel_y_stdev|    waccel_z_stdev|    waccel_x_range|    waccel_y_range|    waccel_z_range|         pgyro_x_avg|         pgyro_y_avg|         pgyro_z_avg|        euclid_pgyro|       pgyro_x_stdev|       pgyro_y_stdev|      pgyro_z_stdev|     pgyro_x_range|    pgyro_y_range|     pgyro_z_range|        paccel_x_avg|       paccel_y_avg|       paccel_z_avg|     euclid_paccel|     paccel_x_stdev|     paccel_y_stdev|     paccel_z_stdev|    paccel_x_range|    paccel_y_range|    paccel_z_range| hist_x_0_phone_gyro|hist_x_1_phone_gyro| hist_x_2_phone_gyro| hist_x_3_phone_gyro| hist_y_0_phone_gyro| hist_y_1_phone_gyro| hist_y_2_phone_gyro| hist_y_3_phone_gyro| hist_z_0_phone_gyro|hist_z_1_phone_gyro|hist_z_2_phone_gyro| hist_z_3_phone_gyro|hist_x_0_phone_accel|hist_x_1_phone_accel|hist_x_2_phone_accel|hist_x_3_phone_accel|hist_y_0_phone_accel|hist_y_1_phone_accel|hist_y_2_phone_accel|hist_y_3_phone_accel|hist_z_0_phone_accel|hist_z_1_phone_accel|hist_z_2_phone_accel|hist_z_3_phone_accel| hist_x_0_watch_gyro|hist_x_1_watch_gyro|hist_x_2_watch_gyro| hist_x_3_watch_gyro| hist_y_0_watch_gyro|hist_y_1_watch_gyro| hist_y_2_watch_gyro| hist_y_3_watch_gyro| hist_z_0_watch_gyro| hist_z_1_watch_gyro|hist_z_2_watch_gyro| hist_z_3_watch_gyro|hist_x_0_watch_accel|hist_x_1_watch_accel|hist_x_2_watch_accel|hist_x_3_watch_accel|hist_y_0_watch_accel|hist_y_1_watch_accel|hist_y_2_watch_accel|hist_y_3_watch_accel|hist_z_0_watch_accel|hist_z_1_watch_accel|hist_z_2_watch_accel|hist_z_3_watch_accel|cov_xy_phone_gyro|cov_yz_phone_gyro|cov_xz_phone_gyro|cov_xy_phone_accel|cov_yz_phone_accel|cov_xz_phone_accel|cov_xy_watch_gyro|cov_yz_watch_gyro|cov_xz_watch_gyro|cov_xy_watch_accel|cov_yz_watch_accel|cov_xz_watch_accel|mae_x_phone_gyro|mae_y_phone_gyro|mae_z_phone_gyro|mae_x_phone_accel|mae_y_phone_accel|mae_z_phone_accel|mae_x_watch_gyro|mae_y_watch_gyro|mae_z_watch_gyro|mae_x_watch_accel|mae_y_watch_accel|mae_z_watch_accel|\n",
      "+---------+--------+--------------------+--------------------+--------------------+-------------------+------------------+-------------------+-------------------+------------------+------------------+------------------+------------------+-------------------+-------------------+------------------+------------------+-----------------+------------------+------------------+------------------+------------------+--------------------+--------------------+--------------------+--------------------+--------------------+--------------------+-------------------+------------------+-----------------+------------------+--------------------+-------------------+-------------------+------------------+-------------------+-------------------+-------------------+------------------+------------------+------------------+--------------------+-------------------+--------------------+--------------------+--------------------+--------------------+--------------------+--------------------+--------------------+-------------------+-------------------+--------------------+--------------------+--------------------+--------------------+--------------------+--------------------+--------------------+--------------------+--------------------+--------------------+--------------------+--------------------+--------------------+--------------------+-------------------+-------------------+--------------------+--------------------+-------------------+--------------------+--------------------+--------------------+--------------------+-------------------+--------------------+--------------------+--------------------+--------------------+--------------------+--------------------+--------------------+--------------------+--------------------+--------------------+--------------------+--------------------+--------------------+-----------------+-----------------+-----------------+------------------+------------------+------------------+-----------------+-----------------+-----------------+------------------+------------------+------------------+----------------+----------------+----------------+-----------------+-----------------+-----------------+----------------+----------------+----------------+-----------------+-----------------+-----------------+\n",
      "|   1602.0|       J|7.915333563225033E-4|-0.01946139994628364|0.014933130808090502| 1.0931430834196099| 1.517692498329101| 0.3887616938613832| 0.3906175659571204|20.138823000000002|3.9574065999999997|         5.3923834|-0.914079018833784|  -7.95067645638611|  1.452839035521497| 9.820326134045782|1.4341675525629871| 2.51798696672374| 4.795424342584739|13.453019399999999|23.302765299999997|         20.554221|9.134289953553681E-4|  1.7484834175732E-5|0.001597201507410...|0.040617000074589994|0.026991293565991926|0.028577445263397536|0.07989121138097931|        0.72035217|       0.65631103|1.2616119399999999| -1.4509725022897908|-1.6793404561436156|  8.934124171546792| 9.210700722376853|0.20442679971108238|0.22547901074162435|0.07636632854042402|          6.076126|7.2234954799999995|2.1169887000000003|0.006694560669456...| 0.9857740585774059|0.006415620641562064|0.001115760111576...|0.009483960948396096|  0.9810320781032078|0.007810320781032078|0.001673640167364...|0.019246861924686193| 0.9104602510460251|0.06666666666666667|0.003626220362622...|7.829101890168885E-4|  0.8773067889497819| 0.12135107929761772|5.592215635834918E-4|3.355329381500951E-4|2.236886254333967E-4|  0.9817693770271781| 0.01767140140923834|0.002013197628900...|  0.8389441896879544|   0.157588636617828|0.001453976065317...| 0.00749375520399667| 0.8825978351373855|0.10713294476824868|0.002775464890369137| 0.01887316125451013|0.31501526505689703|  0.6519567027477102|0.014154870940882597|0.003608104357479...|  0.0729947266167083| 0.9078545656397446|0.015542603386067166| 0.11373092926490985|  0.8016643550624133| 0.08432732316227462|2.773925104022191...| 0.00332871012482663|  0.6687933425797503| 0.30235783633841884|0.025520110957004162| 0.20998613037447988|  0.3581137309292649|  0.2510402219140083|  0.1808599167822469|    -1.2512952E-4|    -0.0012673275|     -6.519424E-4|      -0.013055377|      0.0060906685|       7.581248E-4|      -0.20287268|      -0.06930426|      0.075951934|      -0.021053083|          8.270554|         1.4530722|      0.00937628|     0.012760036|     0.033587713|       0.12485431|       0.12355337|      0.041068815|      0.94131964|      0.25465277|       0.2509791|        1.0498183|        1.8915085|         4.343952|\n",
      "|   1610.0|       O|-0.23416662201171276|  0.5068734942816544| 0.21005751098645564|  5.301587459754469|4.0574134776095985| 3.6913114162393033| 3.9285239762901654|48.612305000000006|         33.383246|30.905454999999996| 7.363590346412525| -2.737021466512409|-0.7390278426940651|14.371735067019356| 8.679583360450941|  7.6378633408368| 7.067895510743518|         33.913269|         39.226002|39.226001999999994|-0.00882212808096...|0.002919212134575...|-0.00890019633372...|  1.0085284051118333| 0.37343172616546855|  1.1686504525439172|0.25853233052195734| 4.996307400000001|       17.0618135|4.0447541000000005| -0.8486669497641355|   9.69584261775418|-1.2243062062001389| 10.02375373566696| 1.4962335419781856| 0.7936070831971949|  1.445471606345971|18.836181600000003|       18.85543786|25.616410000000002|0.011207621182404036| 0.7702437657607173| 0.21518632670215745|0.003362286354721...|2.801905295601009E-4|0.002241524236480807|  0.8206780610815354| 0.17680022415242364|0.003362286354721...| 0.6267862146259456|0.36760997478285234|0.002241524236480807|0.002684263505200...|  0.0959624203109272|  0.8818924057711666|0.019460910412705514|0.001342131752600...|  0.8584051001006598| 0.13891063639413936|0.001342131752600...|  0.3479476568616486|  0.6497036125713007|0.002236886254333967|1.118443127166983...|0.011379406050513461| 0.8925895087427144|0.08354149320011102|0.012489592006661115| 0.01054676658340272|0.04440743824590619|  0.7080210935331668|  0.2370247016375243|0.022203719122953096| 0.10407993338884262| 0.7965584235359423| 0.07715792395226201| 0.07933425797503467| 0.23606102635228848| 0.29764216366158114|  0.3869625520110957| 0.13259361997226074|  0.6244105409153953| 0.16282940360610262| 0.08016643550624133| 0.10013869625520111|  0.3794729542302358| 0.47045769764216366|0.049930651872399444|       0.07685869|     -0.059370946|      0.021729223|        0.17250845|        0.08632854|        0.31872487|       -7.1361566|        2.8302689|       0.17774951|         5.8520823|        -1.8552399|        -11.920036|      0.25992048|       0.8900054|      0.17987056|        1.0880048|       0.46801007|        1.0390313|       2.6276927|         2.37236|       2.9097588|        7.4106154|         5.561776|        5.0857983|\n",
      "|   1618.0|       M| 0.00569419396960035|0.011680388563474866|-0.02496886583600614| 1.4524743809955531|1.2770700356295326| 0.6892437633231722| 0.9657958551363264|         19.739322|         5.9271365|           7.31091| 9.077972590208034|-3.7021238295461885|  2.063682652004374|10.308083432147171|1.5065239726409656| 1.88276857257035|1.6957964778595405|         17.405846|          25.25404|24.411280400000003|-0.01011698386324...|0.035499155607478926|-0.01281498506965...|   2.270524998455722|  1.3192573493553512|   2.421781903829791|  1.164797259756093|         18.987549|        28.593566|        15.4527437| -1.9288018371719529| -9.699274639409465|0.17926188825188918|10.734387033938512|  3.094302457063784| 2.1115239601124456| 3.1551593968078824|         35.496948|        22.7894292|         37.206451| 0.00980392156862745| 0.7761904761904762| 0.20952380952380953|0.004481792717086834|0.012324929971988795|   0.599719887955182| 0.38207282913165264|0.005882352941176...|0.003641456582633...| 0.2453781512605042| 0.7344537815126051|0.016526610644257703|0.018471872376154493|  0.8183599216344808| 0.15645116148894486|0.006717044500419815| 0.04506017352364959|  0.8410299468233977| 0.10859221942345368|0.005317660229499021| 0.00783655191715645|  0.4290512174643157|  0.5502378953260565|0.012874335292471313|0.004718290313627533| 0.8087704690535664|0.18595614765473217|5.550929780738274E-4|0.006106022758812101|  0.263669164585068|  0.6791562586733277|0.051068553982792114|0.027477102414654453| 0.43880099916736054| 0.4987510407993339|0.034970857618651124| 0.01331484049930652|    0.70124826629681| 0.27905686546463243|0.006380027739251...| 0.02662968099861304|  0.9106796116504854| 0.06158113730929265|0.001109570041608...| 0.05991678224687933|  0.9209431345353676|0.017753120665742025|0.001386962552011...|        0.4325549|       -0.1964948|      0.030345764|         0.7921407|        0.23409648|         1.8483224|      -0.47084534|       0.26782167|      0.029768314|       -0.26594648|        -0.1386647|        0.37245214|        0.836099|       1.6840925|      0.76987696|         2.060258|        1.3076633|        2.1553788|       0.9018541|       0.5164621|       0.7550844|        1.0838723|           1.2912|        1.2108511|\n",
      "|   1619.0|       A|-0.02358810208179...|0.025247268090777757|-0.02805446832701...|  3.926385867464304|2.4883408754809095|  1.173707023198455|    3.3014054302129|         23.661656|12.955667300000002|         17.961423|11.396689647917764|-2.6930243470641857|-1.8050980484530195|12.191791903989264|2.5673050680888907|2.707607300951735|1.3714563183458919|19.109918999999998|18.868703699999998|        19.9820067|-0.03404052408920424|-0.01740175972398...|0.031286800764442464|  1.4836249814485227|   1.059239999648115|  0.9459127286379222|  0.756248699312446|         4.8448227|5.767341700000001|          4.780907|-0.30086971083788494| -9.885139745167349| 1.2157018250788068|10.535623054661855| 2.4504741529075815|  4.134706546993748| 2.6931784882355077|15.740680000000001|        20.3447286|19.570802999999998|  0.1844380403458213| 0.4247395256040789| 0.23054755043227665|  0.1602748836178231| 0.07005098647749945| 0.24673021502992684|  0.5980935491021946| 0.08512524939037908|0.014187541565063178|0.28663267568166706| 0.5619596541786743| 0.13722012857459542| 0.08313012635779206|  0.6399911327865219| 0.22522722234537795|0.051651518510308136| 0.13699844823764132| 0.39747284415872314|  0.3768565728219907| 0.08867213478164487|  0.1602748836178231|   0.723342939481268| 0.08601197073819553|0.030370206162713367| 0.01888888888888889| 0.4888888888888889|0.48694444444444446|0.005277777777777778|0.008055555555555555| 0.5841666666666666| 0.39944444444444444|0.008333333333333333|               0.095|  0.3188888888888889| 0.4483333333333333| 0.13777777777777778|0.003609106052193226|  0.2917823431426985|   0.579400333148251|  0.1252082176568573| 0.02915047196002221| 0.28206551915602446|  0.6321488062187673|0.056635202665186006|0.001943364797334814| 0.09966685174902831|  0.8858967240421988| 0.01249305941143809|      -0.29574814|      -0.20879787|        0.6189501|        -2.6271803|        -1.6730684|         -1.135364|      -0.87378055|        1.1962575|      -0.29024035|        -1.8956083|        -0.5725601|        -0.7113996|      0.90556514|      0.73609704|      0.60226274|        1.8673031|        3.1937678|         1.879958|       1.9880173|       0.8731222|       2.6840608|         2.033421|        2.1423736|        0.9888612|\n",
      "|   1628.0|       K|-0.00629979284744...|-0.00205185352393...|-0.00585414222056...|0.24519070424742487|0.3285621770472178|0.14488782776598827|0.32224272786654395|         7.0254109|        2.79003545|         4.0917018|1.9073194915830862|  6.595713310370327|  5.856940725936201| 9.809867605947684|1.8669198813016357|2.912584096236754|1.7214790110351506|       7.366210283|        20.2573405|        10.6700586|-5.94606747197541E-4|0.001252990017371...|-0.00183364684484...|0.020960125720974974|0.026669687629239585|0.022152772420621115|0.02317883960065654|0.7283782999999999|       0.43940735|        0.45680237|   4.582658831953134| -5.229019855848215| 6.0525657809040245| 9.223619958726719|0.15879373116689402| 0.2484440880996233|0.13606266830237504|2.2436218000000006| 2.413177599999999|1.4175262000000002|0.006985191394244202| 0.9793238334730372|  0.0131321598211791|5.588153115395362E-4|0.012573344509639563|  0.9715004191114837|0.012573344509639563|0.003352891869237217|0.007264599050013...|0.06119027661357921| 0.9290304554344789|0.002514668901927913|0.007700892857142...| 0.01908482142857143|  0.9618303571428571|0.011383928571428571|0.002901785714285...|0.015959821428571427|  0.6170758928571428|           0.3640625|             0.00625| 0.35122767857142856|  0.6295758928571429|0.012946428571428572|0.001110185956147...|0.05356647238412434| 0.9378295864557313| 0.00749375520399667| 0.05134610047182903| 0.9406050513461005|0.007216208714959...|8.326394671107411E-4| 0.00749375520399667|0.035525950596724955| 0.9139605883985568| 0.04301970580072162|  0.7381414701803052| 0.07406380027739251| 0.09153952843273232| 0.09625520110957005|0.013592233009708738|  0.1522884882108183|   0.516504854368932| 0.31761442441054094| 0.25298196948682383|   0.575866851595007| 0.16615811373092926|0.004993065187239...|     -2.109347E-5|    -1.0960792E-4|     -7.425582E-5|       0.023931457|       0.025056668|       0.008087741|      -0.00367447|      0.003716736|      0.003176306|         -3.370679|          -3.68562|         0.8094325|     0.011969855|     0.009837942|     0.010095577|       0.10494894|       0.20987174|       0.10996744|      0.14709723|     0.068321906|      0.12824562|        1.4526327|        2.3070037|        1.3231208|\n",
      "+---------+--------+--------------------+--------------------+--------------------+-------------------+------------------+-------------------+-------------------+------------------+------------------+------------------+------------------+-------------------+-------------------+------------------+------------------+-----------------+------------------+------------------+------------------+------------------+--------------------+--------------------+--------------------+--------------------+--------------------+--------------------+-------------------+------------------+-----------------+------------------+--------------------+-------------------+-------------------+------------------+-------------------+-------------------+-------------------+------------------+------------------+------------------+--------------------+-------------------+--------------------+--------------------+--------------------+--------------------+--------------------+--------------------+--------------------+-------------------+-------------------+--------------------+--------------------+--------------------+--------------------+--------------------+--------------------+--------------------+--------------------+--------------------+--------------------+--------------------+--------------------+--------------------+--------------------+-------------------+-------------------+--------------------+--------------------+-------------------+--------------------+--------------------+--------------------+--------------------+-------------------+--------------------+--------------------+--------------------+--------------------+--------------------+--------------------+--------------------+--------------------+--------------------+--------------------+--------------------+--------------------+--------------------+-----------------+-----------------+-----------------+------------------+------------------+------------------+-----------------+-----------------+-----------------+------------------+------------------+------------------+----------------+----------------+----------------+-----------------+-----------------+-----------------+----------------+----------------+----------------+-----------------+-----------------+-----------------+\n",
      "only showing top 5 rows"
     ]
    }
   ],
   "source": [
    "df1.show(5)"
   ]
  },
  {
   "cell_type": "code",
   "execution_count": 92,
   "metadata": {},
   "outputs": [
    {
     "data": {
      "application/vnd.jupyter.widget-view+json": {
       "model_id": "5a393405b0834c529185db1153a3dad6",
       "version_major": 2,
       "version_minor": 0
      },
      "text/plain": [
       "VBox()"
      ]
     },
     "metadata": {},
     "output_type": "display_data"
    },
    {
     "data": {
      "application/vnd.jupyter.widget-view+json": {
       "model_id": "",
       "version_major": 2,
       "version_minor": 0
      },
      "text/plain": [
       "FloatProgress(value=0.0, bar_style='info', description='Progress:', layout=Layout(height='25px', width='50%'),…"
      ]
     },
     "metadata": {},
     "output_type": "display_data"
    }
   ],
   "source": [
    "df = hc.as_h2o_frame(df1)"
   ]
  },
  {
   "cell_type": "code",
   "execution_count": 93,
   "metadata": {},
   "outputs": [
    {
     "data": {
      "application/vnd.jupyter.widget-view+json": {
       "model_id": "8bfe910a07ca437cb278eb7782068f0e",
       "version_major": 2,
       "version_minor": 0
      },
      "text/plain": [
       "VBox()"
      ]
     },
     "metadata": {},
     "output_type": "display_data"
    },
    {
     "data": {
      "application/vnd.jupyter.widget-view+json": {
       "model_id": "",
       "version_major": 2,
       "version_minor": 0
      },
      "text/plain": [
       "FloatProgress(value=0.0, bar_style='info', description='Progress:', layout=Layout(height='25px', width='50%'),…"
      ]
     },
     "metadata": {},
     "output_type": "display_data"
    }
   ],
   "source": [
    "df = df.drop(\"person_id\")"
   ]
  },
  {
   "cell_type": "code",
   "execution_count": 94,
   "metadata": {},
   "outputs": [
    {
     "data": {
      "application/vnd.jupyter.widget-view+json": {
       "model_id": "be7dc05809a94494a38c610ac0c3782f",
       "version_major": 2,
       "version_minor": 0
      },
      "text/plain": [
       "VBox()"
      ]
     },
     "metadata": {},
     "output_type": "display_data"
    },
    {
     "data": {
      "application/vnd.jupyter.widget-view+json": {
       "model_id": "",
       "version_major": 2,
       "version_minor": 0
      },
      "text/plain": [
       "FloatProgress(value=0.0, bar_style='info', description='Progress:', layout=Layout(height='25px', width='50%'),…"
      ]
     },
     "metadata": {},
     "output_type": "display_data"
    },
    {
     "name": "stdout",
     "output_type": "stream",
     "text": [
      "         activity    wgyro_x_avg             wgyro_y_avg            wgyro_z_avg             euclid_wgyro          wgyro_x_stdev        wgyro_y_stdev         wgyro_z_stdev        wgyro_x_range        wgyro_y_range       wgyro_z_range       waccel_x_avg         waccel_y_avg         waccel_z_avg         euclid_waccel       waccel_x_stdev       waccel_y_stdev        waccel_z_stdev        waccel_x_range       waccel_y_range      waccel_z_range      pgyro_x_avg            pgyro_y_avg            pgyro_z_avg             euclid_pgyro           pgyro_x_stdev          pgyro_y_stdev          pgyro_z_stdev          pgyro_x_range       pgyro_y_range       pgyro_z_range       paccel_x_avg          paccel_y_avg         paccel_z_avg         euclid_paccel       paccel_x_stdev        paccel_y_stdev        paccel_z_stdev        paccel_x_range       paccel_y_range       paccel_z_range      hist_x_0_phone_gyro     hist_x_1_phone_gyro    hist_x_2_phone_gyro    hist_x_3_phone_gyro     hist_y_0_phone_gyro     hist_y_1_phone_gyro    hist_y_2_phone_gyro    hist_y_3_phone_gyro     hist_z_0_phone_gyro     hist_z_1_phone_gyro    hist_z_2_phone_gyro    hist_z_3_phone_gyro     hist_x_0_phone_accel    hist_x_1_phone_accel    hist_x_2_phone_accel    hist_x_3_phone_accel    hist_y_0_phone_accel    hist_y_1_phone_accel    hist_y_2_phone_accel    hist_y_3_phone_accel    hist_z_0_phone_accel    hist_z_1_phone_accel    hist_z_2_phone_accel    hist_z_3_phone_accel    hist_x_0_watch_gyro     hist_x_1_watch_gyro    hist_x_2_watch_gyro    hist_x_3_watch_gyro    hist_y_0_watch_gyro     hist_y_1_watch_gyro     hist_y_2_watch_gyro    hist_y_3_watch_gyro     hist_z_0_watch_gyro    hist_z_1_watch_gyro    hist_z_2_watch_gyro    hist_z_3_watch_gyro    hist_x_0_watch_accel    hist_x_1_watch_accel    hist_x_2_watch_accel    hist_x_3_watch_accel    hist_y_0_watch_accel    hist_y_1_watch_accel    hist_y_2_watch_accel    hist_y_3_watch_accel    hist_z_0_watch_accel    hist_z_1_watch_accel    hist_z_2_watch_accel    hist_z_3_watch_accel    cov_xy_phone_gyro        cov_yz_phone_gyro        cov_xz_phone_gyro       cov_xy_phone_accel     cov_yz_phone_accel     cov_xz_phone_accel     cov_xy_watch_gyro       cov_yz_watch_gyro     cov_xz_watch_gyro      cov_xy_watch_accel    cov_yz_watch_accel    cov_xz_watch_accel    mae_x_phone_gyro       mae_y_phone_gyro       mae_z_phone_gyro       mae_x_phone_accel     mae_y_phone_accel     mae_z_phone_accel     mae_x_watch_gyro       mae_y_watch_gyro      mae_z_watch_gyro       mae_x_watch_accel     mae_y_watch_accel     mae_z_watch_accel\n",
      "-------  ----------  ----------------------  ---------------------  ----------------------  --------------------  -------------------  --------------------  -------------------  -------------------  ------------------  ------------------  -------------------  -------------------  -------------------  ------------------  -------------------  --------------------  --------------------  -------------------  ------------------  ------------------  ---------------------  ---------------------  ----------------------  ---------------------  ---------------------  ---------------------  ---------------------  ------------------  ------------------  ------------------  --------------------  -------------------  -------------------  ------------------  --------------------  --------------------  --------------------  -------------------  -------------------  ------------------  ----------------------  ---------------------  ---------------------  ----------------------  ----------------------  ---------------------  ---------------------  ----------------------  ----------------------  ---------------------  ---------------------  ----------------------  ----------------------  ----------------------  ----------------------  ----------------------  ----------------------  ----------------------  ----------------------  ----------------------  ----------------------  ----------------------  ----------------------  ----------------------  ----------------------  ---------------------  ---------------------  ---------------------  ----------------------  ----------------------  ---------------------  ----------------------  ---------------------  ---------------------  ---------------------  ---------------------  ----------------------  ----------------------  ----------------------  ----------------------  ----------------------  ----------------------  ----------------------  ----------------------  ----------------------  ----------------------  ----------------------  ----------------------  -----------------------  -----------------------  ----------------------  ---------------------  ---------------------  ---------------------  ----------------------  --------------------  ---------------------  --------------------  --------------------  --------------------  ---------------------  ---------------------  ---------------------  --------------------  --------------------  --------------------  ---------------------  --------------------  ---------------------  --------------------  --------------------  -------------------\n",
      "type     string      real                    real                   real                    real                  real                 real                  real                 real                 real                real                real                 real                 real                 real                real                 real                  real                  real                 real                real                real                   real                   real                    real                   real                   real                   real                   real                real                real                real                  real                 real                 real                real                  real                  real                  real                 real                 real                real                    real                   real                   real                    real                    real                   real                   real                    real                    real                   real                   real                    real                    real                    real                    real                    real                    real                    real                    real                    real                    real                    real                    real                    real                    real                   real                   real                   real                    real                    real                   real                    real                   real                   real                   real                   real                    real                    real                    real                    real                    real                    real                    real                    real                    real                    real                    real                    real                     real                     real                    real                   real                   real                   real                    real                  real                   real                  real                  real                  real                   real                   real                   real                  real                  real                  real                   real                  real                   real                  real                  real\n",
      "mins     NaN         -1.1884783574014928     -2.14866895813636      -0.4932127909819557     0.007210356123295925  0.00383024111029441  0.007869964918277128  0.00350900973555321  0.13422331599999998  0.17044231          0.077764306         -10.777473286976408  -15.16171092609402   -9.72665936477117    9.230365466309019   0.03752083484539329  0.021820049698693826  0.031233292361513978  0.48379370000000055  0.3999683000000003  0.4933738999999999  -0.5537333151746993    -1.3232485879650586    -1.0990143339233376     0.0020809813403069076  0.0013315027925809673  0.0008187999825633016  0.0008931314317586744  0.019363403         0.030892671         0.0067596436        -9.956562231318216    -11.292170765081273  -9.717418890789489   9.120878679888756   0.025295325568504824  0.025847567271938907  0.030914072779885345  0.36643820000000016  0.28407287999999997  0.3369840000000002  0.00022168033695411216  0.0002795638803466592  0.0                    0.00021992522542335605  0.00022168033695411216  0.0                    0.0                    0.00022168033695411216  0.00022163120567375886  0.0                    0.0                    0.00022168033695411216  0.00010990218705352236  0.0                     0.0                     0.00011129660545353366  0.00011185682326621924  0.0                     0.0                     0.00011129660545353366  0.00011170688114387846  0.0                     0.0                     0.00011150758251561107  0.00022401433691756272  0.0002775464890369137  0.0002775464890369137  0.0002774694783573807  0.00022401433691756272  0.00022401433691756272  0.0                    0.00012605571662674902  0.0002774694783573807  0.0002775464890369137  0.0                    0.0002775464890369137  0.00011195700850873264  0.0                     0.0                     0.00011195700850873264  0.00011194447554013209  0.00022388895108026418  0.0002775464890369137   0.00011195700850873264  0.0001119194180190263   0.00022386389075442132  0.0                     0.00011195700850873264  -6.088216304779053       -5.377903461456299       -3.7154505252838135     -66.29354858398438     -54.24288558959961     -32.24209213256836     -10.609123229980469     -10.40649700164795    -5.709567546844482     -70.33161926269531    -44.08286666870117    -113.4734878540039    0.0007945556426420808  0.0005864212289452553  0.0006225892575457692  0.016554201021790504  0.018737461417913437  0.020719578489661217  0.0020597088150680065  0.005245633888989687  0.0020019467920064926  0.025404512882232666  0.014213921502232552  0.02129458822309971\n",
      "mean     NaN         -0.027153206880721825   -0.028586033835073785  0.015215355551981792    1.5242992233436727    1.2264249657184576   0.9773539006859862    1.0080750783178245   16.766913504209768   9.922966784165371   9.364587246084351   0.5330042358595736   -4.309287105200522   2.043356632547851    10.72063564892719   3.1998950740264758   3.2068156797314753    3.122718921788581     22.15876373947099    24.97531983541842   24.560784875326863  -0.004080032980473424  -0.005233726179223773  -0.0013195552226491236  0.6561533967263521     0.47899431103556694    0.5352628654192286     0.3583805173934867     5.54344284072142    6.72068438608435    4.3743772004198656  0.2150925392650997    -1.736885513444818   0.6072204047428829   10.109687050992648  1.5230190361054166    1.6183820030713914    1.5643295609501806    16.057062466189787   15.207744149044917   17.35819948917869   0.03809885020248671     0.48355338365572226    0.4445147923117175     0.03383297383007352     0.03581352676952331     0.46960914523597397    0.4535702295855729     0.041007098408929916    0.04328569293596304     0.43284458369505807    0.46947200096034797    0.05439772240863098     0.07643423118769278     0.43346681845953006     0.42570030499217687     0.06439864536060029     0.08789129058801834     0.4000938618880824      0.42686245593646566     0.08515239158743361     0.10131230278932254     0.43039744047251327     0.39664288027893096     0.07164737645923328     0.018409828426481194    0.47952241122551154    0.4771014932965317     0.02496626705147558    0.03402543030610433     0.440876633174908       0.46925946493465115    0.05583847158433661     0.032978269285422815   0.40418000550135885    0.5123557203454835     0.05048600486773507    0.10474678865581696     0.3686477993677435      0.3973541353904233      0.12925127658601618     0.08575198128131593     0.46097696135613375     0.39290364303861225     0.06036741432393809     0.0819462514973949      0.4112796743580571      0.4236473874257008      0.08312668671884711     0.018140454803749116     0.05018757780475037      0.06729833140249004     -0.2274595169101273    0.053537417406385755   -0.10906903123826166   -0.16822078730940745    0.41885899364451595   0.2502230983058598     -2.22357121857708     0.6028329791700382    0.45181161738973336   0.34073620159000667    0.37492277020483605    0.2489107874255435     1.1224034527248465    1.2032261912263393    1.1255847339628968    0.8249510918370759     0.6946422396492333    0.7281840425160415     2.503204260252987     2.462725206351654     2.3591690700559087\n",
      "maxs     NaN         0.4033600003894256      2.4104522015835324     0.870515127084929       6.963324674142418     4.731265840723805    5.955057221021656     4.331341357592624    64.498837            62.419159           51.194473           12.051135469247875   9.588308459223272    9.728052513249986    27.194514602336298  11.721210927402739   17.782701465531098    17.018462389641318    95.812756            114.079577          145.09268400000002  0.3110799365955313     0.2111376099457884     0.5989680699828829      10.038923169665491     5.175115874341055      8.707836063032497      4.746123844082105      48.300399999999996  58.384522           42.725402599999995  10.791542542406415    10.254781472169752   9.927524438311657    19.52062611365913   15.841852757080103    15.66577199324483     11.144312159695682    156.56243            119.933003           147.55956           0.9974789915966387      0.9985982618446874     0.9980457844779452     0.9971988795518207      0.9957446808510638      0.9983328702417338     0.9986556128164912     0.9980386662930792      0.9986006157290792      0.9982265573043672     0.9977597311677401     0.9993279569892473      0.9995799201848351      0.9992163886712191      0.9988808058198098      0.9955654101995566      0.9982090888739646      0.998993513755312       0.9988804925832634      0.9995799201848351      0.9994402462916316      0.9980044345898005      0.9985447218179783      0.9977603583426652      0.9375520399666945      0.9972206781545303     0.9972229936128854     0.9983337961677312     0.995835646862854       0.997310623038996       0.9983347210657785     0.9919318691169879      0.9900083263946711     0.9961909029800583     0.9966694421315571     0.9771505376344086     0.9955555555555555      0.9987684729064039      0.9964173757277206      0.9972260748959778      0.8306496390893948      0.9963938973647711      0.9979852249832102      0.9821988356471115      0.97751873438801        0.997873293037833       0.9988805552445987      0.9952843273231623      4.696244716644287        16.173603057861328       7.079820156097412       47.458187103271484     35.489715576171875     34.19851303100586      7.7836527824401855      18.364234924316406    7.571084022521973      58.48627471923828     66.47561645507812     45.63404846191406     4.190817356109619      7.322868824005127      3.739168405532837      12.381927490234375    12.221297264099121    8.964900016784668     3.824383020401001      4.864131450653076     3.477769136428833      10.782025337219238    14.525904655456543    11.92993450164795\n",
      "sigma    NaN         0.11081780238894025     0.21583932748701787    0.10751637614111739     1.5057868703819486    0.9907480414512837   1.1138269888532597    0.9983256599258876   11.561808088012212   9.167288701701088   7.412376779958231   5.7394077752969945   3.4377738267090354   3.5802517087610353   1.6506150574647287  2.5371895158029507   2.4904205396977024    2.1896332695822927    13.171007327365341   12.117492891994704  13.605660953981227  0.03849662914599357    0.05973390892792122    0.05556438287798269     1.030549406581152      0.6888950855155471     0.792021715796058      0.5486908532231339     6.503294589590558   7.589484445274999   4.84838521179027    5.216655108473309     6.269362448655696    4.54236455885481     1.1117211560398301  1.955429786577333     2.1899844595317624    1.805048601027499     15.930481311342255   15.01641979063048    17.4450379852726    0.12077805043787847     0.37444488615841304    0.3728966267996808     0.11396595029502136     0.1307652271123015      0.3821359716893053     0.38009903397456735    0.147460317579598       0.1435052354389702      0.37598412154222893    0.3780892780000897     0.16994804597576127     0.1935153237785196      0.3430957770019702      0.3379441351661565      0.1527620481058983      0.19318778727622732     0.3426864296376206      0.34440477608483855     0.18669330758058522     0.22207985545632938     0.33124977091579855     0.3362768341674622      0.18048167382079908     0.0572228930303459      0.3609912345295114     0.35772364951126945    0.08767689766700248    0.08580814194460924     0.3402819452249786      0.334819382308686      0.13744586428524247     0.0750850628662955     0.3208289038039746     0.3182679009788611     0.09635767943040431    0.17630105288447806     0.28514582333558236     0.283847990453908       0.1863070882948619      0.13396824859457732     0.285317198626733       0.28490292353389196     0.12018818957830574     0.14950341234284475     0.26504295205079104     0.270329316389373       0.15345000002674836     0.5164435511179586       0.7419822006421325       0.6220660087257351      5.9779573098312015     4.868415075481687      3.606470265635465      1.1506388725187935      2.4528055301073977    1.0708654576788046     7.4175778854616325    8.437978231462084     8.258597778837343     0.5412292702535652     0.6152334449806265     0.43924575231852886    1.539226202236035     1.8001434968442471    1.3728430818153734    0.7449576968695578     0.8467405868142035    0.7914383763174125     2.1587592685224513    2.073622699430568     1.7217535903425591\n",
      "zeros    0           0                       0                      0                       0                     0                    0                     0                    0                    0                   0                   0                    0                    0                    0                   0                    0                     0                     0                    0                   0                   0                      0                      0                       0                      0                      0                      0                      0                   0                   0                   0                     0                    0                    0                   0                     0                     0                     0                    0                    0                   0                       0                      2                      0                       0                       5                      6                      0                       0                       6                      8                      0                       0                       2                       5                       0                       0                       4                       3                       0                       0                       3                       4                       0                       0                       0                      0                      0                      0                       0                       1                      0                       0                      0                      3                      0                      0                       1                       1                       0                       0                       0                       0                       0                       0                       0                       1                       0                       0                        0                        0                       0                      0                      0                      0                       0                     0                      0                     0                     0                     0                      0                      0                      0                     0                     0                     0                      0                     0                      0                     0                     0\n",
      "missing  0           0                       0                      0                       0                     0                    0                     0                    0                    0                   0                   0                    0                    0                    0                   0                    0                     0                     0                    0                   0                   0                      0                      0                       0                      0                      0                      0                      0                   0                   0                   0                     0                    0                    0                   0                     0                     0                     0                    0                    0                   0                       0                      0                      0                       0                       0                      0                      0                       0                       0                      0                      0                       0                       0                       0                       0                       0                       0                       0                       0                       0                       0                       0                       0                       0                       0                      0                      0                      0                       0                       0                      0                       0                      0                      0                      0                      0                       0                       0                       0                       0                       0                       0                       0                       0                       0                       0                       0                       0                        0                        0                       0                      0                      0                      0                       0                     0                      0                     0                     0                     0                      0                      0                      0                     0                     0                     0                      0                     0                      0                     0                     0\n",
      "0        J           0.0007915333563225033   -0.01946139994628364   0.014933130808090502    1.0931430834196099    1.517692498329101    0.3887616938613832    0.3906175659571204   20.138823000000002   3.9574065999999997  5.3923834           -0.914079018833784   -7.95067645638611    1.452839035521497    9.820326134045782   1.4341675525629871   2.51798696672374      4.795424342584739     13.453019399999999   23.302765299999997  20.554221           0.0009134289953553681  1.7484834175732e-05    0.0015972015074103185   0.040617000074589994   0.026991293565991926   0.028577445263397536   0.07989121138097931    0.72035217          0.65631103          1.2616119399999999  -1.4509725022897908   -1.6793404561436156  8.934124171546792    9.210700722376853   0.20442679971108238   0.22547901074162435   0.07636632854042402   6.076126             7.2234954799999995   2.1169887000000003  0.0066945606694560665   0.9857740585774059     0.006415620641562064   0.0011157601115760112   0.009483960948396096    0.9810320781032078     0.007810320781032078   0.0016736401673640166   0.019246861924686193    0.9104602510460251     0.06666666666666667    0.0036262203626220364   0.0007829101890168885   0.8773067889497819      0.12135107929761772     0.0005592215635834918   0.0003355329381500951   0.0002236886254333967   0.9817693770271781      0.01767140140923834     0.0020131976289005705   0.8389441896879544      0.157588636617828       0.0014539760653170786   0.00749375520399667     0.8825978351373855     0.10713294476824868    0.002775464890369137   0.01887316125451013     0.31501526505689703     0.6519567027477102     0.014154870940882597    0.0036081043574798777  0.0729947266167083     0.9078545656397446     0.015542603386067166   0.11373092926490985     0.8016643550624133      0.08432732316227462     0.00027739251040221914  0.00332871012482663     0.6687933425797503      0.30235783633841884     0.025520110957004162    0.20998613037447988     0.3581137309292649      0.2510402219140083      0.1808599167822469      -0.00012512951798271388  -0.0012673274613916874   -0.0006519423914141953  -0.013055376708507538  0.006090668495744467   0.0007581248064525425  -0.20287267863750458    -0.06930425763130188  0.07595193386077881    -0.02105308324098587  8.270553588867188     1.453072190284729     0.009376280009746552   0.012760035693645477   0.03358771279454231    0.12485431134700775   0.12355337291955948   0.04106881469488144   0.9413196444511414     0.2546527683734894    0.25097909569740295    1.0498182773590088    1.8915084600448608    4.343952178955078\n",
      "1        O           -0.23416662201171276    0.5068734942816544     0.21005751098645564     5.301587459754469     4.0574134776095985   3.6913114162393033    3.9285239762901654   48.612305000000006   33.383246           30.905454999999996  7.363590346412525    -2.737021466512409   -0.7390278426940651  14.371735067019356  8.679583360450941    7.6378633408368       7.067895510743518     33.913269            39.226002           39.226001999999994  -0.008822128080967785  0.0029192121345754966  -0.008900196333727113   1.0085284051118333     0.37343172616546855    1.1686504525439172     0.25853233052195734    4.996307400000001   17.0618135          4.0447541000000005  -0.8486669497641355   9.69584261775418     -1.2243062062001389  10.02375373566696   1.4962335419781856    0.7936070831971949    1.445471606345971     18.836181600000003   18.85543786          25.616410000000002  0.011207621182404036    0.7702437657607173     0.21518632670215745    0.0033622863547212102   0.0002801905295601009   0.002241524236480807   0.8206780610815354     0.17680022415242364     0.0033622863547212102   0.6267862146259456     0.36760997478285234    0.002241524236480807    0.0026842635052007607   0.0959624203109272      0.8818924057711666      0.019460910412705514    0.0013421317526003803   0.8584051001006598      0.13891063639413936     0.0013421317526003803   0.3479476568616486      0.6497036125713007      0.002236886254333967    0.00011184431271669836  0.011379406050513461    0.8925895087427144     0.08354149320011102    0.012489592006661115   0.01054676658340272     0.04440743824590619     0.7080210935331668     0.2370247016375243      0.022203719122953096   0.10407993338884262    0.7965584235359423     0.07715792395226201    0.07933425797503467     0.23606102635228848     0.29764216366158114     0.3869625520110957      0.13259361997226074     0.6244105409153953      0.16282940360610262     0.08016643550624133     0.10013869625520111     0.3794729542302358      0.47045769764216366     0.049930651872399444    0.07685869187116623      -0.059370946139097214    0.021729223430156708    0.17250844836235046    0.08632854372262955    0.3187248706817627     -7.1361565589904785     2.8302688598632812    0.17774951457977295    5.852082252502441     -1.8552398681640625   -11.920036315917969   0.25992047786712646    0.8900054097175598     0.17987056076526642    1.0880048274993896    0.4680100679397583    1.0390312671661377    2.627692699432373      2.3723599910736084    2.9097588062286377     7.41061544418335      5.561776161193848     5.085798263549805\n",
      "2        M           0.00569419396960035     0.011680388563474866   -0.02496886583600614    1.4524743809955531    1.2770700356295326   0.6892437633231722    0.9657958551363264   19.739322            5.9271365           7.31091             9.077972590208034    -3.7021238295461885  2.063682652004374    10.308083432147171  1.5065239726409656   1.88276857257035      1.6957964778595405    17.405846            25.25404            24.411280400000003  -0.010116983863240907  0.035499155607478926   -0.012814985069655407   2.270524998455722      1.3192573493553512     2.421781903829791      1.164797259756093      18.987549           28.593566           15.4527437          -1.9288018371719529   -9.699274639409465   0.17926188825188918  10.734387033938512  3.094302457063784     2.1115239601124456    3.1551593968078824    35.496948            22.7894292           37.206451           0.00980392156862745     0.7761904761904762     0.20952380952380953    0.004481792717086834    0.012324929971988795    0.599719887955182      0.38207282913165264    0.0058823529411764705   0.0036414565826330533   0.2453781512605042     0.7344537815126051     0.016526610644257703    0.018471872376154493    0.8183599216344808      0.15645116148894486     0.006717044500419815    0.04506017352364959     0.8410299468233977      0.10859221942345368     0.005317660229499021    0.00783655191715645     0.4290512174643157      0.5502378953260565      0.012874335292471313    0.004718290313627533    0.8087704690535664     0.18595614765473217    0.0005550929780738274  0.006106022758812101    0.263669164585068       0.6791562586733277     0.051068553982792114    0.027477102414654453   0.43880099916736054    0.4987510407993339     0.034970857618651124   0.01331484049930652     0.70124826629681        0.27905686546463243     0.0063800277392510405   0.02662968099861304     0.9106796116504854      0.06158113730929265     0.0011095700416088765   0.05991678224687933     0.9209431345353676      0.017753120665742025    0.0013869625520110957   0.4325549006462097       -0.19649480283260345     0.030345764011144638    0.7921407222747803     0.2340964823961258     1.8483223915100098     -0.4708453416824341     0.26782166957855225   0.029768314212560654   -0.26594647765159607  -0.13866469264030457  0.37245213985443115   0.8360990285873413     1.6840925216674805     0.7698769569396973     2.060257911682129     1.3076633214950562    2.155378818511963     0.9018540978431702     0.5164620876312256    0.7550843954086304     1.0838723182678223    1.291200041770935     1.2108510732650757\n",
      "3        A           -0.023588102081791674   0.025247268090777757   -0.028054468327018085   3.926385867464304     2.4883408754809095   1.173707023198455     3.3014054302129      23.661656            12.955667300000002  17.961423           11.396689647917764   -2.6930243470641857  -1.8050980484530195  12.191791903989264  2.5673050680888907   2.707607300951735     1.3714563183458919    19.109918999999998   18.868703699999998  19.9820067          -0.03404052408920424   -0.017401759723985846  0.031286800764442464    1.4836249814485227     1.059239999648115      0.9459127286379222     0.756248699312446      4.8448227           5.767341700000001   4.780907            -0.30086971083788494  -9.885139745167349   1.2157018250788068   10.535623054661855  2.4504741529075815    4.134706546993748     2.6931784882355077    15.740680000000001   20.3447286           19.570802999999998  0.1844380403458213      0.4247395256040789     0.23054755043227665    0.1602748836178231      0.07005098647749945     0.24673021502992684    0.5980935491021946     0.08512524939037908     0.014187541565063178    0.28663267568166706    0.5619596541786743     0.13722012857459542     0.08313012635779206     0.6399911327865219      0.22522722234537795     0.051651518510308136    0.13699844823764132     0.39747284415872314     0.3768565728219907      0.08867213478164487     0.1602748836178231      0.723342939481268       0.08601197073819553     0.030370206162713367    0.01888888888888889     0.4888888888888889     0.48694444444444446    0.005277777777777778   0.008055555555555555    0.5841666666666666      0.39944444444444444    0.008333333333333333    0.095                  0.3188888888888889     0.4483333333333333     0.13777777777777778    0.003609106052193226    0.2917823431426985      0.579400333148251       0.1252082176568573      0.02915047196002221     0.28206551915602446     0.6321488062187673      0.056635202665186006    0.001943364797334814    0.09966685174902831     0.8858967240421988      0.01249305941143809     -0.29574814438819885     -0.2087978720664978      0.6189501285552979      -2.627180337905884     -1.6730684041976929    -1.135364055633545     -0.8737805485725403     1.196257472038269     -0.2902403473854065    -1.8956083059310913   -0.5725600719451904   -0.7113996148109436   0.9055651426315308     0.7360970377922058     0.6022627353668213     1.8673031330108643    3.193767786026001     1.8799580335617065    1.9880173206329346     0.8731222152709961    2.68406081199646       2.033421039581299     2.142373561859131     0.9888612031936646\n",
      "4        K           -0.0062997928474438115  -0.002051853523932831  -0.005854142220568972   0.24519070424742487   0.3285621770472178   0.14488782776598827   0.32224272786654395  7.0254109            2.79003545          4.0917018           1.9073194915830862   6.595713310370327    5.856940725936201    9.809867605947684   1.8669198813016357   2.912584096236754     1.7214790110351506    7.366210283          20.2573405          10.6700586          -0.000594606747197541  0.0012529900173718974  -0.0018336468448446454  0.020960125720974974   0.026669687629239585   0.022152772420621115   0.02317883960065654    0.7283782999999999  0.43940735          0.45680237          4.582658831953134     -5.229019855848215   6.0525657809040245   9.223619958726719   0.15879373116689402   0.2484440880996233    0.13606266830237504   2.2436218000000006   2.413177599999999    1.4175262000000002  0.006985191394244202    0.9793238334730372     0.0131321598211791     0.0005588153115395362   0.012573344509639563    0.9715004191114837     0.012573344509639563   0.003352891869237217    0.0072645990500139705   0.06119027661357921    0.9290304554344789     0.002514668901927913    0.0077008928571428575   0.01908482142857143     0.9618303571428571      0.011383928571428571    0.0029017857142857144   0.015959821428571427    0.6170758928571428      0.3640625               0.00625                 0.35122767857142856     0.6295758928571429      0.012946428571428572    0.0011101859561476548   0.05356647238412434    0.9378295864557313     0.00749375520399667    0.05134610047182903     0.9406050513461005      0.0072162087149597555  0.0008326394671107411   0.00749375520399667    0.035525950596724955   0.9139605883985568     0.04301970580072162    0.7381414701803052      0.07406380027739251     0.09153952843273232     0.09625520110957005     0.013592233009708738    0.1522884882108183      0.516504854368932       0.31761442441054094     0.25298196948682383     0.575866851595007       0.16615811373092926     0.0049930651872399446   -2.1093470422783867e-05  -0.00010960792133118957  -7.425581861753017e-05  0.023931456729769707   0.025056667625904083   0.00808774121105671    -0.0036744698882102966  0.003716736100614071  0.0031763059087097645  -3.3706789016723633   -3.685620069503784    0.8094325065612793    0.011969855055212975   0.009837942197918892   0.010095576755702496   0.10494893789291382   0.20987173914909363   0.109967440366745     0.14709722995758057    0.06832190603017807   0.12824562191963196    1.4526326656341553    2.3070037364959717    1.3231208324432373\n",
      "5        E           -0.007284611104108442   -0.002102870786178185  -0.0068137629130319245  0.12709389372523633   0.2676208998476912   0.17154764162930689   0.13757714504596696  9.1474261            4.2962161000000005  3.1499971           8.523666274306596    -3.454993635054097   -1.6361334255389846  9.800772770143626   2.326779809254265    0.9868932888822765    1.5628717505971184    15.440207000000001   7.4866683           16.541539999999998  0.0009300334617788692  0.0006213637112567255  -0.0003022719775585762  0.04386158111289304    0.03933063396936608    0.09499348803886282    0.0360030602987183     0.53134155          2.29145816          1.0452270399999999  -0.9953203391119535   9.69488857598656     -1.8875487245284088  9.943319340581118   0.2587543064511215    0.0945033829969141    0.5032886977268979    3.8797759999999997   2.0847170000000013   3.6516266999999996  0.015414798206278026    0.7738228699551569     0.1984304932735426     0.01233183856502242     0.002242152466367713    0.009248878923766817   0.9809417040358744     0.0075672645739910315   0.00476457399103139     0.9829035874439462     0.01149103139013453    0.0008408071748878924   0.0025188916876574307   0.8656591099916037      0.1309823677581864      0.0008396305625524769   0.0019591379792891126   0.02155051777218024     0.975370836831794       0.001119507416736636    0.00279876854184159     0.07080884410859221     0.5885810243492863      0.33781136300027986     0.0005550929780738274   0.0019428254232583958  0.3269497640854843     0.6705523175131834     0.004440743824590619    0.9467110741049126      0.04690535664723841    0.0019428254232583958   0.002497918401332223   0.010269220094365806   0.9800166527893422     0.0072162087149597555  0.03828016643550624     0.008876560332871012    0.004438280166435506    0.9484049930651872      0.03550624133148405     0.060471567267683775    0.8141470180305131      0.089875173370319       0.047156726768377254    0.2765603328710125      0.6721220527045769      0.004160887656033287    -0.0018691582372412086   -0.0020682532340288162   2.6729021556093358e-05  0.009875127114355564   0.03725874051451683    0.05024142190814018    -0.006614830810576677   -0.00496264360845089  -0.008157603442668915  1.7685798406600952    0.8452757000923157    2.8073983192443848    0.018199514597654343   0.03256911039352417    0.012235078029334545   0.2106284648180008    0.06518298387527466   0.40058672428131104   0.08868436515331268    0.04955948144197464   0.04483484476804733    1.018126130104065     0.6852097511291504    1.0767126083374023\n",
      "6        R           0.0017178979498648336   -0.004636218674987512  0.0016032257814598925   0.7815545563805442    0.6392702167703186   0.5124743038920087    0.39414793540058235  6.3276959999999995   3.7509026999999997  3.4099107           -7.198021966019424   -4.565276294540692   4.6180819313354995   10.24787119959914   0.8921537346415116   2.5809883899071253    3.6613563779448266    10.038887500000001   22.213404299999997  29.393613000000002  0.0015296038407088001  0.001432183587589964   -0.0009233961872298221  0.07537697510437379    0.14279795256933464    0.05095125767652022    0.08207291070209788    1.4951935           0.7272033800000001  0.88441468          -8.156625476475526    -2.047055586819577   4.7069714669650455   9.64953823809865    0.1704503700004379    0.4237533335382125    0.18300407467111462   2.3529973            2.41708372           2.1132966           0.02438340807174888     0.14489910313901344    0.8001681614349776     0.03054932735426009     0.016255605381165918    0.8834080717488789     0.09276905829596413    0.0075672645739910315   0.017376681614349777    0.05297085201793722    0.8954596412556054     0.034192825112107625    0.0005594405594405594   0.061258741258741256    0.9054545454545454      0.03272727272727273     0.43496503496503497     0.40055944055944054     0.11692307692307692     0.04755244755244755     0.03244755244755245     0.9071328671328671      0.04391608391608392     0.016503496503496504    0.0072162087149597555   0.15514848737163475    0.8048848182070497     0.03275048570635582    0.008603941160144324    0.2434082708853733      0.6547321676380794     0.093255620316403       0.014432417429919511   0.2434082708853733     0.701082431307244      0.041076880377463224   0.010540915395284327    0.541747572815534       0.4391123439667129      0.008599167822468794    0.009153952843273232    0.06296809986130375     0.743134535367545       0.18474341192787794     0.004160887656033287    0.7015256588072122      0.23439667128987518     0.05991678224687933     0.005979808978736401     -0.003242055419832468    -0.011178474873304367   -0.044658638536930084  -0.017639588564634323  0.023296603932976723   -0.0630863830447197     0.12846337258815765   0.017292702570557594   0.11669594049453735   -5.605329990386963    0.27250906825065613   0.058760374784469604   0.023536279797554016   0.033693935722112656   0.10018429905176163   0.31504929065704346   0.09413927048444748   0.46056216955184937    0.41689348220825195   0.2858407497406006     0.6446294188499451    1.8398382663726807    2.5305819511413574\n",
      "7        P           -0.07626086028635713    0.361370245003662      0.13321007799520798     3.6304709969811553    2.3152346977314546   3.219527011049377     2.205799796082786    25.745302            27.130037           14.7568593          -5.190441188238901   5.0755163794876506   3.458688494883606    12.720541627470627  6.5195981362556195   6.174469242604927     7.9411294510269395    34.620156            39.226001           39.226001999999994  -0.015948213699781413  -0.017523541062592813  -0.004943732284869729   0.6245867768283454     0.49136153145156974    0.5201522691189424     0.3792418872277386     10.0150757          5.0659485           4.9170379           2.6302112871616306    -8.817210177509912   0.3800784048719122   9.666604930994449   1.8936271223219303    1.818885910869438     1.668344551444344     15.745650999999999   21.150679999999998   19.5570217          0.015970860184925748    0.9728215186326702     0.010367049593723731   0.0008405715886803026   0.020453908657887362    0.577752871952928      0.39506864667974223    0.0067245727094424204   0.0047632390025217144   0.13869431213224992    0.8436536845054637     0.01288876435976464     0.06071628427532177     0.7753217683268047      0.14885282596530497     0.01510912143256855     0.005036373810856184    0.8480693900391718      0.1233911583659765      0.023503077783995522    0.07890318970341355     0.8729714605484051      0.045047565752658086    0.0030777839955232235   0.05715871254162042     0.8773584905660378     0.06187569367369589    0.003607103218645949   0.28496115427303        0.6159822419533851      0.09461709211986681    0.004439511653718091    0.025804661487236404   0.1279134295227525     0.6426193118756937     0.20366259711431742    0.1680998613037448      0.4621359223300971      0.3583911234396671      0.011373092926490984    0.02246879334257975     0.1550624133148405      0.6568654646324549      0.16560332871012481     0.058529819694868236    0.240499306518724       0.49597780859916785     0.20499306518723995     -0.08427415788173676     0.018440892919898033     -0.11028050631284714    2.043112277984619      1.9049878120422363     1.8653379678726196     0.9636111855506897      -5.621898174285889    -0.914883553981781     -10.846144676208496   20.004045486450195    -19.430028915405273   0.2842254340648651     0.39386075735092163    0.24611413478851318    1.4168283939361572    1.0728839635849       1.1841912269592285    1.5570077896118164     2.300847053527832     1.6501948833465576     5.016141414642334     4.610228538513184     6.31265926361084\n",
      "8        B           -0.02862966887909478    -0.0777614427736946    -0.0009697894317499356  4.206859173296171     1.7844622882498202   2.9430260556089727    2.9566617090214087   8.6360989            18.037057           13.174125700000001  -2.419966970034567   -10.83185624543705   0.54350594914479     17.797269329651787  7.931464494239847    13.371686368250044    7.143624140790809     52.92754             88.299589           57.07092299999999   -0.2019658707879881    0.047984010390247245   0.023796685060449654    3.8744394342472823     2.1049129459999856     2.9445061821517027     2.0687285791440315     19.604061           18.6687585          15.339808600000001  -1.9659828406325168   -8.349537980776267   -2.037622515625363   13.269390522268743  7.100437645879089     7.994319618652793     4.799319652891042     39.226001999999994   31.378408            38.30663            0.0025006946373992774   0.15809947207557654    0.7827174215059739     0.05668241178105029     0.03945540427896638     0.47818838566268407    0.46901917199222004    0.013337038066129481    0.02222839677688247     0.1992220061128091     0.6882467352042234     0.09030286190608502     0.09552901971674535     0.5181893918356012      0.3271313524021105      0.059150236045542905    0.3415717856151069      0.28131074701471814     0.33296306581505136     0.044154401555123575    0.06942515967786726     0.5143015828936407      0.4040544293251874      0.012218828103304638    0.18395697961012772     0.2740309209052207     0.43446112480394355    0.10755097468070804    0.06968406901187542     0.3499887967734708      0.5258794532825454     0.054447680932108444    0.1299574277391889     0.36813802375084026    0.30719247143177236    0.19471207707819851    0.054392837157246784    0.5433687744823726      0.36564073866815894     0.0365976496922216      0.0051482932288752095   0.09188584219362059     0.42876329043088973     0.47420257414661443     0.007274762171236709    0.28237269166200335     0.6372691662003358      0.07308337996642418     1.268878698348999        -3.3914899826049805      0.4232800006866455      9.987113952636719      21.229843139648438     14.907421112060547     -1.5906989574432373     -1.629258155822754    -2.773855209350586     -26.411745071411133   -34.11512756347656    9.753169059753418     1.6774545907974243     2.6538925170898438     1.5774863958358765     6.016018390655518     6.931346893310547     3.598886728286743     1.4476048946380615     2.320131540298462     2.6363070011138916     6.417278289794922     11.150373458862305    5.7854437828063965\n",
      "9        O           0.011635651016440644    0.07411191879298144    -0.23205671290396188    3.7244859384731424    3.1039498222763435   2.7269261914690133    2.358904697820855    38.847               27.789552999999998  24.27844            5.606596572883726    -3.3786204329454446  -3.4211715068753774  12.486700753566508  6.818278082149062    5.957863542383901     7.064522103813727     39.226004            39.226002           39.226001999999994  0.03067527380524192    -0.02742745678752248   -0.031103622487544783   2.168014823457573      2.1651040068443836     1.7725486638536077     0.9186517758100637     30.894798           31.480696000000002  14.7911966          9.326182581938237     -2.4190980150492347  -1.8564689915556905  11.008079469397318  3.5381059919365083    4.032796112697715     4.2085219649138015    75.38803             102.602642           135.49584000000002  0.03293010752688172     0.923163082437276      0.043010752688172046   0.0008960573476702509   0.002688172043010753    0.23454301075268819    0.758736559139785      0.004032258064516129    0.011200716845878136    0.9359318996415771     0.052195340501792115   0.0006720430107526882   0.010189228529839884    0.9769342738775053      0.011644832605531296    0.0012316649871235024   0.0005598477214197738   0.002463329974247005    0.46299406561415296     0.5339827566901802      0.0008957563542716381   0.05441719852200202     0.9435673496808868      0.0011196954428395476   0.013059183106418449    0.4267852181161434     0.5557099194220617     0.004445679355376493   0.012225618227285358    0.0333425951653237      0.8624617949430398     0.09196999166435121     0.0033342595165323703  0.18532925812725756    0.775215337593776      0.03612114476243401    0.011385726187170231    0.20216606498194944     0.5501249652874202      0.23632324354346015     0.1121910580394335      0.645376284365454       0.21632879755623438     0.026103860038878088    0.16356567620105525     0.5148569841710636      0.296028880866426       0.025548458761455152    -0.29521822929382324     0.10911960154771805      -0.36661845445632935    1.6414694786071777     -1.881055235862732     0.8810943961143494     -1.576765537261963      0.32671117782592773   2.2467024326324463     -0.46427014470100403  3.236248016357422     -15.009788513183594   1.4940840005874634     1.0177408456802368     0.5994054079055786     2.027193307876587     2.285574197769165     2.121748208999634     2.0947864055633545     1.6675524711608887    1.7509026527404785     5.30682373046875      4.389377593994141     5.445562362670898"
     ]
    }
   ],
   "source": [
    "df.summary()"
   ]
  },
  {
   "cell_type": "code",
   "execution_count": 95,
   "metadata": {},
   "outputs": [
    {
     "data": {
      "application/vnd.jupyter.widget-view+json": {
       "model_id": "ff5eb395ad5b480083bb715641927671",
       "version_major": 2,
       "version_minor": 0
      },
      "text/plain": [
       "VBox()"
      ]
     },
     "metadata": {},
     "output_type": "display_data"
    },
    {
     "data": {
      "application/vnd.jupyter.widget-view+json": {
       "model_id": "",
       "version_major": 2,
       "version_minor": 0
      },
      "text/plain": [
       "FloatProgress(value=0.0, bar_style='info', description='Progress:', layout=Layout(height='25px', width='50%'),…"
      ]
     },
     "metadata": {},
     "output_type": "display_data"
    }
   ],
   "source": [
    "train,test = df.split_frame(ratios=[0.8])"
   ]
  },
  {
   "cell_type": "code",
   "execution_count": 96,
   "metadata": {},
   "outputs": [
    {
     "data": {
      "application/vnd.jupyter.widget-view+json": {
       "model_id": "ac5e3c538c3a47dbbf859454badc68ee",
       "version_major": 2,
       "version_minor": 0
      },
      "text/plain": [
       "VBox()"
      ]
     },
     "metadata": {},
     "output_type": "display_data"
    },
    {
     "data": {
      "application/vnd.jupyter.widget-view+json": {
       "model_id": "",
       "version_major": 2,
       "version_minor": 0
      },
      "text/plain": [
       "FloatProgress(value=0.0, bar_style='info', description='Progress:', layout=Layout(height='25px', width='50%'),…"
      ]
     },
     "metadata": {},
     "output_type": "display_data"
    }
   ],
   "source": [
    "train.set_name(\"activity\", \"label\")"
   ]
  },
  {
   "cell_type": "code",
   "execution_count": 97,
   "metadata": {},
   "outputs": [
    {
     "data": {
      "application/vnd.jupyter.widget-view+json": {
       "model_id": "a80bec5fc82947c38fdc85352f0f4d4f",
       "version_major": 2,
       "version_minor": 0
      },
      "text/plain": [
       "VBox()"
      ]
     },
     "metadata": {},
     "output_type": "display_data"
    },
    {
     "data": {
      "application/vnd.jupyter.widget-view+json": {
       "model_id": "",
       "version_major": 2,
       "version_minor": 0
      },
      "text/plain": [
       "FloatProgress(value=0.0, bar_style='info', description='Progress:', layout=Layout(height='25px', width='50%'),…"
      ]
     },
     "metadata": {},
     "output_type": "display_data"
    }
   ],
   "source": [
    "test.set_name(\"activity\", \"label\")"
   ]
  },
  {
   "cell_type": "code",
   "execution_count": 98,
   "metadata": {},
   "outputs": [
    {
     "data": {
      "application/vnd.jupyter.widget-view+json": {
       "model_id": "4ce11ccff05444709ac5cd0d32e30d53",
       "version_major": 2,
       "version_minor": 0
      },
      "text/plain": [
       "VBox()"
      ]
     },
     "metadata": {},
     "output_type": "display_data"
    },
    {
     "data": {
      "application/vnd.jupyter.widget-view+json": {
       "model_id": "",
       "version_major": 2,
       "version_minor": 0
      },
      "text/plain": [
       "FloatProgress(value=0.0, bar_style='info', description='Progress:', layout=Layout(height='25px', width='50%'),…"
      ]
     },
     "metadata": {},
     "output_type": "display_data"
    }
   ],
   "source": [
    "train[\"label\"] = train[\"label\"].asfactor()\n",
    "test[\"label\"] = test[\"label\"].asfactor()"
   ]
  },
  {
   "cell_type": "code",
   "execution_count": 99,
   "metadata": {},
   "outputs": [
    {
     "data": {
      "application/vnd.jupyter.widget-view+json": {
       "model_id": "d2b4b287512f4e94b40b3efc46a443f8",
       "version_major": 2,
       "version_minor": 0
      },
      "text/plain": [
       "VBox()"
      ]
     },
     "metadata": {},
     "output_type": "display_data"
    },
    {
     "data": {
      "application/vnd.jupyter.widget-view+json": {
       "model_id": "",
       "version_major": 2,
       "version_minor": 0
      },
      "text/plain": [
       "FloatProgress(value=0.0, bar_style='info', description='Progress:', layout=Layout(height='25px', width='50%'),…"
      ]
     },
     "metadata": {},
     "output_type": "display_data"
    },
    {
     "name": "stdout",
     "output_type": "stream",
     "text": [
      "['label', 'wgyro_x_avg', 'wgyro_y_avg', 'wgyro_z_avg', 'euclid_wgyro', 'wgyro_x_stdev', 'wgyro_y_stdev', 'wgyro_z_stdev', 'wgyro_x_range', 'wgyro_y_range', 'wgyro_z_range', 'waccel_x_avg', 'waccel_y_avg', 'waccel_z_avg', 'euclid_waccel', 'waccel_x_stdev', 'waccel_y_stdev', 'waccel_z_stdev', 'waccel_x_range', 'waccel_y_range', 'waccel_z_range', 'pgyro_x_avg', 'pgyro_y_avg', 'pgyro_z_avg', 'euclid_pgyro', 'pgyro_x_stdev', 'pgyro_y_stdev', 'pgyro_z_stdev', 'pgyro_x_range', 'pgyro_y_range', 'pgyro_z_range', 'paccel_x_avg', 'paccel_y_avg', 'paccel_z_avg', 'euclid_paccel', 'paccel_x_stdev', 'paccel_y_stdev', 'paccel_z_stdev', 'paccel_x_range', 'paccel_y_range', 'paccel_z_range', 'hist_x_0_phone_gyro', 'hist_x_1_phone_gyro', 'hist_x_2_phone_gyro', 'hist_x_3_phone_gyro', 'hist_y_0_phone_gyro', 'hist_y_1_phone_gyro', 'hist_y_2_phone_gyro', 'hist_y_3_phone_gyro', 'hist_z_0_phone_gyro', 'hist_z_1_phone_gyro', 'hist_z_2_phone_gyro', 'hist_z_3_phone_gyro', 'hist_x_0_phone_accel', 'hist_x_1_phone_accel', 'hist_x_2_phone_accel', 'hist_x_3_phone_accel', 'hist_y_0_phone_accel', 'hist_y_1_phone_accel', 'hist_y_2_phone_accel', 'hist_y_3_phone_accel', 'hist_z_0_phone_accel', 'hist_z_1_phone_accel', 'hist_z_2_phone_accel', 'hist_z_3_phone_accel', 'hist_x_0_watch_gyro', 'hist_x_1_watch_gyro', 'hist_x_2_watch_gyro', 'hist_x_3_watch_gyro', 'hist_y_0_watch_gyro', 'hist_y_1_watch_gyro', 'hist_y_2_watch_gyro', 'hist_y_3_watch_gyro', 'hist_z_0_watch_gyro', 'hist_z_1_watch_gyro', 'hist_z_2_watch_gyro', 'hist_z_3_watch_gyro', 'hist_x_0_watch_accel', 'hist_x_1_watch_accel', 'hist_x_2_watch_accel', 'hist_x_3_watch_accel', 'hist_y_0_watch_accel', 'hist_y_1_watch_accel', 'hist_y_2_watch_accel', 'hist_y_3_watch_accel', 'hist_z_0_watch_accel', 'hist_z_1_watch_accel', 'hist_z_2_watch_accel', 'hist_z_3_watch_accel', 'cov_xy_phone_gyro', 'cov_yz_phone_gyro', 'cov_xz_phone_gyro', 'cov_xy_phone_accel', 'cov_yz_phone_accel', 'cov_xz_phone_accel', 'cov_xy_watch_gyro', 'cov_yz_watch_gyro', 'cov_xz_watch_gyro', 'cov_xy_watch_accel', 'cov_yz_watch_accel', 'cov_xz_watch_accel', 'mae_x_phone_gyro', 'mae_y_phone_gyro', 'mae_z_phone_gyro', 'mae_x_phone_accel', 'mae_y_phone_accel', 'mae_z_phone_accel', 'mae_x_watch_gyro', 'mae_y_watch_gyro', 'mae_z_watch_gyro', 'mae_x_watch_accel', 'mae_y_watch_accel', 'mae_z_watch_accel']"
     ]
    }
   ],
   "source": [
    "train.columns"
   ]
  },
  {
   "cell_type": "code",
   "execution_count": 100,
   "metadata": {},
   "outputs": [
    {
     "data": {
      "application/vnd.jupyter.widget-view+json": {
       "model_id": "3746960a4b4a4327be1319c0e24fd4b1",
       "version_major": 2,
       "version_minor": 0
      },
      "text/plain": [
       "VBox()"
      ]
     },
     "metadata": {},
     "output_type": "display_data"
    },
    {
     "data": {
      "application/vnd.jupyter.widget-view+json": {
       "model_id": "",
       "version_major": 2,
       "version_minor": 0
      },
      "text/plain": [
       "FloatProgress(value=0.0, bar_style='info', description='Progress:', layout=Layout(height='25px', width='50%'),…"
      ]
     },
     "metadata": {},
     "output_type": "display_data"
    }
   ],
   "source": [
    "predictors = train.names\n",
    "response = \"label\"\n",
    "predictors.remove(response)"
   ]
  },
  {
   "cell_type": "code",
   "execution_count": 58,
   "metadata": {},
   "outputs": [
    {
     "data": {
      "application/vnd.jupyter.widget-view+json": {
       "model_id": "2fdb7486f6824675b04f837c60113305",
       "version_major": 2,
       "version_minor": 0
      },
      "text/plain": [
       "VBox()"
      ]
     },
     "metadata": {},
     "output_type": "display_data"
    },
    {
     "data": {
      "application/vnd.jupyter.widget-view+json": {
       "model_id": "",
       "version_major": 2,
       "version_minor": 0
      },
      "text/plain": [
       "FloatProgress(value=0.0, bar_style='info', description='Progress:', layout=Layout(height='25px', width='50%'),…"
      ]
     },
     "metadata": {},
     "output_type": "display_data"
    },
    {
     "name": "stdout",
     "output_type": "stream",
     "text": [
      "AutoML progress: [\n",
      "00:36:57.719: AutoML: XGBoost is not available in multi-node cluster; skipping it. See http://docs.h2o.ai/h2o/latest-stable/h2o-docs/automl.html#experimental-features for details.\n",
      "\n",
      "########################################################] 100%"
     ]
    }
   ],
   "source": [
    "from h2o.automl import H2OAutoML\n",
    "model_automl = H2OAutoML(max_models = 10, seed = 1, nfolds = 3) # seed : Set a seed for reproducibility\n",
    "model_automl.train(x=predictors,\n",
    "                y=response,\n",
    "                training_frame=train)"
   ]
  },
  {
   "cell_type": "code",
   "execution_count": 59,
   "metadata": {},
   "outputs": [
    {
     "data": {
      "application/vnd.jupyter.widget-view+json": {
       "model_id": "f403c6cebc754e7688bd9b38590bf8fa",
       "version_major": 2,
       "version_minor": 0
      },
      "text/plain": [
       "VBox()"
      ]
     },
     "metadata": {},
     "output_type": "display_data"
    },
    {
     "data": {
      "application/vnd.jupyter.widget-view+json": {
       "model_id": "",
       "version_major": 2,
       "version_minor": 0
      },
      "text/plain": [
       "FloatProgress(value=0.0, bar_style='info', description='Progress:', layout=Layout(height='25px', width='50%'),…"
      ]
     },
     "metadata": {},
     "output_type": "display_data"
    },
    {
     "name": "stdout",
     "output_type": "stream",
     "text": [
      "model_id                                            mean_per_class_error    logloss      rmse       mse\n",
      "------------------------------------------------  ----------------------  ---------  --------  --------\n",
      "GBM_grid__1_AutoML_20200117_003657_model_1                      0.34258     2.24411  0.884441  0.782236\n",
      "GBM_3_AutoML_20200117_003657                                    0.34298     1.19785  0.570685  0.325681\n",
      "XRT_1_AutoML_20200117_003657                                    0.3444      1.45717  0.673387  0.45345\n",
      "GBM_2_AutoML_20200117_003657                                    0.346705    1.1533   0.57069   0.325687\n",
      "DRF_1_AutoML_20200117_003657                                    0.348448    1.78996  0.68053   0.463121\n",
      "GBM_4_AutoML_20200117_003657                                    0.361358    1.20223  0.57245   0.327698\n",
      "StackedEnsemble_AllModels_AutoML_20200117_003657                0.361437    1.97306  0.818183  0.669423\n",
      "GBM_5_AutoML_20200117_003657                                    0.383177    1.24378  0.641848  0.411968\n",
      "GBM_1_AutoML_20200117_003657                                    0.386952    1.35787  0.597468  0.356967\n",
      "GLM_1_AutoML_20200117_003657                                    0.492623    1.55043  0.706772  0.499526\n",
      "\n",
      "[12 rows x 5 columns]"
     ]
    }
   ],
   "source": [
    "model_automl.leaderboard"
   ]
  },
  {
   "cell_type": "code",
   "execution_count": 60,
   "metadata": {},
   "outputs": [
    {
     "data": {
      "application/vnd.jupyter.widget-view+json": {
       "model_id": "075ae0813a9649e3a4046472b03e3bcb",
       "version_major": 2,
       "version_minor": 0
      },
      "text/plain": [
       "VBox()"
      ]
     },
     "metadata": {},
     "output_type": "display_data"
    },
    {
     "data": {
      "application/vnd.jupyter.widget-view+json": {
       "model_id": "",
       "version_major": 2,
       "version_minor": 0
      },
      "text/plain": [
       "FloatProgress(value=0.0, bar_style='info', description='Progress:', layout=Layout(height='25px', width='50%'),…"
      ]
     },
     "metadata": {},
     "output_type": "display_data"
    },
    {
     "name": "stdout",
     "output_type": "stream",
     "text": [
      "Model Details\n",
      "=============\n",
      "H2OGradientBoostingEstimator :  Gradient Boosting Machine\n",
      "Model Key:  GBM_grid__1_AutoML_20200117_003657_model_1\n",
      "\n",
      "\n",
      "Model Summary: \n",
      "    number_of_trees    number_of_internal_trees    model_size_in_bytes    min_depth    max_depth    mean_depth    min_leaves    max_leaves    mean_leaves\n",
      "--  -----------------  --------------------------  ---------------------  -----------  -----------  ------------  ------------  ------------  -------------\n",
      "    40                 720                         905606                 2            16           15.4764       4             112           94.9528\n",
      "\n",
      "\n",
      "ModelMetricsMultinomial: gbm\n",
      "** Reported on train data. **\n",
      "\n",
      "MSE: 0.6447655716319984\n",
      "RMSE: 0.8029729582196392\n",
      "LogLoss: 1.636998480301744\n",
      "Mean Per-Class Error: 0.0\n",
      "\n",
      "Confusion Matrix: Row labels: Actual class; Column labels: Predicted class\n",
      "A    B    C    D    E    F    G    H    I    J    K    L    M    O    P    Q    R    S    Error    Rate\n",
      "---  ---  ---  ---  ---  ---  ---  ---  ---  ---  ---  ---  ---  ---  ---  ---  ---  ---  -------  -------\n",
      "47   0    0    0    0    0    0    0    0    0    0    0    0    0    0    0    0    0    0        0 / 47\n",
      "0    40   0    0    0    0    0    0    0    0    0    0    0    0    0    0    0    0    0        0 / 40\n",
      "0    0    39   0    0    0    0    0    0    0    0    0    0    0    0    0    0    0    0        0 / 39\n",
      "0    0    0    41   0    0    0    0    0    0    0    0    0    0    0    0    0    0    0        0 / 41\n",
      "0    0    0    0    40   0    0    0    0    0    0    0    0    0    0    0    0    0    0        0 / 40\n",
      "0    0    0    0    0    44   0    0    0    0    0    0    0    0    0    0    0    0    0        0 / 44\n",
      "0    0    0    0    0    0    41   0    0    0    0    0    0    0    0    0    0    0    0        0 / 41\n",
      "0    0    0    0    0    0    0    43   0    0    0    0    0    0    0    0    0    0    0        0 / 43\n",
      "0    0    0    0    0    0    0    0    36   0    0    0    0    0    0    0    0    0    0        0 / 36\n",
      "0    0    0    0    0    0    0    0    0    40   0    0    0    0    0    0    0    0    0        0 / 40\n",
      "0    0    0    0    0    0    0    0    0    0    36   0    0    0    0    0    0    0    0        0 / 36\n",
      "0    0    0    0    0    0    0    0    0    0    0    38   0    0    0    0    0    0    0        0 / 38\n",
      "0    0    0    0    0    0    0    0    0    0    0    0    38   0    0    0    0    0    0        0 / 38\n",
      "0    0    0    0    0    0    0    0    0    0    0    0    0    38   0    0    0    0    0        0 / 38\n",
      "0    0    0    0    0    0    0    0    0    0    0    0    0    0    38   0    0    0    0        0 / 38\n",
      "0    0    0    0    0    0    0    0    0    0    0    0    0    0    0    42   0    0    0        0 / 42\n",
      "0    0    0    0    0    0    0    0    0    0    0    0    0    0    0    0    43   0    0        0 / 43\n",
      "0    0    0    0    0    0    0    0    0    0    0    0    0    0    0    0    0    40   0        0 / 40\n",
      "47   40   39   41   40   44   41   43   36   40   36   38   38   38   38   42   43   40   0        0 / 724\n",
      "\n",
      "Top-10 Hit Ratios: \n",
      "k    hit_ratio\n",
      "---  -----------\n",
      "1    1\n",
      "2    1\n",
      "3    1\n",
      "4    1\n",
      "5    1\n",
      "6    1\n",
      "7    1\n",
      "8    1\n",
      "9    1\n",
      "10   1\n",
      "\n",
      "ModelMetricsMultinomial: gbm\n",
      "** Reported on cross-validation data. **\n",
      "\n",
      "MSE: 0.7822360992748005\n",
      "RMSE: 0.8844411225597781\n",
      "LogLoss: 2.244110678060589\n",
      "Mean Per-Class Error: 0.34257992173843166\n",
      "\n",
      "Confusion Matrix: Row labels: Actual class; Column labels: Predicted class\n",
      "A    B    C    D    E    F    G    H    I    J    K    L    M    O    P    Q    R    S    Error     Rate\n",
      "---  ---  ---  ---  ---  ---  ---  ---  ---  ---  ---  ---  ---  ---  ---  ---  ---  ---  --------  ---------\n",
      "36   0    10   0    0    0    0    0    0    0    0    0    0    0    0    0    0    1    0.234043  11 / 47\n",
      "1    38   0    0    0    0    0    0    0    0    0    0    1    0    0    0    0    0    0.05      2 / 40\n",
      "9    0    24   0    0    0    0    0    0    0    0    0    6    0    0    0    0    0    0.384615  15 / 39\n",
      "0    0    0    21   5    3    0    1    3    0    3    2    0    1    0    1    0    1    0.487805  20 / 41\n",
      "0    0    0    1    25   2    1    1    0    0    2    3    0    0    0    3    1    1    0.375     15 / 40\n",
      "0    0    0    4    1    32   1    1    0    1    0    1    0    0    0    3    0    0    0.272727  12 / 44\n",
      "0    0    0    1    2    1    30   0    0    1    1    0    0    1    0    0    4    0    0.268293  11 / 41\n",
      "0    0    0    2    2    0    0    23   5    5    1    4    0    0    0    1    0    0    0.465116  20 / 43\n",
      "0    0    0    2    1    2    1    1    19   1    1    8    0    0    0    0    0    0    0.472222  17 / 36\n",
      "0    0    0    0    1    2    2    3    2    24   1    3    0    0    0    1    0    1    0.4       16 / 40\n",
      "0    0    0    1    3    0    2    2    0    0    23   5    0    0    0    0    0    0    0.361111  13 / 36\n",
      "0    0    1    1    0    0    2    4    8    5    7    8    0    0    0    2    0    0    0.789474  30 / 38\n",
      "4    0    7    0    0    0    1    0    1    0    0    0    24   0    0    0    0    1    0.368421  14 / 38\n",
      "0    0    0    0    0    0    0    0    0    0    0    0    1    28   6    0    1    2    0.263158  10 / 38\n",
      "0    0    1    0    0    0    0    0    0    0    1    0    1    3    28   0    0    4    0.263158  10 / 38\n",
      "0    0    0    3    2    6    0    0    0    1    0    0    0    0    0    30   0    0    0.285714  12 / 42\n",
      "0    0    1    0    1    1    6    0    0    2    0    0    1    1    0    0    29   1    0.325581  14 / 43\n",
      "0    0    0    0    1    0    0    1    0    0    0    0    1    0    0    0    1    36   0.1       4 / 40\n",
      "50   38   44   36   44   49   46   37   38   40   40   34   35   34   34   41   36   48   0.339779  246 / 724\n",
      "\n",
      "Top-10 Hit Ratios: \n",
      "k    hit_ratio\n",
      "---  -----------\n",
      "1    0.660221\n",
      "2    0.788674\n",
      "3    0.856354\n",
      "4    0.882597\n",
      "5    0.917127\n",
      "6    0.929558\n",
      "7    0.947514\n",
      "8    0.962707\n",
      "9    0.970994\n",
      "10   0.976519\n",
      "\n",
      "Cross-Validation Metrics Summary: \n",
      "                         mean      sd          cv_1_valid    cv_2_valid    cv_3_valid\n",
      "-----------------------  --------  ----------  ------------  ------------  ------------\n",
      "accuracy                 0.660265  0.0290666   0.628099      0.684647      0.66805\n",
      "err                      0.339735  0.0290666   0.371901      0.315353      0.33195\n",
      "err_count                82        7.2111      90            76            80\n",
      "logloss                  2.24408   0.0367342   2.26278       2.26771       2.20176\n",
      "max_per_class_error      0.776515  0.124655    0.875         0.818182      0.636364\n",
      "mean_per_class_accuracy  0.665303  0.0218062   0.640603      0.673413      0.681891\n",
      "mean_per_class_error     0.334697  0.0218062   0.359397      0.326587      0.318109\n",
      "mse                      0.782234  0.00911452  0.783909      0.790395      0.772398\n",
      "r2                       0.971667  0.00131361  0.970563      0.97312       0.971318\n",
      "rmse                     0.88443   0.0051568   0.885386      0.889041      0.878862\n",
      "\n",
      "Scoring History: \n",
      "    timestamp            duration          number_of_trees    training_rmse    training_logloss    training_classification_error\n",
      "--  -------------------  ----------------  -----------------  ---------------  ------------------  -------------------------------\n",
      "    2020-01-17 00:56:35  1 min 45.363 sec  0                  0.944444         2.89037             0.947514\n",
      "    2020-01-17 00:56:41  1 min 51.363 sec  5                  0.927285         2.62371             0.00828729\n",
      "    2020-01-17 00:56:48  1 min 57.900 sec  10                 0.910064         2.41428             0.00552486\n",
      "    2020-01-17 00:56:55  2 min  4.655 sec  15                 0.892096         2.23471             0.00276243\n",
      "    2020-01-17 00:57:01  2 min 11.131 sec  20                 0.874439         2.08504             0.00276243\n",
      "    2020-01-17 00:57:08  2 min 18.256 sec  25                 0.856521         1.95295             0.00138122\n",
      "    2020-01-17 00:57:15  2 min 25.337 sec  30                 0.838668         1.83642             0.00138122\n",
      "    2020-01-17 00:57:22  2 min 32.106 sec  35                 0.820903         1.73225             0\n",
      "    2020-01-17 00:57:29  2 min 38.964 sec  40                 0.802973         1.637               0\n",
      "\n",
      "Variable Importances: \n",
      "variable             relative_importance    scaled_importance     percentage\n",
      "-------------------  ---------------------  --------------------  ---------------------\n",
      "mae_y_watch_accel    767.6226806640625      1.0                   0.04887825974106319\n",
      "waccel_y_stdev       587.2427978515625      0.7650149124613472    0.037392597597072454\n",
      "waccel_x_avg         545.971435546875       0.7112497445679441    0.03476464975575682\n",
      "mae_y_phone_accel    486.7032165527344      0.6340396510062631    0.03099075474801719\n",
      "mae_x_watch_accel    481.4416198730469      0.6271852460854292    0.030655723363926246\n",
      "---                  ---                    ---                   ---\n",
      "hist_y_1_phone_gyro  21.352018356323242     0.027815773158046647  0.0013595865853174975\n",
      "hist_x_0_watch_gyro  20.48945426940918      0.026692090770017326  0.0013046629456889421\n",
      "hist_x_3_watch_gyro  19.53122901916504      0.025443788349594848  0.0012436480957481344\n",
      "hist_y_3_phone_gyro  16.391626358032227     0.02135375461268549   0.0010437343644057677\n",
      "cov_xy_phone_gyro    11.630853652954102     0.015151784784280175  0.0007405928722267355"
     ]
    }
   ],
   "source": [
    "h2o.get_model(\"GBM_grid__1_AutoML_20200117_003657_model_1\")"
   ]
  },
  {
   "cell_type": "code",
   "execution_count": 61,
   "metadata": {},
   "outputs": [
    {
     "data": {
      "application/vnd.jupyter.widget-view+json": {
       "model_id": "8481e3c2ae3a4a18a514f562723c4aee",
       "version_major": 2,
       "version_minor": 0
      },
      "text/plain": [
       "VBox()"
      ]
     },
     "metadata": {},
     "output_type": "display_data"
    },
    {
     "data": {
      "application/vnd.jupyter.widget-view+json": {
       "model_id": "",
       "version_major": 2,
       "version_minor": 0
      },
      "text/plain": [
       "FloatProgress(value=0.0, bar_style='info', description='Progress:', layout=Layout(height='25px', width='50%'),…"
      ]
     },
     "metadata": {},
     "output_type": "display_data"
    }
   ],
   "source": [
    "# Deep learning"
   ]
  },
  {
   "cell_type": "code",
   "execution_count": 101,
   "metadata": {},
   "outputs": [
    {
     "data": {
      "application/vnd.jupyter.widget-view+json": {
       "model_id": "290fef04316c4db995f3224b7e4251d5",
       "version_major": 2,
       "version_minor": 0
      },
      "text/plain": [
       "VBox()"
      ]
     },
     "metadata": {},
     "output_type": "display_data"
    },
    {
     "data": {
      "application/vnd.jupyter.widget-view+json": {
       "model_id": "",
       "version_major": 2,
       "version_minor": 0
      },
      "text/plain": [
       "FloatProgress(value=0.0, bar_style='info', description='Progress:', layout=Layout(height='25px', width='50%'),…"
      ]
     },
     "metadata": {},
     "output_type": "display_data"
    }
   ],
   "source": [
    "import time"
   ]
  },
  {
   "cell_type": "code",
   "execution_count": 102,
   "metadata": {},
   "outputs": [
    {
     "data": {
      "application/vnd.jupyter.widget-view+json": {
       "model_id": "e0b796415e014796a7bb61407b292aed",
       "version_major": 2,
       "version_minor": 0
      },
      "text/plain": [
       "VBox()"
      ]
     },
     "metadata": {},
     "output_type": "display_data"
    },
    {
     "data": {
      "application/vnd.jupyter.widget-view+json": {
       "model_id": "",
       "version_major": 2,
       "version_minor": 0
      },
      "text/plain": [
       "FloatProgress(value=0.0, bar_style='info', description='Progress:', layout=Layout(height='25px', width='50%'),…"
      ]
     },
     "metadata": {},
     "output_type": "display_data"
    }
   ],
   "source": [
    "from h2o.estimators.deeplearning import H2ODeepLearningEstimator"
   ]
  },
  {
   "cell_type": "code",
   "execution_count": 129,
   "metadata": {},
   "outputs": [
    {
     "data": {
      "application/vnd.jupyter.widget-view+json": {
       "model_id": "4359189e4e4047c6972f6c49a00d3b59",
       "version_major": 2,
       "version_minor": 0
      },
      "text/plain": [
       "VBox()"
      ]
     },
     "metadata": {},
     "output_type": "display_data"
    },
    {
     "data": {
      "application/vnd.jupyter.widget-view+json": {
       "model_id": "",
       "version_major": 2,
       "version_minor": 0
      },
      "text/plain": [
       "FloatProgress(value=0.0, bar_style='info', description='Progress:', layout=Layout(height='25px', width='50%'),…"
      ]
     },
     "metadata": {},
     "output_type": "display_data"
    },
    {
     "name": "stdout",
     "output_type": "stream",
     "text": [
      "deeplearning Model Build progress: [######################################] 100%\n",
      "time: 10.712242364883423"
     ]
    }
   ],
   "source": [
    "t = time.time()\n",
    "model_dl = H2ODeepLearningEstimator(variable_importances=True,\n",
    "                                    loss=\"Automatic\", mini_batch_size = 50, input_dropout_ratio = .2, rate_decay=0.9, \n",
    "                                    epochs = 20, hidden=[250,250], nfolds = 3)\n",
    "\n",
    "model_dl.train(x=predictors,\n",
    "               y=response,\n",
    "               training_frame=train,\n",
    "               validation_frame=test)\n",
    "print(\"time:\", time.time() - t)"
   ]
  },
  {
   "cell_type": "code",
   "execution_count": 130,
   "metadata": {
    "scrolled": false
   },
   "outputs": [
    {
     "data": {
      "application/vnd.jupyter.widget-view+json": {
       "model_id": "e8971fca6c9a47068f369717c706c64d",
       "version_major": 2,
       "version_minor": 0
      },
      "text/plain": [
       "VBox()"
      ]
     },
     "metadata": {},
     "output_type": "display_data"
    },
    {
     "data": {
      "application/vnd.jupyter.widget-view+json": {
       "model_id": "",
       "version_major": 2,
       "version_minor": 0
      },
      "text/plain": [
       "FloatProgress(value=0.0, bar_style='info', description='Progress:', layout=Layout(height='25px', width='50%'),…"
      ]
     },
     "metadata": {},
     "output_type": "display_data"
    },
    {
     "name": "stdout",
     "output_type": "stream",
     "text": [
      "Model Details\n",
      "=============\n",
      "H2ODeepLearningEstimator :  Deep Learning\n",
      "Model Key:  DeepLearning_model_python_1579216913877_4\n",
      "\n",
      "\n",
      "Status of Neuron Layers: predicting label, 18-class classification, multinomial distribution, CrossEntropy loss, 95,518 weights/biases, 1.1 MB, 24,552 training samples, mini-batch size 1\n",
      "    layer    units    type       dropout    l1    l2    mean_rate              rate_rms               momentum    mean_weight             weight_rms           mean_bias              bias_rms\n",
      "--  -------  -------  ---------  ---------  ----  ----  ---------------------  ---------------------  ----------  ----------------------  -------------------  ---------------------  --------------------\n",
      "    1        112      Input      20.0\n",
      "    2        250      Rectifier  0.0        0.0   0.0   0.0025248632574356245  0.0009717685170471668  0.0         0.0028431132774286586   0.0750001072883606   0.44455168380489085    0.02698822319507599\n",
      "    3        250      Rectifier  0.0        0.0   0.0   0.0022850019076112657  0.0006326229777187109  0.0         -0.006257516326986952   0.06295722723007202  0.9868851214812868     0.015201207250356674\n",
      "    4        18       Softmax               0.0   0.0   0.006394587579881772   0.0368259996175766     0.0         -0.0037201806533848866  0.35680973529815674  -0.010323260331146382  0.004979252815246582\n",
      "\n",
      "\n",
      "ModelMetricsMultinomial: deeplearning\n",
      "** Reported on train data. **\n",
      "\n",
      "MSE: 0.05567692169493631\n",
      "RMSE: 0.23595957640014595\n",
      "LogLoss: 0.1814606454485525\n",
      "Mean Per-Class Error: 0.06310065918571847\n",
      "\n",
      "Confusion Matrix: Row labels: Actual class; Column labels: Predicted class\n",
      "A    B    C    D    E    F    G    H    I    J    K    L    M    O    P    Q    R    S    Error      Rate\n",
      "---  ---  ---  ---  ---  ---  ---  ---  ---  ---  ---  ---  ---  ---  ---  ---  ---  ---  ---------  --------\n",
      "45   0    0    0    0    0    0    0    0    0    0    0    1    0    0    0    0    0    0.0217391  1 / 46\n",
      "0    39   0    0    0    0    0    0    0    0    0    0    0    0    0    0    0    0    0          0 / 39\n",
      "0    0    32   0    0    0    0    0    0    0    0    0    2    0    0    0    0    0    0.0588235  2 / 34\n",
      "0    0    0    37   0    2    0    0    0    0    0    0    0    0    0    1    0    1    0.097561   4 / 41\n",
      "0    0    0    0    40   0    0    0    0    0    0    0    0    0    0    1    0    0    0.0243902  1 / 41\n",
      "0    0    0    0    0    42   0    0    0    0    0    0    0    0    0    0    0    0    0          0 / 42\n",
      "0    0    0    0    0    1    36   0    0    0    0    1    0    0    0    0    0    0    0.0526316  2 / 38\n",
      "0    0    0    0    1    1    1    43   0    0    1    0    0    0    0    0    0    0    0.0851064  4 / 47\n",
      "0    0    0    2    0    0    0    2    34   0    0    0    0    0    0    0    0    0    0.105263   4 / 38\n",
      "0    0    0    1    0    1    1    5    0    30   0    0    0    0    0    0    0    0    0.210526   8 / 38\n",
      "0    0    0    0    0    0    0    0    1    0    39   1    0    0    0    0    0    0    0.0487805  2 / 41\n",
      "0    0    0    1    1    1    0    3    2    0    1    28   0    0    0    0    0    1    0.263158   10 / 38\n",
      "0    0    0    0    0    0    0    0    0    0    0    0    38   0    0    0    0    0    0          0 / 38\n",
      "0    0    0    0    0    0    0    0    0    0    0    0    2    36   1    0    0    0    0.0769231  3 / 39\n",
      "0    0    0    0    0    0    0    0    0    0    0    0    0    0    40   0    0    0    0          0 / 40\n",
      "0    0    0    0    1    2    0    0    0    0    0    0    0    0    0    30   0    0    0.0909091  3 / 33\n",
      "0    0    0    0    0    0    0    0    0    0    0    0    0    0    0    0    41   0    0          0 / 41\n",
      "0    0    0    0    0    0    0    0    0    0    0    0    0    0    0    0    0    40   0          0 / 40\n",
      "45   39   32   41   43   50   38   53   37   30   41   30   43   36   41   32   41   42   0.0616246  44 / 714\n",
      "\n",
      "Top-10 Hit Ratios: \n",
      "k    hit_ratio\n",
      "---  -----------\n",
      "1    0.938375\n",
      "2    0.987395\n",
      "3    0.994398\n",
      "4    0.997199\n",
      "5    1\n",
      "6    1\n",
      "7    1\n",
      "8    1\n",
      "9    1\n",
      "10   1\n",
      "\n",
      "ModelMetricsMultinomial: deeplearning\n",
      "** Reported on validation data. **\n",
      "\n",
      "MSE: 0.4280493020840635\n",
      "RMSE: 0.6542547684840084\n",
      "LogLoss: 1.9898290368303544\n",
      "Mean Per-Class Error: 0.49908112947328626\n",
      "\n",
      "Confusion Matrix: Row labels: Actual class; Column labels: Predicted class\n",
      "A    B    C    D    E    F    G    H    I    J    K    L    M    O    P    Q    R    S    Error      Rate\n",
      "---  ---  ---  ---  ---  ---  ---  ---  ---  ---  ---  ---  ---  ---  ---  ---  ---  ---  ---------  --------\n",
      "3    0    1    0    0    0    0    0    0    0    0    0    0    0    1    0    0    0    0.4        2 / 5\n",
      "0    10   0    0    0    0    0    0    0    0    0    0    0    0    0    0    0    0    0          0 / 10\n",
      "2    0    4    0    0    0    0    0    0    0    0    0    5    0    0    0    0    3    0.714286   10 / 14\n",
      "0    0    0    3    0    2    2    1    0    0    1    0    0    0    0    1    0    0    0.7        7 / 10\n",
      "0    0    0    1    2    1    1    1    1    1    1    0    0    0    0    0    0    0    0.777778   7 / 9\n",
      "0    0    0    0    0    6    0    0    0    0    0    0    0    0    0    1    0    0    0.142857   1 / 7\n",
      "0    0    0    1    0    0    6    0    0    0    2    0    0    0    0    0    4    0    0.538462   7 / 13\n",
      "0    0    0    0    1    0    0    1    0    0    0    0    0    0    0    1    0    0    0.666667   2 / 3\n",
      "0    0    0    1    1    1    0    1    2    0    2    4    0    0    0    0    0    0    0.833333   10 / 12\n",
      "0    0    0    1    0    0    1    0    0    6    0    1    0    0    0    2    0    0    0.454545   5 / 11\n",
      "0    0    0    1    0    0    2    0    1    0    4    1    0    0    0    0    0    1    0.6        6 / 10\n",
      "0    0    0    1    1    1    2    0    1    1    2    1    0    0    0    0    1    0    0.909091   10 / 11\n",
      "0    0    0    0    0    0    1    0    0    0    0    0    12   0    0    0    0    0    0.0769231  1 / 13\n",
      "0    0    0    0    0    0    0    0    0    0    0    0    2    4    2    0    0    2    0.6        6 / 10\n",
      "0    0    0    0    0    0    0    0    0    0    0    0    0    2    9    0    0    0    0.181818   2 / 11\n",
      "0    0    0    4    0    2    0    5    0    0    1    0    0    0    0    5    0    0    0.705882   12 / 17\n",
      "0    0    0    0    0    1    0    2    1    0    0    0    0    0    1    0    5    0    0.5        5 / 10\n",
      "0    0    0    1    0    0    0    0    0    1    0    0    0    0    0    0    0    9    0.181818   2 / 11\n",
      "5    10   5    14   5    14   15   11   6    9    13   7    19   6    13   10   10   15   0.508021   95 / 187\n",
      "\n",
      "Top-10 Hit Ratios: \n",
      "k    hit_ratio\n",
      "---  -----------\n",
      "1    0.491979\n",
      "2    0.673797\n",
      "3    0.786096\n",
      "4    0.850267\n",
      "5    0.903743\n",
      "6    0.919786\n",
      "7    0.941176\n",
      "8    0.962567\n",
      "9    0.962567\n",
      "10   0.967914\n",
      "\n",
      "ModelMetricsMultinomial: deeplearning\n",
      "** Reported on cross-validation data. **\n",
      "\n",
      "MSE: 0.44645001106585047\n",
      "RMSE: 0.6681691485438777\n",
      "LogLoss: 2.3367956748809946\n",
      "Mean Per-Class Error: 0.4855674636213679\n",
      "\n",
      "Confusion Matrix: Row labels: Actual class; Column labels: Predicted class\n",
      "A    B    C    D    E    F    G    H    I    J    K    L    M    O    P    Q    R    S    Error      Rate\n",
      "---  ---  ---  ---  ---  ---  ---  ---  ---  ---  ---  ---  ---  ---  ---  ---  ---  ---  ---------  ---------\n",
      "30   1    7    0    0    0    1    0    0    0    0    0    4    2    1    0    0    0    0.347826   16 / 46\n",
      "0    37   0    0    0    0    0    0    0    0    0    0    0    2    0    0    0    0    0.0512821  2 / 39\n",
      "10   2    13   0    0    0    0    0    0    0    0    0    8    1    0    0    0    0    0.617647   21 / 34\n",
      "0    0    0    13   5    10   0    3    3    0    3    0    0    0    0    1    1    2    0.682927   28 / 41\n",
      "0    0    0    1    21   3    1    3    0    0    4    2    1    0    0    4    1    0    0.487805   20 / 41\n",
      "0    0    0    8    1    21   3    4    1    1    0    0    0    0    0    3    0    0    0.5        21 / 42\n",
      "1    0    0    1    5    1    13   7    1    2    3    1    0    0    0    0    3    0    0.657895   25 / 38\n",
      "0    0    0    1    3    0    2    27   2    4    6    0    1    0    0    0    1    0    0.425532   20 / 47\n",
      "0    0    1    7    0    1    0    3    11   2    7    3    0    0    0    1    0    2    0.710526   27 / 38\n",
      "0    0    0    3    1    4    1    12   0    12   3    1    0    0    0    0    1    0    0.684211   26 / 38\n",
      "0    0    0    1    1    2    0    7    3    1    22   2    0    0    0    1    0    1    0.463415   19 / 41\n",
      "0    0    0    1    2    3    2    8    7    5    7    2    1    0    0    0    0    0    0.947368   36 / 38\n",
      "1    1    1    0    1    0    1    0    0    0    0    0    33   0    0    0    0    0    0.131579   5 / 38\n",
      "0    0    0    1    0    0    0    0    0    0    0    0    3    22   12   0    0    1    0.435897   17 / 39\n",
      "2    0    1    0    0    0    1    0    0    0    0    0    0    5    30   0    1    0    0.25       10 / 40\n",
      "0    0    0    8    3    6    0    3    0    0    0    0    0    0    0    13   0    0    0.606061   20 / 33\n",
      "0    0    0    0    3    1    1    5    0    1    0    0    1    2    1    0    25   1    0.390244   16 / 41\n",
      "1    0    0    2    0    0    2    0    0    1    0    0    2    3    1    0    2    26   0.35       14 / 40\n",
      "45   41   23   47   46   52   28   82   28   29   55   11   54   37   45   23   35   33   0.480392   343 / 714\n",
      "\n",
      "Top-10 Hit Ratios: \n",
      "k    hit_ratio\n",
      "---  -----------\n",
      "1    0.519608\n",
      "2    0.652661\n",
      "3    0.735294\n",
      "4    0.812325\n",
      "5    0.861345\n",
      "6    0.897759\n",
      "7    0.92437\n",
      "8    0.94958\n",
      "9    0.959384\n",
      "10   0.969188\n",
      "\n",
      "Cross-Validation Metrics Summary: \n",
      "                         mean      sd          cv_1_valid    cv_2_valid    cv_3_valid\n",
      "-----------------------  --------  ----------  ------------  ------------  ------------\n",
      "accuracy                 0.520644  0.0231173   0.494163      0.536797      0.530973\n",
      "err                      0.479356  0.0231173   0.505837      0.463203      0.469027\n",
      "err_count                114.333   13.5769     130           107           106\n",
      "logloss                  2.32345   0.286766    2.65322       2.1845        2.13263\n",
      "max_per_class_error      0.966667  0.057735    1             0.9           1\n",
      "mean_per_class_accuracy  0.519633  0.0326547   0.487736      0.552996      0.518165\n",
      "mean_per_class_error     0.480367  0.0326547   0.512264      0.447004      0.481835\n",
      "mse                      0.444978  0.0330871   0.482738      0.421056      0.43114\n",
      "r2                       0.983421  0.00159672  0.981776      0.983524      0.984964\n",
      "rmse                     0.666765  0.0245786   0.694793      0.648888      0.656613\n",
      "\n",
      "Scoring History: \n",
      "    timestamp            duration    training_speed    epochs    iterations    samples    training_rmse    training_logloss    training_r2    training_classification_error    validation_rmse    validation_logloss    validation_r2    validation_classification_error\n",
      "--  -------------------  ----------  ----------------  --------  ------------  ---------  ---------------  ------------------  -------------  -------------------------------  -----------------  --------------------  ---------------  ---------------------------------\n",
      "    2020-01-17 04:24:43  0.000 sec                     0         0             0          nan              nan                 nan            nan                              nan                nan                   nan              nan\n",
      "    2020-01-17 04:24:44  7.739 sec   3201 obs/sec      2.17927   1             1556       0.630147         1.71149             0.985293       0.44958                          0.758546           3.0576                0.978394         0.625668\n",
      "    2020-01-17 04:24:46  10.100 sec  8947 obs/sec      34.3866   5             24552      0.23596          0.181461            0.997938       0.0616246                        0.654255           1.98983               0.983927         0.508021\n",
      "\n",
      "Variable Importances: \n",
      "variable             relative_importance    scaled_importance    percentage\n",
      "-------------------  ---------------------  -------------------  --------------------\n",
      "waccel_z_avg         1.0                    1.0                  0.010016005438683617\n",
      "mae_z_watch_gyro     0.9803538918495178     0.9803538918495178   0.009819229912599422\n",
      "waccel_y_avg         0.9793457388877869     0.9793457388877869   0.009809132247051698\n",
      "mae_y_phone_accel    0.9672191739082336     0.9672191739082336   0.009687672506263944\n",
      "waccel_x_avg         0.9594442844390869     0.9594442844390869   0.009609799171055805\n",
      "---                  ---                    ---                  ---\n",
      "hist_y_2_phone_gyro  0.8265447616577148     0.8265447616577148   0.008278676828079127\n",
      "paccel_y_range       0.8247817754745483     0.8247817754745483   0.008261018748880206\n",
      "hist_x_1_phone_gyro  0.8204250335693359     0.8204250335693359   0.008217381598262657\n",
      "pgyro_x_range        0.8185991048812866     0.8185991048812866   0.008199093086592507\n",
      "cov_xz_phone_accel   0.8112016320228577     0.8112016320228577   0.008124999958209969"
     ]
    }
   ],
   "source": [
    "model_dl"
   ]
  },
  {
   "cell_type": "code",
   "execution_count": 71,
   "metadata": {},
   "outputs": [
    {
     "data": {
      "application/vnd.jupyter.widget-view+json": {
       "model_id": "9e850db465b84885a5d45c376e0a4342",
       "version_major": 2,
       "version_minor": 0
      },
      "text/plain": [
       "VBox()"
      ]
     },
     "metadata": {},
     "output_type": "display_data"
    },
    {
     "data": {
      "application/vnd.jupyter.widget-view+json": {
       "model_id": "",
       "version_major": 2,
       "version_minor": 0
      },
      "text/plain": [
       "FloatProgress(value=0.0, bar_style='info', description='Progress:', layout=Layout(height='25px', width='50%'),…"
      ]
     },
     "metadata": {},
     "output_type": "display_data"
    }
   ],
   "source": [
    "train1 = ss.read.parquet(\"s3a://group-4-distributed-data-systems/train\")"
   ]
  },
  {
   "cell_type": "code",
   "execution_count": 72,
   "metadata": {},
   "outputs": [
    {
     "data": {
      "application/vnd.jupyter.widget-view+json": {
       "model_id": "28aca8c9c50842a7a2ad2c638faf2d83",
       "version_major": 2,
       "version_minor": 0
      },
      "text/plain": [
       "VBox()"
      ]
     },
     "metadata": {},
     "output_type": "display_data"
    },
    {
     "data": {
      "application/vnd.jupyter.widget-view+json": {
       "model_id": "",
       "version_major": 2,
       "version_minor": 0
      },
      "text/plain": [
       "FloatProgress(value=0.0, bar_style='info', description='Progress:', layout=Layout(height='25px', width='50%'),…"
      ]
     },
     "metadata": {},
     "output_type": "display_data"
    }
   ],
   "source": [
    "valid1 = valid = ss.read.parquet(\"s3a://group-4-distributed-data-systems/valid\")"
   ]
  },
  {
   "cell_type": "code",
   "execution_count": 73,
   "metadata": {},
   "outputs": [
    {
     "data": {
      "application/vnd.jupyter.widget-view+json": {
       "model_id": "1c60d17160294b14a284cb18fa5944c5",
       "version_major": 2,
       "version_minor": 0
      },
      "text/plain": [
       "VBox()"
      ]
     },
     "metadata": {},
     "output_type": "display_data"
    },
    {
     "data": {
      "application/vnd.jupyter.widget-view+json": {
       "model_id": "",
       "version_major": 2,
       "version_minor": 0
      },
      "text/plain": [
       "FloatProgress(value=0.0, bar_style='info', description='Progress:', layout=Layout(height='25px', width='50%'),…"
      ]
     },
     "metadata": {},
     "output_type": "display_data"
    }
   ],
   "source": [
    "train_h2o = hc.as_h2o_frame(train1, \"train1\")"
   ]
  },
  {
   "cell_type": "code",
   "execution_count": 74,
   "metadata": {
    "scrolled": true
   },
   "outputs": [
    {
     "data": {
      "application/vnd.jupyter.widget-view+json": {
       "model_id": "805e64d2cd1346e49185e5bbba2ac76e",
       "version_major": 2,
       "version_minor": 0
      },
      "text/plain": [
       "VBox()"
      ]
     },
     "metadata": {},
     "output_type": "display_data"
    },
    {
     "data": {
      "application/vnd.jupyter.widget-view+json": {
       "model_id": "",
       "version_major": 2,
       "version_minor": 0
      },
      "text/plain": [
       "FloatProgress(value=0.0, bar_style='info', description='Progress:', layout=Layout(height='25px', width='50%'),…"
      ]
     },
     "metadata": {},
     "output_type": "display_data"
    }
   ],
   "source": [
    "valid_h2o = hc.as_h2o_frame(valid1, \"valid1\")"
   ]
  },
  {
   "cell_type": "code",
   "execution_count": 78,
   "metadata": {},
   "outputs": [
    {
     "data": {
      "application/vnd.jupyter.widget-view+json": {
       "model_id": "46346d44d9a74ce0991d6abfd6f14f28",
       "version_major": 2,
       "version_minor": 0
      },
      "text/plain": [
       "VBox()"
      ]
     },
     "metadata": {},
     "output_type": "display_data"
    },
    {
     "data": {
      "application/vnd.jupyter.widget-view+json": {
       "model_id": "",
       "version_major": 2,
       "version_minor": 0
      },
      "text/plain": [
       "FloatProgress(value=0.0, bar_style='info', description='Progress:', layout=Layout(height='25px', width='50%'),…"
      ]
     },
     "metadata": {},
     "output_type": "display_data"
    }
   ],
   "source": [
    "train_h2o[\"activity\"] = train_h2o[\"activity\"].asfactor()\n",
    "valid_h2o[\"activity\"] = valid_h2o[\"activity\"].asfactor()"
   ]
  },
  {
   "cell_type": "code",
   "execution_count": 79,
   "metadata": {},
   "outputs": [
    {
     "data": {
      "application/vnd.jupyter.widget-view+json": {
       "model_id": "beabb29f8e144236a198833e4571dcf0",
       "version_major": 2,
       "version_minor": 0
      },
      "text/plain": [
       "VBox()"
      ]
     },
     "metadata": {},
     "output_type": "display_data"
    },
    {
     "data": {
      "application/vnd.jupyter.widget-view+json": {
       "model_id": "",
       "version_major": 2,
       "version_minor": 0
      },
      "text/plain": [
       "FloatProgress(value=0.0, bar_style='info', description='Progress:', layout=Layout(height='25px', width='50%'),…"
      ]
     },
     "metadata": {},
     "output_type": "display_data"
    }
   ],
   "source": [
    "predictors = [l for l in train_h2o.columns if 'p' in l]\n",
    "\n",
    "response = \"activity\"\n",
    "predictors.remove('person_id')"
   ]
  },
  {
   "cell_type": "code",
   "execution_count": 80,
   "metadata": {},
   "outputs": [
    {
     "data": {
      "application/vnd.jupyter.widget-view+json": {
       "model_id": "9d84f11ba24c4174a3c821ed8cccc780",
       "version_major": 2,
       "version_minor": 0
      },
      "text/plain": [
       "VBox()"
      ]
     },
     "metadata": {},
     "output_type": "display_data"
    },
    {
     "data": {
      "application/vnd.jupyter.widget-view+json": {
       "model_id": "",
       "version_major": 2,
       "version_minor": 0
      },
      "text/plain": [
       "FloatProgress(value=0.0, bar_style='info', description='Progress:', layout=Layout(height='25px', width='50%'),…"
      ]
     },
     "metadata": {},
     "output_type": "display_data"
    },
    {
     "name": "stdout",
     "output_type": "stream",
     "text": [
      "AutoML progress: [\n",
      "02:35:35.982: AutoML: XGBoost is not available in multi-node cluster; skipping it. See http://docs.h2o.ai/h2o/latest-stable/h2o-docs/automl.html#experimental-features for details.\n",
      "\n",
      "########################################################] 100%"
     ]
    }
   ],
   "source": [
    "from h2o.automl import H2OAutoML\n",
    "model_automl = H2OAutoML(max_models = 5, seed = 1, nfolds = 3) # seed : Set a seed for reproducibility\n",
    "model_automl.train(x=predictors,\n",
    "                y=response,\n",
    "                training_frame=train_h2o)"
   ]
  },
  {
   "cell_type": "code",
   "execution_count": 81,
   "metadata": {},
   "outputs": [
    {
     "data": {
      "application/vnd.jupyter.widget-view+json": {
       "model_id": "04b3625e453a4daba5348ec851ee9b61",
       "version_major": 2,
       "version_minor": 0
      },
      "text/plain": [
       "VBox()"
      ]
     },
     "metadata": {},
     "output_type": "display_data"
    },
    {
     "data": {
      "application/vnd.jupyter.widget-view+json": {
       "model_id": "",
       "version_major": 2,
       "version_minor": 0
      },
      "text/plain": [
       "FloatProgress(value=0.0, bar_style='info', description='Progress:', layout=Layout(height='25px', width='50%'),…"
      ]
     },
     "metadata": {},
     "output_type": "display_data"
    },
    {
     "name": "stdout",
     "output_type": "stream",
     "text": [
      "model_id                                               mean_per_class_error    logloss      rmse       mse\n",
      "---------------------------------------------------  ----------------------  ---------  --------  --------\n",
      "GBM_3_AutoML_20200117_023535                                       0.718912    2.45696  0.831426  0.69127\n",
      "GBM_2_AutoML_20200117_023535                                       0.722196    2.41923  0.835332  0.69778\n",
      "DRF_1_AutoML_20200117_023535                                       0.746974    4.23416  0.839833  0.70532\n",
      "GBM_1_AutoML_20200117_023535                                       0.753089    2.61298  0.846367  0.716338\n",
      "GLM_1_AutoML_20200117_023535                                       0.790994    2.39897  0.881197  0.776508\n",
      "StackedEnsemble_AllModels_AutoML_20200117_023535                   0.919443    2.86614  0.936266  0.876593\n",
      "StackedEnsemble_BestOfFamily_AutoML_20200117_023535                0.920867    2.88399  0.941728  0.886851\n",
      "\n",
      "[7 rows x 5 columns]"
     ]
    }
   ],
   "source": [
    "model_automl.leaderboard"
   ]
  },
  {
   "cell_type": "code",
   "execution_count": 82,
   "metadata": {
    "scrolled": true
   },
   "outputs": [
    {
     "data": {
      "application/vnd.jupyter.widget-view+json": {
       "model_id": "51bf2f7c7ad74918a16afc7f68896009",
       "version_major": 2,
       "version_minor": 0
      },
      "text/plain": [
       "VBox()"
      ]
     },
     "metadata": {},
     "output_type": "display_data"
    },
    {
     "data": {
      "application/vnd.jupyter.widget-view+json": {
       "model_id": "",
       "version_major": 2,
       "version_minor": 0
      },
      "text/plain": [
       "FloatProgress(value=0.0, bar_style='info', description='Progress:', layout=Layout(height='25px', width='50%'),…"
      ]
     },
     "metadata": {},
     "output_type": "display_data"
    },
    {
     "name": "stdout",
     "output_type": "stream",
     "text": [
      "Model Details\n",
      "=============\n",
      "H2OGradientBoostingEstimator :  Gradient Boosting Machine\n",
      "Model Key:  GBM_3_AutoML_20200117_023535\n",
      "\n",
      "\n",
      "Model Summary: \n",
      "    number_of_trees    number_of_internal_trees    model_size_in_bytes    min_depth    max_depth    mean_depth    min_leaves    max_leaves    mean_leaves\n",
      "--  -----------------  --------------------------  ---------------------  -----------  -----------  ------------  ------------  ------------  -------------\n",
      "    35                 630                         236520                 3            8            7.95238       5             44            25.0746\n",
      "\n",
      "\n",
      "ModelMetricsMultinomial: gbm\n",
      "** Reported on train data. **\n",
      "\n",
      "MSE: 0.009195865803394758\n",
      "RMSE: 0.09589507705505407\n",
      "LogLoss: 0.08706269070714788\n",
      "Mean Per-Class Error: 0.0\n",
      "\n",
      "Confusion Matrix: Row labels: Actual class; Column labels: Predicted class\n",
      "A    B    C    D    E    F    G    H    I    J    K    L    M    O    P    Q    R    S    Error    Rate\n",
      "---  ---  ---  ---  ---  ---  ---  ---  ---  ---  ---  ---  ---  ---  ---  ---  ---  ---  -------  -------\n",
      "39   0    0    0    0    0    0    0    0    0    0    0    0    0    0    0    0    0    0        0 / 39\n",
      "0    39   0    0    0    0    0    0    0    0    0    0    0    0    0    0    0    0    0        0 / 39\n",
      "0    0    38   0    0    0    0    0    0    0    0    0    0    0    0    0    0    0    0        0 / 38\n",
      "0    0    0    40   0    0    0    0    0    0    0    0    0    0    0    0    0    0    0        0 / 40\n",
      "0    0    0    0    37   0    0    0    0    0    0    0    0    0    0    0    0    0    0        0 / 37\n",
      "0    0    0    0    0    42   0    0    0    0    0    0    0    0    0    0    0    0    0        0 / 42\n",
      "0    0    0    0    0    0    43   0    0    0    0    0    0    0    0    0    0    0    0        0 / 43\n",
      "0    0    0    0    0    0    0    39   0    0    0    0    0    0    0    0    0    0    0        0 / 39\n",
      "0    0    0    0    0    0    0    0    42   0    0    0    0    0    0    0    0    0    0        0 / 42\n",
      "0    0    0    0    0    0    0    0    0    40   0    0    0    0    0    0    0    0    0        0 / 40\n",
      "0    0    0    0    0    0    0    0    0    0    38   0    0    0    0    0    0    0    0        0 / 38\n",
      "0    0    0    0    0    0    0    0    0    0    0    41   0    0    0    0    0    0    0        0 / 41\n",
      "0    0    0    0    0    0    0    0    0    0    0    0    40   0    0    0    0    0    0        0 / 40\n",
      "0    0    0    0    0    0    0    0    0    0    0    0    0    42   0    0    0    0    0        0 / 42\n",
      "0    0    0    0    0    0    0    0    0    0    0    0    0    0    42   0    0    0    0        0 / 42\n",
      "0    0    0    0    0    0    0    0    0    0    0    0    0    0    0    37   0    0    0        0 / 37\n",
      "0    0    0    0    0    0    0    0    0    0    0    0    0    0    0    0    42   0    0        0 / 42\n",
      "0    0    0    0    0    0    0    0    0    0    0    0    0    0    0    0    0    49   0        0 / 49\n",
      "39   39   38   40   37   42   43   39   42   40   38   41   40   42   42   37   42   49   0        0 / 730\n",
      "\n",
      "Top-10 Hit Ratios: \n",
      "k    hit_ratio\n",
      "---  -----------\n",
      "1    1\n",
      "2    1\n",
      "3    1\n",
      "4    1\n",
      "5    1\n",
      "6    1\n",
      "7    1\n",
      "8    1\n",
      "9    1\n",
      "10   1\n",
      "\n",
      "ModelMetricsMultinomial: gbm\n",
      "** Reported on cross-validation data. **\n",
      "\n",
      "MSE: 0.6912697942608789\n",
      "RMSE: 0.8314263612977874\n",
      "LogLoss: 2.456964140948211\n",
      "Mean Per-Class Error: 0.7189120490155444\n",
      "\n",
      "Confusion Matrix: Row labels: Actual class; Column labels: Predicted class\n",
      "A    B    C    D    E    F    G    H    I    J    K    L    M    O    P    Q    R    S    Error     Rate\n",
      "---  ---  ---  ---  ---  ---  ---  ---  ---  ---  ---  ---  ---  ---  ---  ---  ---  ---  --------  ---------\n",
      "26   2    4    0    0    0    0    0    0    0    0    0    4    1    1    0    1    0    0.333333  13 / 39\n",
      "4    33   2    0    0    0    0    0    0    0    0    0    0    0    0    0    0    0    0.153846  6 / 39\n",
      "7    2    19   0    0    0    0    0    0    0    0    0    7    3    0    0    0    0    0.5       19 / 38\n",
      "0    0    0    5    0    9    7    3    5    0    2    1    1    0    1    1    2    3    0.875     35 / 40\n",
      "0    0    0    1    13   2    4    0    2    0    1    1    0    1    1    3    1    7    0.648649  24 / 37\n",
      "0    0    0    3    5    4    3    1    5    3    3    2    0    1    0    9    2    1    0.904762  38 / 42\n",
      "0    0    1    4    3    1    6    2    6    6    1    1    1    1    0    4    3    3    0.860465  37 / 43\n",
      "0    0    0    1    0    3    5    5    5    5    4    2    0    0    1    1    6    1    0.871795  34 / 39\n",
      "0    0    0    3    1    4    3    2    7    5    2    7    0    0    0    4    3    1    0.833333  35 / 42\n",
      "0    0    0    2    1    0    3    7    7    6    1    4    0    0    0    3    4    2    0.85      34 / 40\n",
      "0    0    1    4    1    4    4    3    2    3    3    4    1    0    0    4    2    2    0.921053  35 / 38\n",
      "0    0    1    3    1    2    5    3    4    5    4    4    0    0    0    2    4    3    0.902439  37 / 41\n",
      "0    0    2    0    0    0    0    0    0    0    0    0    26   4    7    0    0    1    0.35      14 / 40\n",
      "0    2    1    0    0    0    1    0    0    0    0    0    9    8    16   0    0    5    0.809524  34 / 42\n",
      "0    3    2    0    1    0    0    0    0    0    0    0    4    11   15   0    0    6    0.642857  27 / 42\n",
      "0    0    0    4    4    6    1    1    5    5    1    3    0    0    1    2    3    1    0.945946  35 / 37\n",
      "0    0    1    4    1    3    4    2    5    3    1    6    1    1    1    2    4    3    0.904762  38 / 42\n",
      "1    0    2    0    4    1    0    0    2    1    1    2    1    10   4    0    2    18   0.632653  31 / 49\n",
      "38   42   36   34   35   39   46   29   55   42   24   37   55   41   48   35   37   57   0.720548  526 / 730\n",
      "\n",
      "Top-10 Hit Ratios: \n",
      "k    hit_ratio\n",
      "---  -----------\n",
      "1    0.279452\n",
      "2    0.417808\n",
      "3    0.50411\n",
      "4    0.593151\n",
      "5    0.652055\n",
      "6    0.721918\n",
      "7    0.773973\n",
      "8    0.823288\n",
      "9    0.864384\n",
      "10   0.908219\n",
      "\n",
      "Cross-Validation Metrics Summary: \n",
      "                         mean      sd          cv_1_valid    cv_2_valid    cv_3_valid\n",
      "-----------------------  --------  ----------  ------------  ------------  ------------\n",
      "accuracy                 0.279526  0.0479821   0.22541       0.296296      0.316872\n",
      "err                      0.720474  0.0479821   0.77459       0.703704      0.683128\n",
      "err_count                175.333   12.0968     189           171           166\n",
      "logloss                  2.45693   0.05634     2.48148       2.39248       2.49683\n",
      "max_per_class_error      1         0           1             1             1\n",
      "mean_per_class_accuracy  0.282422  0.0473695   0.229706      0.296145      0.321415\n",
      "mean_per_class_error     0.717578  0.0473695   0.770294      0.703855      0.678585\n",
      "mse                      0.691233  0.0253458   0.71827       0.687417      0.668011\n",
      "r2                       0.974588  0.00103717  0.973425      0.974921      0.975417\n",
      "rmse                     0.831311  0.0152147   0.847508      0.829106      0.817319\n",
      "\n",
      "Scoring History: \n",
      "    timestamp            duration          number_of_trees    training_rmse    training_logloss    training_classification_error\n",
      "--  -------------------  ----------------  -----------------  ---------------  ------------------  -------------------------------\n",
      "    2020-01-17 02:39:40  52.971 sec        0                  0.944444         2.89037             0.949315\n",
      "    2020-01-17 02:39:44  56.580 sec        5                  0.727659         1.36645             0.123288\n",
      "    2020-01-17 02:39:47  1 min  0.338 sec  10                 0.549797         0.807992            0.0232877\n",
      "    2020-01-17 02:39:51  1 min  3.891 sec  15                 0.39992          0.495134            0.00547945\n",
      "    2020-01-17 02:39:54  1 min  7.277 sec  20                 0.284351         0.312312            0.00273973\n",
      "    2020-01-17 02:39:58  1 min 10.841 sec  25                 0.197108         0.19882             0\n",
      "    2020-01-17 02:40:01  1 min 14.483 sec  30                 0.137661         0.130535            0\n",
      "    2020-01-17 02:40:05  1 min 17.982 sec  35                 0.0958951        0.0870627           0\n",
      "\n",
      "Variable Importances: \n",
      "variable             relative_importance    scaled_importance     percentage\n",
      "-------------------  ---------------------  --------------------  --------------------\n",
      "mae_y_phone_accel    144.22506713867188     1.0                   0.08377205058837534\n",
      "paccel_y_avg         68.10324096679688      0.4722011389415119    0.03955725769929678\n",
      "mae_z_phone_gyro     62.03325271606445      0.43011422318437686   0.03603155046338138\n",
      "paccel_z_avg         56.24044418334961      0.3899491627850977    0.032666840991727814\n",
      "paccel_y_stdev       51.90341567993164      0.3598779096426192    0.03014771045222026\n",
      "---                  ---                    ---                   ---\n",
      "cov_xy_phone_gyro    10.445019721984863     0.07242166656051555   0.006066911514801959\n",
      "hist_z_3_phone_gyro  10.087462425231934     0.06994250462392142   0.00585922703563282\n",
      "hist_y_0_phone_gyro  9.986223220825195      0.06924055172200737   0.00580042300162302\n",
      "cov_xz_phone_gyro    9.749427795410156      0.06759870519620641   0.005662882151405274\n",
      "cov_xy_phone_accel   6.952874183654785      0.048208500239210306  0.00403852492082883"
     ]
    }
   ],
   "source": [
    "h2o.get_model(\"GBM_3_AutoML_20200117_023535\")"
   ]
  },
  {
   "cell_type": "code",
   "execution_count": 84,
   "metadata": {},
   "outputs": [
    {
     "data": {
      "application/vnd.jupyter.widget-view+json": {
       "model_id": "124c36a3e3fd45009420f42e6513f2f0",
       "version_major": 2,
       "version_minor": 0
      },
      "text/plain": [
       "VBox()"
      ]
     },
     "metadata": {},
     "output_type": "display_data"
    },
    {
     "data": {
      "application/vnd.jupyter.widget-view+json": {
       "model_id": "",
       "version_major": 2,
       "version_minor": 0
      },
      "text/plain": [
       "FloatProgress(value=0.0, bar_style='info', description='Progress:', layout=Layout(height='25px', width='50%'),…"
      ]
     },
     "metadata": {},
     "output_type": "display_data"
    }
   ],
   "source": [
    "# Watch only"
   ]
  },
  {
   "cell_type": "code",
   "execution_count": 86,
   "metadata": {},
   "outputs": [
    {
     "data": {
      "application/vnd.jupyter.widget-view+json": {
       "model_id": "2a2a006dc8a7465582b24d5beb90899f",
       "version_major": 2,
       "version_minor": 0
      },
      "text/plain": [
       "VBox()"
      ]
     },
     "metadata": {},
     "output_type": "display_data"
    },
    {
     "data": {
      "application/vnd.jupyter.widget-view+json": {
       "model_id": "",
       "version_major": 2,
       "version_minor": 0
      },
      "text/plain": [
       "FloatProgress(value=0.0, bar_style='info', description='Progress:', layout=Layout(height='25px', width='50%'),…"
      ]
     },
     "metadata": {},
     "output_type": "display_data"
    }
   ],
   "source": [
    "predictors = [l for l in train_h2o.columns if 'w' in l]\n",
    "\n",
    "response = \"activity\"\n",
    "#predictors.remove('person_id')"
   ]
  },
  {
   "cell_type": "code",
   "execution_count": 87,
   "metadata": {},
   "outputs": [
    {
     "data": {
      "application/vnd.jupyter.widget-view+json": {
       "model_id": "fd628814e88d4df194c6655abee0eb82",
       "version_major": 2,
       "version_minor": 0
      },
      "text/plain": [
       "VBox()"
      ]
     },
     "metadata": {},
     "output_type": "display_data"
    },
    {
     "data": {
      "application/vnd.jupyter.widget-view+json": {
       "model_id": "",
       "version_major": 2,
       "version_minor": 0
      },
      "text/plain": [
       "FloatProgress(value=0.0, bar_style='info', description='Progress:', layout=Layout(height='25px', width='50%'),…"
      ]
     },
     "metadata": {},
     "output_type": "display_data"
    },
    {
     "name": "stdout",
     "output_type": "stream",
     "text": [
      "AutoML progress: [\n",
      "02:47:09.790: AutoML: XGBoost is not available in multi-node cluster; skipping it. See http://docs.h2o.ai/h2o/latest-stable/h2o-docs/automl.html#experimental-features for details.\n",
      "\n",
      "########################################################] 100%"
     ]
    }
   ],
   "source": [
    "from h2o.automl import H2OAutoML\n",
    "model_automl = H2OAutoML(max_models = 10, seed = 1, nfolds = 3) # seed : Set a seed for reproducibility\n",
    "model_automl.train(x=predictors,\n",
    "                y=response,\n",
    "                training_frame=train_h2o)"
   ]
  },
  {
   "cell_type": "code",
   "execution_count": 88,
   "metadata": {},
   "outputs": [
    {
     "data": {
      "application/vnd.jupyter.widget-view+json": {
       "model_id": "ece3f4bf48204deb9c5af474cf018cc8",
       "version_major": 2,
       "version_minor": 0
      },
      "text/plain": [
       "VBox()"
      ]
     },
     "metadata": {},
     "output_type": "display_data"
    },
    {
     "data": {
      "application/vnd.jupyter.widget-view+json": {
       "model_id": "",
       "version_major": 2,
       "version_minor": 0
      },
      "text/plain": [
       "FloatProgress(value=0.0, bar_style='info', description='Progress:', layout=Layout(height='25px', width='50%'),…"
      ]
     },
     "metadata": {},
     "output_type": "display_data"
    },
    {
     "name": "stdout",
     "output_type": "stream",
     "text": [
      "model_id                                               mean_per_class_error    logloss      rmse       mse\n",
      "---------------------------------------------------  ----------------------  ---------  --------  --------\n",
      "XRT_1_AutoML_20200117_024709                                       0.329984    1.6524   0.651315  0.424211\n",
      "GBM_3_AutoML_20200117_024709                                       0.330734    1.14591  0.557705  0.311035\n",
      "GBM_2_AutoML_20200117_024709                                       0.332713    1.15643  0.558423  0.311837\n",
      "GBM_grid__1_AutoML_20200117_024709_model_1                         0.33472     2.16995  0.872999  0.762127\n",
      "GBM_4_AutoML_20200117_024709                                       0.342692    1.12831  0.559884  0.31347\n",
      "DRF_1_AutoML_20200117_024709                                       0.343596    1.70953  0.648904  0.421077\n",
      "StackedEnsemble_AllModels_AutoML_20200117_024709                   0.3525      2.01486  0.825362  0.681223\n",
      "GBM_5_AutoML_20200117_024709                                       0.353761    1.21239  0.620647  0.385202\n",
      "GBM_1_AutoML_20200117_024709                                       0.374347    1.35587  0.594099  0.352954\n",
      "StackedEnsemble_BestOfFamily_AutoML_20200117_024709                0.385       2.23756  0.834487  0.696369\n",
      "\n",
      "[12 rows x 5 columns]"
     ]
    }
   ],
   "source": [
    "model_automl.leaderboard"
   ]
  },
  {
   "cell_type": "code",
   "execution_count": 89,
   "metadata": {
    "scrolled": true
   },
   "outputs": [
    {
     "data": {
      "application/vnd.jupyter.widget-view+json": {
       "model_id": "1731a07b74f444faac8cf0714ff8143a",
       "version_major": 2,
       "version_minor": 0
      },
      "text/plain": [
       "VBox()"
      ]
     },
     "metadata": {},
     "output_type": "display_data"
    },
    {
     "data": {
      "application/vnd.jupyter.widget-view+json": {
       "model_id": "",
       "version_major": 2,
       "version_minor": 0
      },
      "text/plain": [
       "FloatProgress(value=0.0, bar_style='info', description='Progress:', layout=Layout(height='25px', width='50%'),…"
      ]
     },
     "metadata": {},
     "output_type": "display_data"
    },
    {
     "name": "stdout",
     "output_type": "stream",
     "text": [
      "Model Details\n",
      "=============\n",
      "H2ORandomForestEstimator :  Distributed Random Forest\n",
      "Model Key:  XRT_1_AutoML_20200117_024709\n",
      "\n",
      "\n",
      "Model Summary: \n",
      "    number_of_trees    number_of_internal_trees    model_size_in_bytes    min_depth    max_depth    mean_depth    min_leaves    max_leaves    mean_leaves\n",
      "--  -----------------  --------------------------  ---------------------  -----------  -----------  ------------  ------------  ------------  -------------\n",
      "    50                 900                         326765                 2            14           8.58889       3             43            24.15\n",
      "\n",
      "\n",
      "ModelMetricsMultinomial: drf\n",
      "** Reported on train data. **\n",
      "\n",
      "MSE: 0.3854753680072956\n",
      "RMSE: 0.6208666265852076\n",
      "LogLoss: 2.8013403331251725\n",
      "Mean Per-Class Error: 0.31126562441760175\n",
      "\n",
      "Confusion Matrix: Row labels: Actual class; Column labels: Predicted class\n",
      "A    B    C    D    E    F    G    H    I    J    K    L    M    O    P    Q    R    S    Error      Rate\n",
      "---  ---  ---  ---  ---  ---  ---  ---  ---  ---  ---  ---  ---  ---  ---  ---  ---  ---  ---------  ---------\n",
      "23   0    8    0    0    0    2    0    0    0    0    0    1    1    1    0    0    3    0.410256   16 / 39\n",
      "1    38   0    0    0    0    0    0    0    0    0    0    0    0    0    0    0    0    0.025641   1 / 39\n",
      "5    0    22   0    0    0    0    0    1    0    0    0    6    0    0    0    1    3    0.421053   16 / 38\n",
      "0    0    0    24   4    2    0    0    2    0    1    3    0    0    1    1    0    2    0.4        16 / 40\n",
      "0    0    1    1    19   3    0    0    1    0    1    5    0    0    0    3    1    2    0.486486   18 / 37\n",
      "0    0    0    2    0    33   1    0    0    2    0    0    0    0    0    4    0    0    0.214286   9 / 42\n",
      "0    0    0    1    2    0    33   0    0    2    1    0    0    0    0    0    4    0    0.232558   10 / 43\n",
      "0    0    0    0    1    1    1    27   3    0    2    3    0    0    0    0    0    1    0.307692   12 / 39\n",
      "0    0    0    2    0    1    2    0    25   2    2    8    0    0    0    0    0    0    0.404762   17 / 42\n",
      "0    0    0    1    0    2    1    2    4    23   2    4    0    0    0    0    0    1    0.425      17 / 40\n",
      "0    0    0    1    3    1    0    0    3    2    23   3    0    0    0    2    0    0    0.394737   15 / 38\n",
      "0    0    1    3    0    1    3    2    7    2    4    17   0    0    0    1    0    0    0.585366   24 / 41\n",
      "0    0    6    0    0    0    1    0    0    1    0    0    28   2    1    0    1    0    0.3        12 / 40\n",
      "1    1    0    1    1    0    0    0    0    0    0    0    1    34   0    0    0    3    0.190476   8 / 42\n",
      "0    0    0    0    0    0    0    0    0    0    2    0    1    2    32   0    4    1    0.238095   10 / 42\n",
      "0    0    0    1    1    5    0    0    0    1    1    0    0    0    0    28   0    0    0.243243   9 / 37\n",
      "0    0    0    0    1    1    2    0    1    2    1    0    1    2    0    0    31   0    0.261905   11 / 42\n",
      "0    0    0    0    1    0    0    1    0    0    0    0    0    1    0    0    0    46   0.0612245  3 / 49\n",
      "30   39   38   37   33   50   46   32   47   37   40   43   38   42   35   39   42   62   0.306849   224 / 730\n",
      "\n",
      "Top-10 Hit Ratios: \n",
      "k    hit_ratio\n",
      "---  -----------\n",
      "1    0.693151\n",
      "2    0.786301\n",
      "3    0.841096\n",
      "4    0.861644\n",
      "5    0.872603\n",
      "6    0.872603\n",
      "7    0.875343\n",
      "8    0.876712\n",
      "9    0.880822\n",
      "10   0.882192\n",
      "\n",
      "ModelMetricsMultinomial: drf\n",
      "** Reported on cross-validation data. **\n",
      "\n",
      "MSE: 0.42421140568993065\n",
      "RMSE: 0.6513151354681777\n",
      "LogLoss: 1.6524049991417449\n",
      "Mean Per-Class Error: 0.3299839961457846\n",
      "\n",
      "Confusion Matrix: Row labels: Actual class; Column labels: Predicted class\n",
      "A    B    C    D    E    F    G    H    I    J    K    L    M    O    P    Q    R    S    Error      Rate\n",
      "---  ---  ---  ---  ---  ---  ---  ---  ---  ---  ---  ---  ---  ---  ---  ---  ---  ---  ---------  ---------\n",
      "25   0    8    0    0    1    1    0    0    0    0    0    1    0    1    0    0    2    0.358974   14 / 39\n",
      "1    35   0    0    0    0    0    0    0    0    0    0    0    3    0    0    0    0    0.102564   4 / 39\n",
      "7    0    22   0    0    0    0    0    0    0    0    1    3    2    0    0    0    3    0.421053   16 / 38\n",
      "0    0    0    23   1    5    0    1    3    0    0    4    0    0    0    1    0    2    0.425      17 / 40\n",
      "0    0    0    4    19   1    1    0    1    0    1    4    1    0    0    2    1    2    0.486486   18 / 37\n",
      "0    0    0    3    1    32   0    1    0    2    0    1    0    0    0    2    0    0    0.238095   10 / 42\n",
      "0    0    0    1    4    1    33   0    0    1    0    0    0    0    0    0    3    0    0.232558   10 / 43\n",
      "0    0    0    3    0    0    1    16   2    7    3    5    0    0    0    1    0    1    0.589744   23 / 39\n",
      "1    0    0    1    1    1    4    0    24   3    0    6    0    0    0    1    0    0    0.428571   18 / 42\n",
      "0    0    0    1    0    2    0    4    7    23   0    2    0    0    0    0    0    1    0.425      17 / 40\n",
      "0    0    0    0    2    2    0    0    5    1    24   4    0    0    0    0    0    0    0.368421   14 / 38\n",
      "0    0    0    4    0    0    2    1    13   3    3    13   0    0    0    0    1    1    0.682927   28 / 41\n",
      "1    0    4    0    0    0    2    1    0    0    0    0    30   1    0    0    1    0    0.25       10 / 40\n",
      "0    0    0    1    0    0    0    0    0    0    0    0    3    33   3    1    1    0    0.214286   9 / 42\n",
      "0    0    0    0    0    0    1    0    0    0    2    0    0    4    33   0    0    2    0.214286   9 / 42\n",
      "1    0    0    1    1    6    0    0    0    0    0    0    0    0    0    28   0    0    0.243243   9 / 37\n",
      "1    0    0    1    1    3    1    0    0    0    0    0    0    2    0    0    32   1    0.238095   10 / 42\n",
      "0    0    0    0    0    0    0    0    0    0    0    0    0    1    0    0    0    48   0.0204082  1 / 49\n",
      "37   35   34   43   30   54   46   24   55   40   33   40   38   46   37   36   39   63   0.324658   237 / 730\n",
      "\n",
      "Top-10 Hit Ratios: \n",
      "k    hit_ratio\n",
      "---  -----------\n",
      "1    0.675342\n",
      "2    0.793151\n",
      "3    0.845206\n",
      "4    0.875343\n",
      "5    0.891781\n",
      "6    0.90274\n",
      "7    0.910959\n",
      "8    0.915068\n",
      "9    0.919178\n",
      "10   0.923288\n",
      "\n",
      "Cross-Validation Metrics Summary: \n",
      "                         mean      sd           cv_1_valid    cv_2_valid    cv_3_valid\n",
      "-----------------------  --------  -----------  ------------  ------------  ------------\n",
      "accuracy                 0.675341  0.0329308    0.67623       0.641975      0.707819\n",
      "err                      0.324659  0.0329308    0.323771      0.358025      0.292181\n",
      "err_count                79        8            79            87            71\n",
      "logloss                  1.65214   0.170281     1.84713       1.53274       1.57654\n",
      "max_per_class_error      0.734127  0.0610905    0.785714      0.75          0.666667\n",
      "mean_per_class_accuracy  0.668656  0.0340744    0.674814      0.631922      0.699231\n",
      "mean_per_class_error     0.331344  0.0340744    0.325186      0.368078      0.300769\n",
      "mse                      0.424224  0.0210236    0.414835      0.448306      0.409532\n",
      "r2                       0.984408  0.000675818  0.984651      0.983645      0.984929\n",
      "rmse                     0.651193  0.0160368    0.644077      0.669557      0.639946\n",
      "\n",
      "Scoring History: \n",
      "    timestamp            duration    number_of_trees    training_rmse    training_logloss    training_classification_error\n",
      "--  -------------------  ----------  -----------------  ---------------  ------------------  -------------------------------\n",
      "    2020-01-17 02:57:45  35.830 sec  0                  nan              nan                 nan\n",
      "    2020-01-17 02:57:47  37.991 sec  5                  0.730496         14.7478             0.594311\n",
      "    2020-01-17 02:57:49  40.052 sec  10                 0.668739         9.17694             0.513103\n",
      "    2020-01-17 02:57:51  42.035 sec  15                 0.652133         6.79883             0.443836\n",
      "    2020-01-17 02:57:53  44.123 sec  20                 0.634459         5.43406             0.378082\n",
      "    2020-01-17 02:57:55  46.037 sec  25                 0.629334         4.51344             0.357534\n",
      "    2020-01-17 02:57:57  47.937 sec  30                 0.62466          4.01395             0.335616\n",
      "    2020-01-17 02:57:59  49.912 sec  35                 0.625566         3.58468             0.332877\n",
      "    2020-01-17 02:58:01  52.025 sec  40                 0.623443         3.23783             0.320548\n",
      "    2020-01-17 02:58:03  53.818 sec  45                 0.622264         3.01774             0.312329\n",
      "    2020-01-17 02:58:05  55.688 sec  50                 0.620867         2.80134             0.306849\n",
      "\n",
      "Variable Importances: \n",
      "variable             relative_importance    scaled_importance    percentage\n",
      "-------------------  ---------------------  -------------------  --------------------\n",
      "waccel_x_avg         952.7653198242188      1.0                  0.040910270070271225\n",
      "mae_y_watch_accel    836.3002319335938      0.8777609916447081   0.0359094392253341\n",
      "mae_z_watch_accel    827.964599609375       0.8690121086293643   0.03555152005836317\n",
      "mae_x_watch_accel    739.4205322265625      0.7760783446263373   0.031749574674352486\n",
      "waccel_y_avg         712.2395629882812      0.7475498406256921   0.030582465870985277\n",
      "---                  ---                    ---                  ---\n",
      "wgyro_x_avg          166.39830017089844     0.17464772983298577  0.007144885794627213\n",
      "hist_y_0_watch_gyro  153.0511932373047      0.16063892130912363  0.006571781654553296\n",
      "hist_z_0_watch_gyro  152.3075408935547      0.1598584013549683   0.006539850372433565\n",
      "hist_x_0_watch_gyro  135.24514770507812     0.1419501160370009   0.005807217583580046\n",
      "hist_x_3_watch_gyro  105.45838928222656     0.11068663718961055  0.004528220220597095"
     ]
    }
   ],
   "source": [
    "h2o.get_model(\"XRT_1_AutoML_20200117_024709\")"
   ]
  },
  {
   "cell_type": "code",
   "execution_count": 84,
   "metadata": {},
   "outputs": [
    {
     "data": {
      "application/vnd.jupyter.widget-view+json": {
       "model_id": "124c36a3e3fd45009420f42e6513f2f0",
       "version_major": 2,
       "version_minor": 0
      },
      "text/plain": [
       "VBox()"
      ]
     },
     "metadata": {},
     "output_type": "display_data"
    },
    {
     "data": {
      "application/vnd.jupyter.widget-view+json": {
       "model_id": "",
       "version_major": 2,
       "version_minor": 0
      },
      "text/plain": [
       "FloatProgress(value=0.0, bar_style='info', description='Progress:', layout=Layout(height='25px', width='50%'),…"
      ]
     },
     "metadata": {},
     "output_type": "display_data"
    }
   ],
   "source": [
    "# Watch only"
   ]
  },
  {
   "cell_type": "code",
   "execution_count": 86,
   "metadata": {},
   "outputs": [
    {
     "data": {
      "application/vnd.jupyter.widget-view+json": {
       "model_id": "2a2a006dc8a7465582b24d5beb90899f",
       "version_major": 2,
       "version_minor": 0
      },
      "text/plain": [
       "VBox()"
      ]
     },
     "metadata": {},
     "output_type": "display_data"
    },
    {
     "data": {
      "application/vnd.jupyter.widget-view+json": {
       "model_id": "",
       "version_major": 2,
       "version_minor": 0
      },
      "text/plain": [
       "FloatProgress(value=0.0, bar_style='info', description='Progress:', layout=Layout(height='25px', width='50%'),…"
      ]
     },
     "metadata": {},
     "output_type": "display_data"
    }
   ],
   "source": [
    "predictors = [l for l in train_h2o.columns if 'w' in l]\n",
    "\n",
    "response = \"activity\"\n",
    "#predictors.remove('person_id')"
   ]
  },
  {
   "cell_type": "code",
   "execution_count": 87,
   "metadata": {},
   "outputs": [
    {
     "data": {
      "application/vnd.jupyter.widget-view+json": {
       "model_id": "fd628814e88d4df194c6655abee0eb82",
       "version_major": 2,
       "version_minor": 0
      },
      "text/plain": [
       "VBox()"
      ]
     },
     "metadata": {},
     "output_type": "display_data"
    },
    {
     "data": {
      "application/vnd.jupyter.widget-view+json": {
       "model_id": "",
       "version_major": 2,
       "version_minor": 0
      },
      "text/plain": [
       "FloatProgress(value=0.0, bar_style='info', description='Progress:', layout=Layout(height='25px', width='50%'),…"
      ]
     },
     "metadata": {},
     "output_type": "display_data"
    },
    {
     "name": "stdout",
     "output_type": "stream",
     "text": [
      "AutoML progress: [\n",
      "02:47:09.790: AutoML: XGBoost is not available in multi-node cluster; skipping it. See http://docs.h2o.ai/h2o/latest-stable/h2o-docs/automl.html#experimental-features for details.\n",
      "\n",
      "########################################################] 100%"
     ]
    }
   ],
   "source": [
    "from h2o.automl import H2OAutoML\n",
    "model_automl = H2OAutoML(max_models = 10, seed = 1, nfolds = 3) # seed : Set a seed for reproducibility\n",
    "model_automl.train(x=predictors,\n",
    "                y=response,\n",
    "                training_frame=train_h2o)"
   ]
  },
  {
   "cell_type": "code",
   "execution_count": 88,
   "metadata": {},
   "outputs": [
    {
     "data": {
      "application/vnd.jupyter.widget-view+json": {
       "model_id": "ece3f4bf48204deb9c5af474cf018cc8",
       "version_major": 2,
       "version_minor": 0
      },
      "text/plain": [
       "VBox()"
      ]
     },
     "metadata": {},
     "output_type": "display_data"
    },
    {
     "data": {
      "application/vnd.jupyter.widget-view+json": {
       "model_id": "",
       "version_major": 2,
       "version_minor": 0
      },
      "text/plain": [
       "FloatProgress(value=0.0, bar_style='info', description='Progress:', layout=Layout(height='25px', width='50%'),…"
      ]
     },
     "metadata": {},
     "output_type": "display_data"
    },
    {
     "name": "stdout",
     "output_type": "stream",
     "text": [
      "model_id                                               mean_per_class_error    logloss      rmse       mse\n",
      "---------------------------------------------------  ----------------------  ---------  --------  --------\n",
      "XRT_1_AutoML_20200117_024709                                       0.329984    1.6524   0.651315  0.424211\n",
      "GBM_3_AutoML_20200117_024709                                       0.330734    1.14591  0.557705  0.311035\n",
      "GBM_2_AutoML_20200117_024709                                       0.332713    1.15643  0.558423  0.311837\n",
      "GBM_grid__1_AutoML_20200117_024709_model_1                         0.33472     2.16995  0.872999  0.762127\n",
      "GBM_4_AutoML_20200117_024709                                       0.342692    1.12831  0.559884  0.31347\n",
      "DRF_1_AutoML_20200117_024709                                       0.343596    1.70953  0.648904  0.421077\n",
      "StackedEnsemble_AllModels_AutoML_20200117_024709                   0.3525      2.01486  0.825362  0.681223\n",
      "GBM_5_AutoML_20200117_024709                                       0.353761    1.21239  0.620647  0.385202\n",
      "GBM_1_AutoML_20200117_024709                                       0.374347    1.35587  0.594099  0.352954\n",
      "StackedEnsemble_BestOfFamily_AutoML_20200117_024709                0.385       2.23756  0.834487  0.696369\n",
      "\n",
      "[12 rows x 5 columns]"
     ]
    }
   ],
   "source": [
    "model_automl.leaderboard"
   ]
  },
  {
   "cell_type": "code",
   "execution_count": 89,
   "metadata": {
    "scrolled": true
   },
   "outputs": [
    {
     "data": {
      "application/vnd.jupyter.widget-view+json": {
       "model_id": "1731a07b74f444faac8cf0714ff8143a",
       "version_major": 2,
       "version_minor": 0
      },
      "text/plain": [
       "VBox()"
      ]
     },
     "metadata": {},
     "output_type": "display_data"
    },
    {
     "data": {
      "application/vnd.jupyter.widget-view+json": {
       "model_id": "",
       "version_major": 2,
       "version_minor": 0
      },
      "text/plain": [
       "FloatProgress(value=0.0, bar_style='info', description='Progress:', layout=Layout(height='25px', width='50%'),…"
      ]
     },
     "metadata": {},
     "output_type": "display_data"
    },
    {
     "name": "stdout",
     "output_type": "stream",
     "text": [
      "Model Details\n",
      "=============\n",
      "H2ORandomForestEstimator :  Distributed Random Forest\n",
      "Model Key:  XRT_1_AutoML_20200117_024709\n",
      "\n",
      "\n",
      "Model Summary: \n",
      "    number_of_trees    number_of_internal_trees    model_size_in_bytes    min_depth    max_depth    mean_depth    min_leaves    max_leaves    mean_leaves\n",
      "--  -----------------  --------------------------  ---------------------  -----------  -----------  ------------  ------------  ------------  -------------\n",
      "    50                 900                         326765                 2            14           8.58889       3             43            24.15\n",
      "\n",
      "\n",
      "ModelMetricsMultinomial: drf\n",
      "** Reported on train data. **\n",
      "\n",
      "MSE: 0.3854753680072956\n",
      "RMSE: 0.6208666265852076\n",
      "LogLoss: 2.8013403331251725\n",
      "Mean Per-Class Error: 0.31126562441760175\n",
      "\n",
      "Confusion Matrix: Row labels: Actual class; Column labels: Predicted class\n",
      "A    B    C    D    E    F    G    H    I    J    K    L    M    O    P    Q    R    S    Error      Rate\n",
      "---  ---  ---  ---  ---  ---  ---  ---  ---  ---  ---  ---  ---  ---  ---  ---  ---  ---  ---------  ---------\n",
      "23   0    8    0    0    0    2    0    0    0    0    0    1    1    1    0    0    3    0.410256   16 / 39\n",
      "1    38   0    0    0    0    0    0    0    0    0    0    0    0    0    0    0    0    0.025641   1 / 39\n",
      "5    0    22   0    0    0    0    0    1    0    0    0    6    0    0    0    1    3    0.421053   16 / 38\n",
      "0    0    0    24   4    2    0    0    2    0    1    3    0    0    1    1    0    2    0.4        16 / 40\n",
      "0    0    1    1    19   3    0    0    1    0    1    5    0    0    0    3    1    2    0.486486   18 / 37\n",
      "0    0    0    2    0    33   1    0    0    2    0    0    0    0    0    4    0    0    0.214286   9 / 42\n",
      "0    0    0    1    2    0    33   0    0    2    1    0    0    0    0    0    4    0    0.232558   10 / 43\n",
      "0    0    0    0    1    1    1    27   3    0    2    3    0    0    0    0    0    1    0.307692   12 / 39\n",
      "0    0    0    2    0    1    2    0    25   2    2    8    0    0    0    0    0    0    0.404762   17 / 42\n",
      "0    0    0    1    0    2    1    2    4    23   2    4    0    0    0    0    0    1    0.425      17 / 40\n",
      "0    0    0    1    3    1    0    0    3    2    23   3    0    0    0    2    0    0    0.394737   15 / 38\n",
      "0    0    1    3    0    1    3    2    7    2    4    17   0    0    0    1    0    0    0.585366   24 / 41\n",
      "0    0    6    0    0    0    1    0    0    1    0    0    28   2    1    0    1    0    0.3        12 / 40\n",
      "1    1    0    1    1    0    0    0    0    0    0    0    1    34   0    0    0    3    0.190476   8 / 42\n",
      "0    0    0    0    0    0    0    0    0    0    2    0    1    2    32   0    4    1    0.238095   10 / 42\n",
      "0    0    0    1    1    5    0    0    0    1    1    0    0    0    0    28   0    0    0.243243   9 / 37\n",
      "0    0    0    0    1    1    2    0    1    2    1    0    1    2    0    0    31   0    0.261905   11 / 42\n",
      "0    0    0    0    1    0    0    1    0    0    0    0    0    1    0    0    0    46   0.0612245  3 / 49\n",
      "30   39   38   37   33   50   46   32   47   37   40   43   38   42   35   39   42   62   0.306849   224 / 730\n",
      "\n",
      "Top-10 Hit Ratios: \n",
      "k    hit_ratio\n",
      "---  -----------\n",
      "1    0.693151\n",
      "2    0.786301\n",
      "3    0.841096\n",
      "4    0.861644\n",
      "5    0.872603\n",
      "6    0.872603\n",
      "7    0.875343\n",
      "8    0.876712\n",
      "9    0.880822\n",
      "10   0.882192\n",
      "\n",
      "ModelMetricsMultinomial: drf\n",
      "** Reported on cross-validation data. **\n",
      "\n",
      "MSE: 0.42421140568993065\n",
      "RMSE: 0.6513151354681777\n",
      "LogLoss: 1.6524049991417449\n",
      "Mean Per-Class Error: 0.3299839961457846\n",
      "\n",
      "Confusion Matrix: Row labels: Actual class; Column labels: Predicted class\n",
      "A    B    C    D    E    F    G    H    I    J    K    L    M    O    P    Q    R    S    Error      Rate\n",
      "---  ---  ---  ---  ---  ---  ---  ---  ---  ---  ---  ---  ---  ---  ---  ---  ---  ---  ---------  ---------\n",
      "25   0    8    0    0    1    1    0    0    0    0    0    1    0    1    0    0    2    0.358974   14 / 39\n",
      "1    35   0    0    0    0    0    0    0    0    0    0    0    3    0    0    0    0    0.102564   4 / 39\n",
      "7    0    22   0    0    0    0    0    0    0    0    1    3    2    0    0    0    3    0.421053   16 / 38\n",
      "0    0    0    23   1    5    0    1    3    0    0    4    0    0    0    1    0    2    0.425      17 / 40\n",
      "0    0    0    4    19   1    1    0    1    0    1    4    1    0    0    2    1    2    0.486486   18 / 37\n",
      "0    0    0    3    1    32   0    1    0    2    0    1    0    0    0    2    0    0    0.238095   10 / 42\n",
      "0    0    0    1    4    1    33   0    0    1    0    0    0    0    0    0    3    0    0.232558   10 / 43\n",
      "0    0    0    3    0    0    1    16   2    7    3    5    0    0    0    1    0    1    0.589744   23 / 39\n",
      "1    0    0    1    1    1    4    0    24   3    0    6    0    0    0    1    0    0    0.428571   18 / 42\n",
      "0    0    0    1    0    2    0    4    7    23   0    2    0    0    0    0    0    1    0.425      17 / 40\n",
      "0    0    0    0    2    2    0    0    5    1    24   4    0    0    0    0    0    0    0.368421   14 / 38\n",
      "0    0    0    4    0    0    2    1    13   3    3    13   0    0    0    0    1    1    0.682927   28 / 41\n",
      "1    0    4    0    0    0    2    1    0    0    0    0    30   1    0    0    1    0    0.25       10 / 40\n",
      "0    0    0    1    0    0    0    0    0    0    0    0    3    33   3    1    1    0    0.214286   9 / 42\n",
      "0    0    0    0    0    0    1    0    0    0    2    0    0    4    33   0    0    2    0.214286   9 / 42\n",
      "1    0    0    1    1    6    0    0    0    0    0    0    0    0    0    28   0    0    0.243243   9 / 37\n",
      "1    0    0    1    1    3    1    0    0    0    0    0    0    2    0    0    32   1    0.238095   10 / 42\n",
      "0    0    0    0    0    0    0    0    0    0    0    0    0    1    0    0    0    48   0.0204082  1 / 49\n",
      "37   35   34   43   30   54   46   24   55   40   33   40   38   46   37   36   39   63   0.324658   237 / 730\n",
      "\n",
      "Top-10 Hit Ratios: \n",
      "k    hit_ratio\n",
      "---  -----------\n",
      "1    0.675342\n",
      "2    0.793151\n",
      "3    0.845206\n",
      "4    0.875343\n",
      "5    0.891781\n",
      "6    0.90274\n",
      "7    0.910959\n",
      "8    0.915068\n",
      "9    0.919178\n",
      "10   0.923288\n",
      "\n",
      "Cross-Validation Metrics Summary: \n",
      "                         mean      sd           cv_1_valid    cv_2_valid    cv_3_valid\n",
      "-----------------------  --------  -----------  ------------  ------------  ------------\n",
      "accuracy                 0.675341  0.0329308    0.67623       0.641975      0.707819\n",
      "err                      0.324659  0.0329308    0.323771      0.358025      0.292181\n",
      "err_count                79        8            79            87            71\n",
      "logloss                  1.65214   0.170281     1.84713       1.53274       1.57654\n",
      "max_per_class_error      0.734127  0.0610905    0.785714      0.75          0.666667\n",
      "mean_per_class_accuracy  0.668656  0.0340744    0.674814      0.631922      0.699231\n",
      "mean_per_class_error     0.331344  0.0340744    0.325186      0.368078      0.300769\n",
      "mse                      0.424224  0.0210236    0.414835      0.448306      0.409532\n",
      "r2                       0.984408  0.000675818  0.984651      0.983645      0.984929\n",
      "rmse                     0.651193  0.0160368    0.644077      0.669557      0.639946\n",
      "\n",
      "Scoring History: \n",
      "    timestamp            duration    number_of_trees    training_rmse    training_logloss    training_classification_error\n",
      "--  -------------------  ----------  -----------------  ---------------  ------------------  -------------------------------\n",
      "    2020-01-17 02:57:45  35.830 sec  0                  nan              nan                 nan\n",
      "    2020-01-17 02:57:47  37.991 sec  5                  0.730496         14.7478             0.594311\n",
      "    2020-01-17 02:57:49  40.052 sec  10                 0.668739         9.17694             0.513103\n",
      "    2020-01-17 02:57:51  42.035 sec  15                 0.652133         6.79883             0.443836\n",
      "    2020-01-17 02:57:53  44.123 sec  20                 0.634459         5.43406             0.378082\n",
      "    2020-01-17 02:57:55  46.037 sec  25                 0.629334         4.51344             0.357534\n",
      "    2020-01-17 02:57:57  47.937 sec  30                 0.62466          4.01395             0.335616\n",
      "    2020-01-17 02:57:59  49.912 sec  35                 0.625566         3.58468             0.332877\n",
      "    2020-01-17 02:58:01  52.025 sec  40                 0.623443         3.23783             0.320548\n",
      "    2020-01-17 02:58:03  53.818 sec  45                 0.622264         3.01774             0.312329\n",
      "    2020-01-17 02:58:05  55.688 sec  50                 0.620867         2.80134             0.306849\n",
      "\n",
      "Variable Importances: \n",
      "variable             relative_importance    scaled_importance    percentage\n",
      "-------------------  ---------------------  -------------------  --------------------\n",
      "waccel_x_avg         952.7653198242188      1.0                  0.040910270070271225\n",
      "mae_y_watch_accel    836.3002319335938      0.8777609916447081   0.0359094392253341\n",
      "mae_z_watch_accel    827.964599609375       0.8690121086293643   0.03555152005836317\n",
      "mae_x_watch_accel    739.4205322265625      0.7760783446263373   0.031749574674352486\n",
      "waccel_y_avg         712.2395629882812      0.7475498406256921   0.030582465870985277\n",
      "---                  ---                    ---                  ---\n",
      "wgyro_x_avg          166.39830017089844     0.17464772983298577  0.007144885794627213\n",
      "hist_y_0_watch_gyro  153.0511932373047      0.16063892130912363  0.006571781654553296\n",
      "hist_z_0_watch_gyro  152.3075408935547      0.1598584013549683   0.006539850372433565\n",
      "hist_x_0_watch_gyro  135.24514770507812     0.1419501160370009   0.005807217583580046\n",
      "hist_x_3_watch_gyro  105.45838928222656     0.11068663718961055  0.004528220220597095"
     ]
    }
   ],
   "source": [
    "h2o.get_model(\"XRT_1_AutoML_20200117_024709\")"
   ]
  },
  {
   "cell_type": "code",
   "execution_count": 104,
   "metadata": {},
   "outputs": [
    {
     "data": {
      "application/vnd.jupyter.widget-view+json": {
       "model_id": "bfec42d15deb416eaacaecbc92017147",
       "version_major": 2,
       "version_minor": 0
      },
      "text/plain": [
       "VBox()"
      ]
     },
     "metadata": {},
     "output_type": "display_data"
    },
    {
     "data": {
      "application/vnd.jupyter.widget-view+json": {
       "model_id": "",
       "version_major": 2,
       "version_minor": 0
      },
      "text/plain": [
       "FloatProgress(value=0.0, bar_style='info', description='Progress:', layout=Layout(height='25px', width='50%'),…"
      ]
     },
     "metadata": {},
     "output_type": "display_data"
    }
   ],
   "source": [
    "# Random Forest Phone Only"
   ]
  },
  {
   "cell_type": "code",
   "execution_count": 105,
   "metadata": {
    "scrolled": true
   },
   "outputs": [
    {
     "data": {
      "application/vnd.jupyter.widget-view+json": {
       "model_id": "94b945fd7325483f913703e394ed7d31",
       "version_major": 2,
       "version_minor": 0
      },
      "text/plain": [
       "VBox()"
      ]
     },
     "metadata": {},
     "output_type": "display_data"
    },
    {
     "data": {
      "application/vnd.jupyter.widget-view+json": {
       "model_id": "",
       "version_major": 2,
       "version_minor": 0
      },
      "text/plain": [
       "FloatProgress(value=0.0, bar_style='info', description='Progress:', layout=Layout(height='25px', width='50%'),…"
      ]
     },
     "metadata": {},
     "output_type": "display_data"
    }
   ],
   "source": [
    "column_names= [l for l in train1.columns if 'p' in l]\n",
    "column_names.append('activity')\n",
    "train2 = train1.select(column_names)\n",
    "valid2 = valid1.select(column_names)"
   ]
  },
  {
   "cell_type": "code",
   "execution_count": 106,
   "metadata": {},
   "outputs": [
    {
     "data": {
      "application/vnd.jupyter.widget-view+json": {
       "model_id": "b783162e98b94e9f8a6e0441026f2889",
       "version_major": 2,
       "version_minor": 0
      },
      "text/plain": [
       "VBox()"
      ]
     },
     "metadata": {},
     "output_type": "display_data"
    },
    {
     "data": {
      "application/vnd.jupyter.widget-view+json": {
       "model_id": "",
       "version_major": 2,
       "version_minor": 0
      },
      "text/plain": [
       "FloatProgress(value=0.0, bar_style='info', description='Progress:', layout=Layout(height='25px', width='50%'),…"
      ]
     },
     "metadata": {},
     "output_type": "display_data"
    }
   ],
   "source": [
    "train2 = train2.drop('person_id')\n",
    "valid2 = valid2.drop('person_id')"
   ]
  },
  {
   "cell_type": "code",
   "execution_count": 107,
   "metadata": {},
   "outputs": [
    {
     "data": {
      "application/vnd.jupyter.widget-view+json": {
       "model_id": "7fbb880af8434b289765f468773cc65a",
       "version_major": 2,
       "version_minor": 0
      },
      "text/plain": [
       "VBox()"
      ]
     },
     "metadata": {},
     "output_type": "display_data"
    },
    {
     "data": {
      "application/vnd.jupyter.widget-view+json": {
       "model_id": "",
       "version_major": 2,
       "version_minor": 0
      },
      "text/plain": [
       "FloatProgress(value=0.0, bar_style='info', description='Progress:', layout=Layout(height='25px', width='50%'),…"
      ]
     },
     "metadata": {},
     "output_type": "display_data"
    },
    {
     "name": "stdout",
     "output_type": "stream",
     "text": [
      "['pgyro_x_avg', 'pgyro_y_avg', 'pgyro_z_avg', 'euclid_pgyro', 'pgyro_x_stdev', 'pgyro_y_stdev', 'pgyro_z_stdev', 'pgyro_x_range', 'pgyro_y_range', 'pgyro_z_range', 'paccel_x_avg', 'paccel_y_avg', 'paccel_z_avg', 'euclid_paccel', 'paccel_x_stdev', 'paccel_y_stdev', 'paccel_z_stdev', 'paccel_x_range', 'paccel_y_range', 'paccel_z_range', 'hist_x_0_phone_gyro', 'hist_x_1_phone_gyro', 'hist_x_2_phone_gyro', 'hist_x_3_phone_gyro', 'hist_y_0_phone_gyro', 'hist_y_1_phone_gyro', 'hist_y_2_phone_gyro', 'hist_y_3_phone_gyro', 'hist_z_0_phone_gyro', 'hist_z_1_phone_gyro', 'hist_z_2_phone_gyro', 'hist_z_3_phone_gyro', 'hist_x_0_phone_accel', 'hist_x_1_phone_accel', 'hist_x_2_phone_accel', 'hist_x_3_phone_accel', 'hist_y_0_phone_accel', 'hist_y_1_phone_accel', 'hist_y_2_phone_accel', 'hist_y_3_phone_accel', 'hist_z_0_phone_accel', 'hist_z_1_phone_accel', 'hist_z_2_phone_accel', 'hist_z_3_phone_accel', 'cov_xy_phone_gyro', 'cov_yz_phone_gyro', 'cov_xz_phone_gyro', 'cov_xy_phone_accel', 'cov_yz_phone_accel', 'cov_xz_phone_accel', 'mae_x_phone_gyro', 'mae_y_phone_gyro', 'mae_z_phone_gyro', 'mae_x_phone_accel', 'mae_y_phone_accel', 'mae_z_phone_accel', 'activity']"
     ]
    }
   ],
   "source": [
    "train2.columns"
   ]
  },
  {
   "cell_type": "code",
   "execution_count": 109,
   "metadata": {},
   "outputs": [
    {
     "data": {
      "application/vnd.jupyter.widget-view+json": {
       "model_id": "5e09eebbf4e8465cb6782a3f5cdda9b6",
       "version_major": 2,
       "version_minor": 0
      },
      "text/plain": [
       "VBox()"
      ]
     },
     "metadata": {},
     "output_type": "display_data"
    },
    {
     "data": {
      "application/vnd.jupyter.widget-view+json": {
       "model_id": "",
       "version_major": 2,
       "version_minor": 0
      },
      "text/plain": [
       "FloatProgress(value=0.0, bar_style='info', description='Progress:', layout=Layout(height='25px', width='50%'),…"
      ]
     },
     "metadata": {},
     "output_type": "display_data"
    }
   ],
   "source": [
    "from pyspark.ml.feature import VectorAssembler\n",
    "from pyspark.ml.evaluation import MulticlassClassificationEvaluator\n",
    "from pyspark.ml.classification import GBTClassifier\n",
    "from pyspark.ml.feature import StringIndexer\n",
    "from pyspark.ml.classification import RandomForestClassifier"
   ]
  },
  {
   "cell_type": "code",
   "execution_count": 110,
   "metadata": {},
   "outputs": [
    {
     "data": {
      "application/vnd.jupyter.widget-view+json": {
       "model_id": "e91921fe68024b609d1d0bb6f0e42244",
       "version_major": 2,
       "version_minor": 0
      },
      "text/plain": [
       "VBox()"
      ]
     },
     "metadata": {},
     "output_type": "display_data"
    },
    {
     "data": {
      "application/vnd.jupyter.widget-view+json": {
       "model_id": "",
       "version_major": 2,
       "version_minor": 0
      },
      "text/plain": [
       "FloatProgress(value=0.0, bar_style='info', description='Progress:', layout=Layout(height='25px', width='50%'),…"
      ]
     },
     "metadata": {},
     "output_type": "display_data"
    }
   ],
   "source": [
    "si = StringIndexer(inputCol=\"activity\", outputCol=\"label\", stringOrderType=\"alphabetDesc\")\n",
    "sm = si.fit(train2)\n",
    "\n",
    "df_train2 = sm.transform(train2).drop(\"activity\")\n",
    "df_test2 = sm.transform(valid2).drop(\"activity\")"
   ]
  },
  {
   "cell_type": "code",
   "execution_count": 111,
   "metadata": {},
   "outputs": [
    {
     "data": {
      "application/vnd.jupyter.widget-view+json": {
       "model_id": "62d17dd234604b1c912735d26ffd12f1",
       "version_major": 2,
       "version_minor": 0
      },
      "text/plain": [
       "VBox()"
      ]
     },
     "metadata": {},
     "output_type": "display_data"
    },
    {
     "data": {
      "application/vnd.jupyter.widget-view+json": {
       "model_id": "",
       "version_major": 2,
       "version_minor": 0
      },
      "text/plain": [
       "FloatProgress(value=0.0, bar_style='info', description='Progress:', layout=Layout(height='25px', width='50%'),…"
      ]
     },
     "metadata": {},
     "output_type": "display_data"
    }
   ],
   "source": [
    "# Merging the data with Vector Assembler.\n",
    "va2 = VectorAssembler(\n",
    "    outputCol=\"features\", inputCols=df_train2.columns[0:-1]\n",
    ")  # except the last col.\n",
    "df_train2 = va2.transform(df_train2).select(\"features\", \"label\").cache()\n",
    "df_test2 = va2.transform(df_test2).select(\"features\", \"label\")"
   ]
  },
  {
   "cell_type": "code",
   "execution_count": 112,
   "metadata": {},
   "outputs": [
    {
     "data": {
      "application/vnd.jupyter.widget-view+json": {
       "model_id": "35a1ad42208d4971864dbc14829d8ca9",
       "version_major": 2,
       "version_minor": 0
      },
      "text/plain": [
       "VBox()"
      ]
     },
     "metadata": {},
     "output_type": "display_data"
    },
    {
     "data": {
      "application/vnd.jupyter.widget-view+json": {
       "model_id": "",
       "version_major": 2,
       "version_minor": 0
      },
      "text/plain": [
       "FloatProgress(value=0.0, bar_style='info', description='Progress:', layout=Layout(height='25px', width='50%'),…"
      ]
     },
     "metadata": {},
     "output_type": "display_data"
    },
    {
     "name": "stdout",
     "output_type": "stream",
     "text": [
      "Summary Stats\n",
      "Precision = 0.30994152046783624\n",
      "Recall = 0.30994152046783624\n",
      "F1 Score = 0.30994152046783624\n",
      "Weighted recall = 0.30994152046783624\n",
      "Weighted precision = 0.3154017522438575\n",
      "Weighted F(1) Score = 0.301589668496409\n",
      "Weighted F(0.5) Score = 0.30663530691171204\n",
      "Weighted false positive rate = 0.03853164562006119\n",
      "Confusion Metrics = \n",
      "DenseMatrix([[1., 0., 0., 0., 0., 0., 0., 0., 0., 0., 0., 1., 0., 0., 0., 0.,\n",
      "              0., 0.],\n",
      "             [4., 0., 0., 0., 0., 0., 1., 0., 0., 1., 0., 2., 0., 0., 1., 0.,\n",
      "              0., 0.],\n",
      "             [0., 0., 1., 0., 0., 0., 2., 1., 1., 0., 0., 0., 2., 2., 4., 0.,\n",
      "              0., 0.],\n",
      "             [0., 0., 0., 2., 2., 2., 0., 0., 0., 1., 0., 0., 0., 0., 0., 2.,\n",
      "              0., 0.],\n",
      "             [2., 0., 0., 2., 2., 1., 0., 0., 0., 0., 0., 0., 0., 0., 0., 0.,\n",
      "              0., 0.],\n",
      "             [0., 0., 0., 1., 0., 9., 0., 0., 0., 0., 0., 0., 0., 0., 0., 0.,\n",
      "              0., 1.],\n",
      "             [0., 0., 1., 0., 0., 0., 0., 0., 2., 1., 1., 0., 1., 1., 1., 0.,\n",
      "              0., 0.],\n",
      "             [0., 2., 0., 0., 0., 0., 1., 1., 0., 2., 2., 0., 1., 0., 4., 0.,\n",
      "              0., 0.],\n",
      "             [2., 0., 0., 0., 0., 0., 3., 2., 0., 0., 1., 0., 1., 0., 0., 0.,\n",
      "              0., 0.],\n",
      "             [0., 1., 0., 1., 0., 0., 0., 0., 2., 1., 0., 1., 1., 0., 1., 0.,\n",
      "              0., 0.],\n",
      "             [1., 1., 0., 0., 0., 0., 0., 0., 1., 3., 0., 1., 0., 1., 3., 0.,\n",
      "              0., 0.],\n",
      "             [2., 2., 0., 0., 0., 0., 2., 0., 0., 0., 0., 0., 0., 0., 1., 0.,\n",
      "              0., 1.],\n",
      "             [0., 0., 2., 0., 0., 0., 0., 1., 1., 1., 1., 0., 1., 0., 0., 0.,\n",
      "              0., 0.],\n",
      "             [1., 0., 0., 0., 0., 0., 1., 0., 0., 0., 0., 2., 0., 7., 2., 0.,\n",
      "              0., 0.],\n",
      "             [0., 1., 1., 0., 0., 0., 0., 0., 1., 1., 2., 1., 0., 0., 4., 0.,\n",
      "              0., 0.],\n",
      "             [0., 0., 0., 0., 0., 1., 0., 0., 0., 0., 0., 0., 0., 0., 0., 7.,\n",
      "              0., 2.],\n",
      "             [0., 0., 0., 0., 0., 0., 0., 0., 0., 0., 0., 0., 0., 0., 0., 0.,\n",
      "              9., 1.],\n",
      "             [0., 0., 0., 0., 0., 2., 0., 0., 0., 0., 0., 0., 0., 0., 0., 1.,\n",
      "              1., 8.]])\n",
      "time: 151.24145770072937"
     ]
    }
   ],
   "source": [
    "import time\n",
    "t = time.time()\n",
    "rf2 = RandomForestClassifier(maxDepth=30, numTrees=200, maxBins=30)\n",
    "rfmodel2 = rf2.fit(df_train2)\n",
    "\n",
    "rfpredicts2 = rfmodel2.transform(df_test2)\n",
    "\n",
    "from pyspark.mllib.evaluation import MulticlassMetrics\n",
    "#prediction and label\n",
    "prediction_label2 = rfpredicts2.select(\"prediction\", \"label\").rdd\n",
    "metrics = MulticlassMetrics(prediction_label2)\n",
    "#accuracy = metrics.accuracy()\n",
    "precision = metrics.precision()\n",
    "recall = metrics.recall()\n",
    "f1Score = metrics.fMeasure()\n",
    "confusionMetrics = metrics.confusionMatrix()\n",
    "print(\"Summary Stats\")\n",
    "#print(\"Accuracy = %s\" % accuracy)\n",
    "print(\"Precision = %s\" % precision)\n",
    "print(\"Recall = %s\" % recall)\n",
    "print(\"F1 Score = %s\" % f1Score)\n",
    "print(\"Weighted recall = %s\" % metrics.weightedRecall)\n",
    "print(\"Weighted precision = %s\" % metrics.weightedPrecision)\n",
    "print(\"Weighted F(1) Score = %s\" % metrics.weightedFMeasure())\n",
    "print(\"Weighted F(0.5) Score = %s\" % metrics.weightedFMeasure(beta=0.5))\n",
    "print(\"Weighted false positive rate = %s\" % metrics.weightedFalsePositiveRate)\n",
    "print(\"Confusion Metrics = \\n%s\" % confusionMetrics)\n",
    "\n",
    "print(\"time:\", time.time()-t)"
   ]
  },
  {
   "cell_type": "code",
   "execution_count": 113,
   "metadata": {},
   "outputs": [
    {
     "data": {
      "application/vnd.jupyter.widget-view+json": {
       "model_id": "2b7bfdfe0b6f4eaaad5a472a81883413",
       "version_major": 2,
       "version_minor": 0
      },
      "text/plain": [
       "VBox()"
      ]
     },
     "metadata": {},
     "output_type": "display_data"
    },
    {
     "data": {
      "application/vnd.jupyter.widget-view+json": {
       "model_id": "",
       "version_major": 2,
       "version_minor": 0
      },
      "text/plain": [
       "FloatProgress(value=0.0, bar_style='info', description='Progress:', layout=Layout(height='25px', width='50%'),…"
      ]
     },
     "metadata": {},
     "output_type": "display_data"
    },
    {
     "name": "stdout",
     "output_type": "stream",
     "text": [
      "0.30994152046783624"
     ]
    }
   ],
   "source": [
    "metrics.accuracy"
   ]
  },
  {
   "cell_type": "markdown",
   "metadata": {},
   "source": [
    "## H2O - XGboost"
   ]
  },
  {
   "cell_type": "code",
   "execution_count": 10,
   "metadata": {},
   "outputs": [
    {
     "data": {
      "application/vnd.jupyter.widget-view+json": {
       "model_id": "faf71453bab74e749f0cf97e2b646a32",
       "version_major": 2,
       "version_minor": 0
      },
      "text/plain": [
       "VBox()"
      ]
     },
     "metadata": {},
     "output_type": "display_data"
    },
    {
     "data": {
      "application/vnd.jupyter.widget-view+json": {
       "model_id": "",
       "version_major": 2,
       "version_minor": 0
      },
      "text/plain": [
       "FloatProgress(value=0.0, bar_style='info', description='Progress:', layout=Layout(height='25px', width='50%'),…"
      ]
     },
     "metadata": {},
     "output_type": "display_data"
    },
    {
     "name": "stdout",
     "output_type": "stream",
     "text": [
      "Processing /var/lib/livy/.cache/pip/wheels/0d/2f/d2/7e0c36c53b57ca597430858ab3d72e1a612a10780016ff6765/h2o_pysparkling_2.4-3.28.0.1.post1-py2.py3-none-any.whl\n",
      "Requirement already satisfied: numpy>=1.9.2 in /usr/local/lib64/python3.6/site-packages (from h2o-pysparkling-2.4) (1.14.5)\n",
      "Processing /var/lib/livy/.cache/pip/wheels/9c/9b/f4/eb243fdb89676ec00588e8c54bb54360724c06e7fafe95278e/tabulate-0.8.6-cp36-none-any.whl\n",
      "Processing /var/lib/livy/.cache/pip/wheels/ab/09/4d/0d184230058e654eb1b04467dbc1292f00eaa186544604b471/pyspark-2.4.4-py2.py3-none-any.whl\n",
      "Collecting colorama>=0.3.8\n",
      "  Using cached https://files.pythonhosted.org/packages/c9/dc/45cdef1b4d119eb96316b3117e6d5708a08029992b2fee2c143c7a0a5cc5/colorama-0.4.3-py2.py3-none-any.whl\n",
      "Collecting requests\n",
      "  Using cached https://files.pythonhosted.org/packages/51/bd/23c926cd341ea6b7dd0b2a00aba99ae0f828be89d72b2190f27c11d4b7fb/requests-2.22.0-py2.py3-none-any.whl\n",
      "Processing /var/lib/livy/.cache/pip/wheels/8b/99/a0/81daf51dcd359a9377b110a8a886b3895921802d2fc1b2397e/future-0.18.2-cp36-none-any.whl\n",
      "Collecting py4j==0.10.7\n",
      "  Using cached https://files.pythonhosted.org/packages/e3/53/c737818eb9a7dc32a7cd4f1396e787bd94200c3997c72c1dbe028587bd76/py4j-0.10.7-py2.py3-none-any.whl\n",
      "Collecting idna<2.9,>=2.5\n",
      "  Using cached https://files.pythonhosted.org/packages/14/2c/cd551d81dbe15200be1cf41cd03869a46fe7226e7450af7a6545bfc474c9/idna-2.8-py2.py3-none-any.whl\n",
      "Collecting certifi>=2017.4.17\n",
      "  Using cached https://files.pythonhosted.org/packages/b9/63/df50cac98ea0d5b006c55a399c3bf1db9da7b5a24de7890bc9cfd5dd9e99/certifi-2019.11.28-py2.py3-none-any.whl\n",
      "Collecting urllib3!=1.25.0,!=1.25.1,<1.26,>=1.21.1\n",
      "  Using cached https://files.pythonhosted.org/packages/b4/40/a9837291310ee1ccc242ceb6ebfd9eb21539649f193a7c8c86ba15b98539/urllib3-1.25.7-py2.py3-none-any.whl\n",
      "Collecting chardet<3.1.0,>=3.0.2\n",
      "  Using cached https://files.pythonhosted.org/packages/bc/a9/01ffebfb562e4274b6487b4bb1ddec7ca55ec7510b22e4c51f14098443b8/chardet-3.0.4-py2.py3-none-any.whl\n",
      "Installing collected packages: tabulate, py4j, pyspark, colorama, idna, certifi, urllib3, chardet, requests, future, h2o-pysparkling-2.4\n",
      "Successfully installed certifi-2019.11.28 chardet-3.0.4 colorama-0.4.3 future-0.18.2 h2o-pysparkling-2.4-3.28.0.1.post1 idna-2.8 py4j-0.10.7 pyspark-2.4.4 requests-2.22.0 tabulate-0.8.6 urllib3-1.25.7\n",
      "\n",
      "Processing /var/lib/livy/.cache/pip/wheels/ff/82/f4/3fe9c895b93c53b25ae44dc44aa54dad571c711f48bc485fe9/h2o-3.28.0.1-py2.py3-none-any.whl\n",
      "Requirement already satisfied: tabulate in /mnt/tmp/1579231906276-0/lib/python3.6/site-packages (from h2o) (0.8.6)\n",
      "Requirement already satisfied: colorama>=0.3.8 in /mnt/tmp/1579231906276-0/lib/python3.6/site-packages (from h2o) (0.4.3)\n",
      "Requirement already satisfied: requests in /mnt/tmp/1579231906276-0/lib/python3.6/site-packages (from h2o) (2.22.0)\n",
      "Requirement already satisfied: future in /mnt/tmp/1579231906276-0/lib/python3.6/site-packages (from h2o) (0.18.2)\n",
      "Requirement already satisfied: idna<2.9,>=2.5 in /mnt/tmp/1579231906276-0/lib/python3.6/site-packages (from requests->h2o) (2.8)\n",
      "Requirement already satisfied: certifi>=2017.4.17 in /mnt/tmp/1579231906276-0/lib/python3.6/site-packages (from requests->h2o) (2019.11.28)\n",
      "Requirement already satisfied: urllib3!=1.25.0,!=1.25.1,<1.26,>=1.21.1 in /mnt/tmp/1579231906276-0/lib/python3.6/site-packages (from requests->h2o) (1.25.7)\n",
      "Requirement already satisfied: chardet<3.1.0,>=3.0.2 in /mnt/tmp/1579231906276-0/lib/python3.6/site-packages (from requests->h2o) (3.0.4)\n",
      "Installing collected packages: h2o\n",
      "Successfully installed h2o-3.28.0.1\n",
      "\n",
      "Package                    Version       \n",
      "-------------------------- --------------\n",
      "beautifulsoup4             4.8.1         \n",
      "boto                       2.49.0        \n",
      "certifi                    2019.11.28    \n",
      "chardet                    3.0.4         \n",
      "colorama                   0.4.3         \n",
      "future                     0.18.2        \n",
      "h2o                        3.28.0.1      \n",
      "h2o-pysparkling-2.4        3.28.0.1.post1\n",
      "idna                       2.8           \n",
      "jmespath                   0.9.4         \n",
      "lxml                       4.4.1         \n",
      "mysqlclient                1.4.4         \n",
      "nltk                       3.4.5         \n",
      "nose                       1.3.4         \n",
      "numpy                      1.14.5        \n",
      "pip                        19.3.1        \n",
      "py-dateutil                2.2           \n",
      "py4j                       0.10.7        \n",
      "pyspark                    2.4.4         \n",
      "python36-sagemaker-pyspark 1.2.6         \n",
      "pytz                       2019.3        \n",
      "PyYAML                     3.11          \n",
      "requests                   2.22.0        \n",
      "setuptools                 45.0.0        \n",
      "six                        1.12.0        \n",
      "soupsieve                  1.9.4         \n",
      "tabulate                   0.8.6         \n",
      "urllib3                    1.25.7        \n",
      "wheel                      0.33.6        \n",
      "windmill                   1.6           \n",
      "\n",
      "ERROR: python36-sagemaker-pyspark 1.2.6 has requirement pyspark==2.3.2, but you'll have pyspark 2.4.4 which is incompatible."
     ]
    }
   ],
   "source": [
    "sc.install_pypi_package(\"h2o-pysparkling-2.4\")\n",
    "sc.install_pypi_package(\"h2o\")\n",
    "sc.list_packages()"
   ]
  },
  {
   "cell_type": "code",
   "execution_count": 11,
   "metadata": {},
   "outputs": [
    {
     "data": {
      "application/vnd.jupyter.widget-view+json": {
       "model_id": "1b9d6c2a02174af78e17fa206f4cc98c",
       "version_major": 2,
       "version_minor": 0
      },
      "text/plain": [
       "VBox()"
      ]
     },
     "metadata": {},
     "output_type": "display_data"
    },
    {
     "data": {
      "application/vnd.jupyter.widget-view+json": {
       "model_id": "",
       "version_major": 2,
       "version_minor": 0
      },
      "text/plain": [
       "FloatProgress(value=0.0, bar_style='info', description='Progress:', layout=Layout(height='25px', width='50%'),…"
      ]
     },
     "metadata": {},
     "output_type": "display_data"
    },
    {
     "name": "stdout",
     "output_type": "stream",
     "text": [
      "Connecting to H2O server at http://ip-172-31-15-185.us-west-1.compute.internal:54325 ... successful.\n",
      "--------------------------  ------------------------------------------------------------------\n",
      "H2O cluster uptime:         07 secs\n",
      "H2O cluster timezone:       Etc/UCT\n",
      "H2O data parsing timezone:  UTC\n",
      "H2O cluster version:        3.28.0.1\n",
      "H2O cluster version age:    1 month\n",
      "H2O cluster name:           sparkling-water-livy_application_1579220573480_0009\n",
      "H2O cluster total nodes:    2\n",
      "H2O cluster free memory:    18.08 Gb\n",
      "H2O cluster total cores:    8\n",
      "H2O cluster allowed cores:  8\n",
      "H2O cluster status:         accepting new members, healthy\n",
      "H2O connection url:         http://ip-172-31-15-185.us-west-1.compute.internal:54325\n",
      "H2O connection proxy:\n",
      "H2O internal security:      False\n",
      "H2O API Extensions:         XGBoost, Algos, Amazon S3, AutoML, Core V3, TargetEncoder, Core V4\n",
      "Python version:             3.6.8 final\n",
      "--------------------------  ------------------------------------------------------------------\n",
      "\n",
      "Sparkling Water Context:\n",
      " * Sparkling Water Version: 3.28.0.1-1-2.4\n",
      " * H2O name: sparkling-water-livy_application_1579220573480_0009\n",
      " * cluster size: 2\n",
      " * list of used nodes:\n",
      "  (executorId, host, port)\n",
      "  ------------------------\n",
      "  (2,172.31.7.32,54321)\n",
      "  (1,172.31.0.174,54321)\n",
      "  ------------------------\n",
      "\n",
      "  Open H2O Flow in browser: http://ip-172-31-15-185.us-west-1.compute.internal:54325 (CMD + click in Mac OSX)\n",
      "\n",
      "    \n",
      " * Yarn App ID of Spark application: application_1579220573480_0009"
     ]
    }
   ],
   "source": [
    "import pyspark\n",
    "ss = pyspark.sql.SparkSession.builder.master('yarn')\\\n",
    ".config(\"spark.dynamicAllocation.enabled\", True)\\\n",
    ".getOrCreate()\n",
    "from pysparkling import *\n",
    "import h2o\n",
    "hc = H2OContext.getOrCreate(ss)"
   ]
  },
  {
   "cell_type": "code",
   "execution_count": 114,
   "metadata": {},
   "outputs": [
    {
     "data": {
      "application/vnd.jupyter.widget-view+json": {
       "model_id": "53d672aa31c94a2998239f8211d603ae",
       "version_major": 2,
       "version_minor": 0
      },
      "text/plain": [
       "VBox()"
      ]
     },
     "metadata": {},
     "output_type": "display_data"
    },
    {
     "data": {
      "application/vnd.jupyter.widget-view+json": {
       "model_id": "",
       "version_major": 2,
       "version_minor": 0
      },
      "text/plain": [
       "FloatProgress(value=0.0, bar_style='info', description='Progress:', layout=Layout(height='25px', width='50%'),…"
      ]
     },
     "metadata": {},
     "output_type": "display_data"
    }
   ],
   "source": [
    "h2o_train_frame1 = hc.as_h2o_frame(train1, \"df_train3\")"
   ]
  },
  {
   "cell_type": "code",
   "execution_count": 115,
   "metadata": {},
   "outputs": [
    {
     "data": {
      "application/vnd.jupyter.widget-view+json": {
       "model_id": "dbbf0029a6fa4f33823fd8671c9d4d41",
       "version_major": 2,
       "version_minor": 0
      },
      "text/plain": [
       "VBox()"
      ]
     },
     "metadata": {},
     "output_type": "display_data"
    },
    {
     "data": {
      "application/vnd.jupyter.widget-view+json": {
       "model_id": "",
       "version_major": 2,
       "version_minor": 0
      },
      "text/plain": [
       "FloatProgress(value=0.0, bar_style='info', description='Progress:', layout=Layout(height='25px', width='50%'),…"
      ]
     },
     "metadata": {},
     "output_type": "display_data"
    }
   ],
   "source": [
    "h2o_valid_frame1 = hc.as_h2o_frame(valid1, \"df_test3\")"
   ]
  },
  {
   "cell_type": "code",
   "execution_count": 116,
   "metadata": {},
   "outputs": [
    {
     "data": {
      "application/vnd.jupyter.widget-view+json": {
       "model_id": "e66d02aea42649b0b32442eddb8ca1e1",
       "version_major": 2,
       "version_minor": 0
      },
      "text/plain": [
       "VBox()"
      ]
     },
     "metadata": {},
     "output_type": "display_data"
    },
    {
     "data": {
      "application/vnd.jupyter.widget-view+json": {
       "model_id": "",
       "version_major": 2,
       "version_minor": 0
      },
      "text/plain": [
       "FloatProgress(value=0.0, bar_style='info', description='Progress:', layout=Layout(height='25px', width='50%'),…"
      ]
     },
     "metadata": {},
     "output_type": "display_data"
    }
   ],
   "source": [
    "h2o_train_frame1['activity'] = h2o_train_frame1['activity'].asfactor()"
   ]
  },
  {
   "cell_type": "code",
   "execution_count": 117,
   "metadata": {},
   "outputs": [
    {
     "data": {
      "application/vnd.jupyter.widget-view+json": {
       "model_id": "77b7abd0c95a4763a070997754a46926",
       "version_major": 2,
       "version_minor": 0
      },
      "text/plain": [
       "VBox()"
      ]
     },
     "metadata": {},
     "output_type": "display_data"
    },
    {
     "data": {
      "application/vnd.jupyter.widget-view+json": {
       "model_id": "",
       "version_major": 2,
       "version_minor": 0
      },
      "text/plain": [
       "FloatProgress(value=0.0, bar_style='info', description='Progress:', layout=Layout(height='25px', width='50%'),…"
      ]
     },
     "metadata": {},
     "output_type": "display_data"
    }
   ],
   "source": [
    "predictors = [l for l in train1.columns if 'p' in l].remove('person_id')\n",
    "response = \"activity\""
   ]
  },
  {
   "cell_type": "code",
   "execution_count": 118,
   "metadata": {},
   "outputs": [
    {
     "data": {
      "application/vnd.jupyter.widget-view+json": {
       "model_id": "6ef371686c944488bc232d580353777b",
       "version_major": 2,
       "version_minor": 0
      },
      "text/plain": [
       "VBox()"
      ]
     },
     "metadata": {},
     "output_type": "display_data"
    },
    {
     "data": {
      "application/vnd.jupyter.widget-view+json": {
       "model_id": "",
       "version_major": 2,
       "version_minor": 0
      },
      "text/plain": [
       "FloatProgress(value=0.0, bar_style='info', description='Progress:', layout=Layout(height='25px', width='50%'),…"
      ]
     },
     "metadata": {},
     "output_type": "display_data"
    },
    {
     "name": "stdout",
     "output_type": "stream",
     "text": [
      "xgboost Model Build progress: [###########################################] 100%\n",
      "time: 179.35899567604065"
     ]
    }
   ],
   "source": [
    "t = time.time()\n",
    "from h2o.estimators.xgboost import H2OXGBoostEstimator\n",
    "model_xg = H2OXGBoostEstimator()\n",
    "model_xg.train(x=predictors,\n",
    "               y=\"activity\",\n",
    "               training_frame=h2o_train_frame1,\n",
    "               validation_frame=h2o_valid_frame1)\n",
    "print(\"time:\", time.time()-t)"
   ]
  },
  {
   "cell_type": "code",
   "execution_count": 120,
   "metadata": {},
   "outputs": [
    {
     "data": {
      "application/vnd.jupyter.widget-view+json": {
       "model_id": "44028f31696844f38b8d06887e59a8b3",
       "version_major": 2,
       "version_minor": 0
      },
      "text/plain": [
       "VBox()"
      ]
     },
     "metadata": {},
     "output_type": "display_data"
    },
    {
     "data": {
      "application/vnd.jupyter.widget-view+json": {
       "model_id": "",
       "version_major": 2,
       "version_minor": 0
      },
      "text/plain": [
       "FloatProgress(value=0.0, bar_style='info', description='Progress:', layout=Layout(height='25px', width='50%'),…"
      ]
     },
     "metadata": {},
     "output_type": "display_data"
    },
    {
     "name": "stdout",
     "output_type": "stream",
     "text": [
      "\n",
      "Confusion Matrix: Row labels: Actual class; Column labels: Predicted class\n",
      "A    B    C    D    E    F    G    H    I    J    K    L    M    O    P    Q    R    S    Error    Rate\n",
      "---  ---  ---  ---  ---  ---  ---  ---  ---  ---  ---  ---  ---  ---  ---  ---  ---  ---  -------  -------\n",
      "39   0    0    0    0    0    0    0    0    0    0    0    0    0    0    0    0    0    0        0 / 39\n",
      "0    39   0    0    0    0    0    0    0    0    0    0    0    0    0    0    0    0    0        0 / 39\n",
      "0    0    38   0    0    0    0    0    0    0    0    0    0    0    0    0    0    0    0        0 / 38\n",
      "0    0    0    40   0    0    0    0    0    0    0    0    0    0    0    0    0    0    0        0 / 40\n",
      "0    0    0    0    37   0    0    0    0    0    0    0    0    0    0    0    0    0    0        0 / 37\n",
      "0    0    0    0    0    42   0    0    0    0    0    0    0    0    0    0    0    0    0        0 / 42\n",
      "0    0    0    0    0    0    43   0    0    0    0    0    0    0    0    0    0    0    0        0 / 43\n",
      "0    0    0    0    0    0    0    39   0    0    0    0    0    0    0    0    0    0    0        0 / 39\n",
      "0    0    0    0    0    0    0    0    42   0    0    0    0    0    0    0    0    0    0        0 / 42\n",
      "0    0    0    0    0    0    0    0    0    40   0    0    0    0    0    0    0    0    0        0 / 40\n",
      "0    0    0    0    0    0    0    0    0    0    38   0    0    0    0    0    0    0    0        0 / 38\n",
      "0    0    0    0    0    0    0    0    0    0    0    41   0    0    0    0    0    0    0        0 / 41\n",
      "0    0    0    0    0    0    0    0    0    0    0    0    40   0    0    0    0    0    0        0 / 40\n",
      "0    0    0    0    0    0    0    0    0    0    0    0    0    42   0    0    0    0    0        0 / 42\n",
      "0    0    0    0    0    0    0    0    0    0    0    0    0    0    42   0    0    0    0        0 / 42\n",
      "0    0    0    0    0    0    0    0    0    0    0    0    0    0    0    37   0    0    0        0 / 37\n",
      "0    0    0    0    0    0    0    0    0    0    0    0    0    0    0    0    42   0    0        0 / 42\n",
      "0    0    0    0    0    0    0    0    0    0    0    0    0    0    0    0    0    49   0        0 / 49\n",
      "39   39   38   40   37   42   43   39   42   40   38   41   40   42   42   37   42   49   0        0 / 730\n",
      "\n",
      "\n",
      "Confusion Matrix: Row labels: Actual class; Column labels: Predicted class\n",
      "A    B    C    D    E    F    G    H    I    J    K    L    M    O    P    Q    R    S    Error     Rate\n",
      "---  ---  ---  ---  ---  ---  ---  ---  ---  ---  ---  ---  ---  ---  ---  ---  ---  ---  --------  --------\n",
      "7    0    4    0    0    0    0    0    0    0    0    0    1    0    0    0    0    0    0.416667  5 / 12\n",
      "0    10   0    0    0    0    0    0    0    0    0    0    0    0    0    0    0    0    0         0 / 10\n",
      "2    0    8    0    0    0    0    0    0    0    0    0    0    0    0    0    0    0    0.2       2 / 10\n",
      "0    0    0    6    0    2    0    0    0    1    1    1    0    0    0    0    0    0    0.454545  5 / 11\n",
      "0    0    0    0    9    0    0    0    0    1    2    1    0    0    0    0    0    0    0.307692  4 / 13\n",
      "0    0    0    0    0    4    0    0    0    0    0    0    0    0    0    3    0    0    0.428571  3 / 7\n",
      "0    0    0    0    0    0    4    1    0    0    0    0    1    0    0    0    2    0    0.5       4 / 8\n",
      "0    0    0    0    0    0    0    4    1    1    2    2    0    0    0    1    0    0    0.636364  7 / 11\n",
      "0    0    0    0    0    0    0    0    6    1    0    1    0    0    0    0    0    0    0.25      2 / 8\n",
      "0    0    0    0    0    0    0    2    0    6    0    0    0    0    0    1    0    0    0.333333  3 / 9\n",
      "0    0    0    0    0    0    0    1    0    0    8    4    0    0    0    0    0    0    0.384615  5 / 13\n",
      "0    0    0    0    0    0    1    0    0    0    3    3    0    0    0    0    1    0    0.625     5 / 8\n",
      "0    0    2    0    0    0    0    0    0    0    0    0    8    1    0    0    0    0    0.272727  3 / 11\n",
      "0    0    0    0    0    0    0    0    0    0    0    0    0    6    1    0    0    0    0.142857  1 / 7\n",
      "0    0    1    0    0    0    0    0    0    0    0    0    0    0    7    0    1    0    0.222222  2 / 9\n",
      "0    0    0    1    0    1    0    0    0    0    0    1    0    0    0    10   0    0    0.230769  3 / 13\n",
      "0    0    0    0    0    0    1    0    0    0    0    0    0    0    0    0    8    0    0.111111  1 / 9\n",
      "0    0    0    0    0    0    0    0    0    0    0    0    0    0    0    0    0    2    0         0 / 2\n",
      "9    10   15   7    9    7    6    8    7    10   16   13   10   7    8    15   12   2    0.321637  55 / 171"
     ]
    }
   ],
   "source": [
    "print(model_xg.confusion_matrix(h2o_train_frame1))\n",
    "print(model_xg.confusion_matrix(h2o_valid_frame1))"
   ]
  },
  {
   "cell_type": "code",
   "execution_count": null,
   "metadata": {},
   "outputs": [],
   "source": []
  },
  {
   "cell_type": "code",
   "execution_count": null,
   "metadata": {},
   "outputs": [],
   "source": []
  }
 ],
 "metadata": {
  "kernelspec": {
   "display_name": "Python 3",
   "language": "python",
   "name": "python3"
  },
  "language_info": {
   "codemirror_mode": {
    "name": "ipython",
    "version": 3
   },
   "file_extension": ".py",
   "mimetype": "text/x-python",
   "name": "python",
   "nbconvert_exporter": "python",
   "pygments_lexer": "ipython3",
   "version": "3.7.4"
  }
 },
 "nbformat": 4,
 "nbformat_minor": 2
}
